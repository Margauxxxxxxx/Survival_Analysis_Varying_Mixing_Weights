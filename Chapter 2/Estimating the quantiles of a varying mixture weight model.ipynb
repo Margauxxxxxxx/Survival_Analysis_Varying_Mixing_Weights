{
 "cells": [
  {
   "cell_type": "markdown",
   "metadata": {},
   "source": [
    "# Estimating the quantiles of a varying mixture weight model"
   ]
  },
  {
   "cell_type": "markdown",
   "metadata": {},
   "source": [
    "Margaux Thorez"
   ]
  },
  {
   "cell_type": "markdown",
   "metadata": {},
   "source": [
    "## 1- Contextualisation"
   ]
  },
  {
   "cell_type": "markdown",
   "metadata": {},
   "source": [
    "In order to monitor absenteeism in a company or professional sector, several indicators can be taken into account. In addition to analyzing the average duration of sick leaves, an interesting indicator for understanding absenteeism is the median duration.  Indeed, median analysis is more robust than mean analysis, especially in the case of extreme values that may be present at one end of the distribution. \n",
    "\n",
    "Now that we've presented our variable-weight mixture estimators, and compared the estimators of the survival functions of Ryzhov and Maiboroda. We now turn our attention to estimating the median duration for variable-weight mixture models."
   ]
  },
  {
   "cell_type": "markdown",
   "metadata": {},
   "source": [
    "For $q \\in ]0;1[$, the $q^{th}$ quantile of a random variable $X$ with distribution function $F$ can be defined using the generalized inverse function\n",
    "$$\\mu_{q} \\equiv F^{-1} (q) = \\inf\\left\\{ x | F(x) \\geq q \\right\\}.$$\n",
    "\n",
    "The median survival time is the time $\\mu_{0.5}$ for which the probability of survival is 0.5, i.e. $S(\\mu_{0.5})=0.5$. In some cases, the time $\\mu_{0.5}$ is not unique or does not exist. In these cases, the generalized inverse function must be used. The median is then the value $\\mu := \\inf\\{ t : S(t) \\leq 0.5\\}$. For estimation, the survival function is replaced by the estimator $\\hat{S}_1(t)$ and we have $\\inf\\{ t : \\hat{F}_1(t) \\geq 0.5 \\} = \\inf\\{ t : \\hat{S}_1(t) \\leq 0.5\\}$. "
   ]
  },
  {
   "cell_type": "markdown",
   "metadata": {},
   "source": [
    "Let $q \\in ]0;1[$ and $\\mu_q$ be the quantile of order $q$ of group 1. Let be the Ryzhov model. We assume that the probability density of class 1 is a continuous function at the point $\\mu_q$ and such that $f_1(\\mu_q) > 0$. We have shown that \n",
    "\n",
    "$$ W_n\\left(\\hat{\\mu}_q - \\mu_q\\right) \\xrightarrow[n \\rightarrow +\\infty ]{\\mathcal{L}} \\mathcal{N}(0,1),$$\n",
    "\n",
    "with $W_n = \\frac{\\sqrt{n}}{\\sigma_{AB}} \\mbox{ and } \\sigma_{AB}^2 = \\frac{1}{f_1(\\mu_q)^2}\\left(\\frac{a_1(A)^2}{\\alpha}F_A(\\mu_q)\\left(1 - F_A(\\mu_q)\\right) + \\frac{a_1(B)^2}{\\beta}F_B(\\mu_q)\\left(1 - F_B(\\mu_q)\\right)\\right)$. "
   ]
  },
  {
   "cell_type": "markdown",
   "metadata": {},
   "source": [
    "We will illustrate this result with a few simulations."
   ]
  },
  {
   "cell_type": "markdown",
   "metadata": {},
   "source": [
    "## 2- Libraries import"
   ]
  },
  {
   "cell_type": "code",
   "execution_count": 1,
   "metadata": {},
   "outputs": [],
   "source": [
    "#Libraries import\n",
    "#Basic librairies\n",
    "import numpy as np\n",
    "import pandas as pd\n",
    "import matplotlib.pyplot as plt\n",
    "from math import *\n",
    "from scipy import stats\n",
    "import random\n",
    "import statistics\n",
    "import seaborn as sns\n",
    "\n",
    "#scikit-survival Kaplan-Meier estimator\n",
    "from sksurv.nonparametric import kaplan_meier_estimator\n",
    "\n",
    "#Interpolation\n",
    "from scipy.interpolate import interp1d\n",
    "\n",
    "#CVXPY for convex optimization problems.\n",
    "import cvxpy as cp\n",
    "\n",
    "#Numba import\n",
    "from numba import njit, vectorize\n",
    "\n",
    "#Parallelization modules\n",
    "from sklearn.utils._joblib import Parallel, delayed\n",
    "\n",
    "#Kolmogorov-Smirnov Test\n",
    "from scipy.stats import ks_2samp\n",
    "from scipy.stats import kstest\n",
    "\n",
    "#Normality Test\n",
    "from scipy.stats import skew\n",
    "from scipy.stats import kurtosis\n",
    "from scipy.stats import norm\n",
    "\n",
    "import statsmodels.stats.diagnostic\n",
    "\n",
    "#Notebook\n",
    "from jyquickhelper import add_notebook_menu\n",
    "import warnings\n",
    "warnings.filterwarnings('ignore')"
   ]
  },
  {
   "cell_type": "code",
   "execution_count": 41,
   "metadata": {},
   "outputs": [
    {
     "data": {
      "text/html": [
       "<div id=\"my_id_menu_nb\">run previous cell, wait for 2 seconds</div>\n",
       "<script>\n",
       "function repeat_indent_string(n){\n",
       "    var a = \"\" ;\n",
       "    for ( ; n > 0 ; --n)\n",
       "        a += \"    \";\n",
       "    return a;\n",
       "}\n",
       "// look up into all sections and builds an automated menu //\n",
       "var update_menu_string = function(begin, lfirst, llast, sformat, send, keep_item, begin_format, end_format) {\n",
       "    var anchors = document.getElementsByClassName(\"section\");\n",
       "    if (anchors.length == 0) {\n",
       "        anchors = document.getElementsByClassName(\"text_cell_render rendered_html\");\n",
       "    }\n",
       "    var i,t;\n",
       "    var text_menu = begin;\n",
       "    var text_memo = \"<pre>\\nlength:\" + anchors.length + \"\\n\";\n",
       "    var ind = \"\";\n",
       "    var memo_level = 1;\n",
       "    var href;\n",
       "    var tags = [];\n",
       "    var main_item = 0;\n",
       "    var format_open = 0;\n",
       "    for (i = 0; i <= llast; i++)\n",
       "        tags.push(\"h\" + i);\n",
       "\n",
       "    for (i = 0; i < anchors.length; i++) {\n",
       "        text_memo += \"**\" + anchors[i].id + \"--\\n\";\n",
       "\n",
       "        var child = null;\n",
       "        for(t = 0; t < tags.length; t++) {\n",
       "            var r = anchors[i].getElementsByTagName(tags[t]);\n",
       "            if (r.length > 0) {\n",
       "child = r[0];\n",
       "break;\n",
       "            }\n",
       "        }\n",
       "        if (child == null) {\n",
       "            text_memo += \"null\\n\";\n",
       "            continue;\n",
       "        }\n",
       "        if (anchors[i].hasAttribute(\"id\")) {\n",
       "            // when converted in RST\n",
       "            href = anchors[i].id;\n",
       "            text_memo += \"#1-\" + href;\n",
       "            // passer à child suivant (le chercher)\n",
       "        }\n",
       "        else if (child.hasAttribute(\"id\")) {\n",
       "            // in a notebook\n",
       "            href = child.id;\n",
       "            text_memo += \"#2-\" + href;\n",
       "        }\n",
       "        else {\n",
       "            text_memo += \"#3-\" + \"*\" + \"\\n\";\n",
       "            continue;\n",
       "        }\n",
       "        var title = child.textContent;\n",
       "        var level = parseInt(child.tagName.substring(1,2));\n",
       "\n",
       "        text_memo += \"--\" + level + \"?\" + lfirst + \"--\" + title + \"\\n\";\n",
       "\n",
       "        if ((level < lfirst) || (level > llast)) {\n",
       "            continue ;\n",
       "        }\n",
       "        if (title.endsWith('¶')) {\n",
       "            title = title.substring(0,title.length-1).replace(\"<\", \"&lt;\")\n",
       "         .replace(\">\", \"&gt;\").replace(\"&\", \"&amp;\");\n",
       "        }\n",
       "        if (title.length == 0) {\n",
       "            continue;\n",
       "        }\n",
       "\n",
       "        while (level < memo_level) {\n",
       "            text_menu += end_format + \"</ul>\\n\";\n",
       "            format_open -= 1;\n",
       "            memo_level -= 1;\n",
       "        }\n",
       "        if (level == lfirst) {\n",
       "            main_item += 1;\n",
       "        }\n",
       "        if (keep_item != -1 && main_item != keep_item + 1) {\n",
       "            // alert(main_item + \" - \" + level + \" - \" + keep_item);\n",
       "            continue;\n",
       "        }\n",
       "        while (level > memo_level) {\n",
       "            text_menu += \"<ul>\\n\";\n",
       "            memo_level += 1;\n",
       "        }\n",
       "        text_menu += repeat_indent_string(level-2);\n",
       "        text_menu += begin_format + sformat.replace(\"__HREF__\", href).replace(\"__TITLE__\", title);\n",
       "        format_open += 1;\n",
       "    }\n",
       "    while (1 < memo_level) {\n",
       "        text_menu += end_format + \"</ul>\\n\";\n",
       "        memo_level -= 1;\n",
       "        format_open -= 1;\n",
       "    }\n",
       "    text_menu += send;\n",
       "    //text_menu += \"\\n\" + text_memo;\n",
       "\n",
       "    while (format_open > 0) {\n",
       "        text_menu += end_format;\n",
       "        format_open -= 1;\n",
       "    }\n",
       "    return text_menu;\n",
       "};\n",
       "var update_menu = function() {\n",
       "    var sbegin = \"\";\n",
       "    var sformat = '<a href=\"#__HREF__\">__TITLE__</a>';\n",
       "    var send = \"\";\n",
       "    var begin_format = '<li>';\n",
       "    var end_format = '</li>';\n",
       "    var keep_item = -1;\n",
       "    var text_menu = update_menu_string(sbegin, 2, 4, sformat, send, keep_item,\n",
       "       begin_format, end_format);\n",
       "    var menu = document.getElementById(\"my_id_menu_nb\");\n",
       "    menu.innerHTML=text_menu;\n",
       "};\n",
       "window.setTimeout(update_menu,2000);\n",
       "            </script>"
      ],
      "text/plain": [
       "<IPython.core.display.HTML object>"
      ]
     },
     "execution_count": 41,
     "metadata": {},
     "output_type": "execute_result"
    }
   ],
   "source": [
    "add_notebook_menu()"
   ]
  },
  {
   "cell_type": "markdown",
   "metadata": {},
   "source": [
    "## 3- Optimized functions"
   ]
  },
  {
   "cell_type": "markdown",
   "metadata": {},
   "source": [
    "For the law parameter choice, we have to choose the parameter \"law\" among \"exponnential\", \"pareto\", \"weibull\" and \"gamma\""
   ]
  },
  {
   "cell_type": "markdown",
   "metadata": {},
   "source": [
    "### Survival functions"
   ]
  },
  {
   "cell_type": "code",
   "execution_count": 3,
   "metadata": {},
   "outputs": [],
   "source": [
    "#Survival functions : returns the survival function of a mixture model for a certain law\n",
    "def S(x,P1,P2,law,lambd1,lambd2):\n",
    "    if law == \"exponnential\":\n",
    "        S = P1*stats.expon.sf(x, scale=lambd1) + P2*stats.expon.sf(x, scale=lambd2)\n",
    "    if law == \"pareto\":\n",
    "        #Certain parameters of the Pareto law have been fixed in order to obtain a function with characteristics similar to the survival functions found for sick leaves\n",
    "        S = P1*stats.pareto.sf(x, b=3, loc = -(2/3)*lambd1, scale=(2/3)*lambd1) + P2*stats.pareto.sf(x, b=3, loc=-(2/3)*lambd2, scale=(2/3)*lambd2)\n",
    "    if law == \"weibull\":\n",
    "        #Certain parameters of the Weibull law have been fixed in order to obtain a function with characteristics similar to the survival functions found for sick leaves\n",
    "        S = P1*stats.weibull_min.sf(x, c=2, scale=lambd1) + P2*stats.weibull_min.sf(x, c=2, scale=lambd2)\n",
    "    if law == \"gamma\":\n",
    "        S = P1*stats.gamma.sf(x, a=lambd1) + P2*stats.gamma.sf(x, a=lambd2)\n",
    "    return(S)"
   ]
  },
  {
   "cell_type": "markdown",
   "metadata": {},
   "source": [
    "### Simulation functions"
   ]
  },
  {
   "cell_type": "code",
   "execution_count": 4,
   "metadata": {},
   "outputs": [],
   "source": [
    "#Function that creates the base sample in a mixture according to the chosen law\n",
    "def InitializeMatriceX(law, lambd1, lambd2, P_1, size):\n",
    "    #Matrices X_A1 and X_A2\n",
    "    if law == \"exponnential\":\n",
    "        X_1 = stats.expon.rvs(scale=lambd1, size=size)\n",
    "        X_2 = stats.expon.rvs(scale=lambd2, size=size)\n",
    "    if law == \"pareto\":\n",
    "        X_1_v1 = stats.pareto.rvs(b=3, size=size)\n",
    "        X_1 = (2/3)*lambd1*(X_1_v1-1)\n",
    "        X_2_v1 = stats.pareto.rvs(b=3, size=size)\n",
    "        X_2 = (2/3)*lambd2*(X_2_v1-1)\n",
    "    if law == \"weibull\":\n",
    "        X_1 = stats.weibull_min.rvs(c=2, scale=lambd1, size=size)\n",
    "        X_2 = stats.weibull_min.rvs(c=2, scale=lambd2, size=size)    \n",
    "    if law == \"gamma\" :\n",
    "        X_1 = stats.gamma.rvs(a=lambd1, size=size)\n",
    "        X_2 = stats.gamma.rvs(a=lambd2, size=size)\n",
    "    #Matrice RA\n",
    "    R = stats.bernoulli.rvs(P_1, size=size)\n",
    "    X = R*X_1 + (1-R)*X_2\n",
    "    return X"
   ]
  },
  {
   "cell_type": "code",
   "execution_count": 5,
   "metadata": {},
   "outputs": [],
   "source": [
    "#Function to include censorship\n",
    "@njit #(parallel=True)\n",
    "def Y_ind_Allocation(Y_ind, Y, C, X):\n",
    "    for i in range(len(X)):\n",
    "        if Y[i]<C[i]: \n",
    "            Y_ind[i]=True\n",
    "    return Y_ind"
   ]
  },
  {
   "cell_type": "code",
   "execution_count": 6,
   "metadata": {},
   "outputs": [],
   "source": [
    "#Function to interpolate survival functions\n",
    "def S_est_Actualisation(S_est, time, time1, t):\n",
    "    S_est_res = np.concatenate(([1], S_est,[0]))\n",
    "    f = interp1d(np.concatenate(([0], time,[t])), S_est_res)\n",
    "    S_est_res = f(time1)\n",
    "    return S_est_res"
   ]
  },
  {
   "cell_type": "markdown",
   "metadata": {},
   "source": [
    "### Kaplan-Meier function of Maiboroda"
   ]
  },
  {
   "cell_type": "code",
   "execution_count": 7,
   "metadata": {},
   "outputs": [],
   "source": [
    "#Function to count S_X and N_X variables for Maiboroda's estimator\n",
    "@njit #(parallel=True)\n",
    "def S_x_N_x_Allocation(Y,Y_ind,X_X,time):\n",
    "    S_X = np.zeros_like(time)\n",
    "    N_X = np.zeros_like(time)\n",
    "    for k, t_k in enumerate(time):\n",
    "        for i, Y_i in enumerate(Y):\n",
    "            if Y_i >= t_k:\n",
    "                S_X[k] += X_X[i]\n",
    "            if (Y_i <= t_k) and  (Y_ind[i]==True) : \n",
    "                N_X[k] += X_X[i]\n",
    "    return S_X, N_X"
   ]
  },
  {
   "cell_type": "code",
   "execution_count": 8,
   "metadata": {},
   "outputs": [],
   "source": [
    "#Function to determine Maiboroda's estimator having S_X and N_X\n",
    "@njit #(parallel=True)\n",
    "def S_1_mx_Allocation(Y, S_X, N_X, time):\n",
    "    # Initialisation\n",
    "    S_1_mx = np.ones_like(time)\n",
    "    for k, t_k in enumerate(time):\n",
    "        for i in range(1,k):\n",
    "            if (Y[i] <= t_k) and (S_X[i] != 0) :\n",
    "                S_1_mx[k] = S_1_mx[k] * (1 - (N_X[i] - N_X[i-1])/S_X[i])\n",
    "    return S_1_mx"
   ]
  },
  {
   "cell_type": "code",
   "execution_count": 9,
   "metadata": {},
   "outputs": [],
   "source": [
    "#Function to smooth a survival function\n",
    "@njit #(parallel=True)\n",
    "# direction = 0 or 1\n",
    "def S_1_est_mx_Threshold(S_1_est_mx, direction):\n",
    "    S1_res = np.zeros_like(S_1_est_mx)\n",
    "    #Maximum at 1 and minimum at 0 for the survival function\n",
    "    for i, item in enumerate(S_1_est_mx):\n",
    "        if item > 1 :\n",
    "            S1_res[i] = 1\n",
    "        elif item < 0 :\n",
    "            S1_res[i] = 0\n",
    "        else :\n",
    "            S1_res[i] = item\n",
    "    #If direction = 0, we give to S[t] the value of S[t+1] if S[t]<S[t+1]\n",
    "    if direction == 0 : \n",
    "        for i in range(len(S_1_est_mx)-1):\n",
    "            k = i+1\n",
    "            while k<len(S_1_est_mx):\n",
    "                if S1_res[i]<S1_res[k]:\n",
    "                    S1_res[i] = S1_res[k]\n",
    "                k+=1\n",
    "    #If direction = 1, we give to S[t+1] the value of S[t] if S[t]<S[t+1]\n",
    "    elif direction == 1 :\n",
    "        for i in range(len(S_1_est_mx)-1):\n",
    "            k = i+1\n",
    "            while k < len(S_1_est_mx):\n",
    "                if S1_res[i]<S1_res[k]:\n",
    "                    S1_res[k] = S1_res[i]\n",
    "                k+=1\n",
    "    return S1_res"
   ]
  },
  {
   "cell_type": "code",
   "execution_count": 10,
   "metadata": {},
   "outputs": [],
   "source": [
    "#Maiboroda's Kaplan-Meier estimator\n",
    "@njit #(parallel=True)\n",
    "def kaplan_meier_mx (Y,Y_ind,X_X,time, direction) :\n",
    "    #Construction of N_X and S_X\n",
    "    S_X, N_X = S_x_N_x_Allocation(Y=Y,Y_ind=Y_ind,X_X=X_X,time=time)\n",
    "    #Initialization of S_1_est_mx\n",
    "    S_1_est_mx = S_1_mx_Allocation(Y=Y, S_X=S_X, N_X=N_X, time=time)\n",
    "    return S_1_est_mx "
   ]
  },
  {
   "cell_type": "code",
   "execution_count": 11,
   "metadata": {},
   "outputs": [],
   "source": [
    "#Maiboroda's Kaplan-Meier estimator smoothed\n",
    "@njit #(parallel=True)\n",
    "def kaplan_meier_mx_smoothed (Y,Y_ind,X_X,time, direction) :\n",
    "    #Construction of N_X and S_X\n",
    "    S_X, N_X = S_x_N_x_Allocation(Y=Y,Y_ind=Y_ind,X_X=X_X,time=time)\n",
    "    #Initialization of S_1_est_mx\n",
    "    S_1_est_mx = S_1_mx_Allocation(Y=Y, S_X=S_X, N_X=N_X, time=time)\n",
    "    #S_1_est_mx thresholding\n",
    "    S_1_est_mx_res = S_1_est_mx_Threshold(S_1_est_mx, direction)\n",
    "    #Return S_1_est_mx_res if we want the survival function to be linearized, S_1_est_mx otherwise\n",
    "    return S_1_est_mx_res "
   ]
  },
  {
   "cell_type": "markdown",
   "metadata": {},
   "source": [
    "## 4- Initial analysis"
   ]
  },
  {
   "cell_type": "code",
   "execution_count": 12,
   "metadata": {},
   "outputs": [],
   "source": [
    "def RunSimulation(nA, nB, lambd1, lambd2, lambdC, P_A1, P_A2, P_B1, P_B2, S, M_inv, X_1, X_2, direction):\n",
    "    ## Ryzhov\n",
    "    #Initialization of matrices X_A and X_B\n",
    "    X_A = InitializeMatriceX(law=law, lambd1=lambd1, lambd2=lambd2, P_1=P_A1, size=nA)\n",
    "    X_B = InitializeMatriceX(law=law, lambd1=lambd1, lambd2=lambd2, P_1=P_B1, size=nB)\n",
    "    #Ryzhov\n",
    "    C_A = stats.expon.rvs(scale=lambdC, size=nA)\n",
    "    C_B = stats.expon.rvs(scale=lambdC, size=nB)\n",
    "    #Independent copy of X_A and X_B\n",
    "    Y_A = X_A\n",
    "    Y_B = X_B\n",
    "    #Initialisation of Y_A_ind and Y_B_ind\n",
    "    Y_A_ind = np.full(shape=Y_A.shape, fill_value=False)\n",
    "    Y_B_ind = np.full(shape=Y_B.shape, fill_value=False)\n",
    "    #Actualisation of Y_A_ind and Y_B_ind\n",
    "    Y_A = np.minimum(C_A, X_A)\n",
    "    Y_A_ind = Y_ind_Allocation(Y_ind=Y_A_ind, Y=Y_A, C=C_A, X=X_A)\n",
    "    Y_B = np.minimum(C_B, X_B)\n",
    "    Y_B_ind = Y_ind_Allocation(Y_ind=Y_B_ind, Y=Y_B, C=C_B, X=X_B)\n",
    "    #Kaplan Meier's estimator\n",
    "    time_A, S_A_est = kaplan_meier_estimator(Y_A_ind, Y_A)\n",
    "    time_B, S_B_est = kaplan_meier_estimator(Y_B_ind, Y_B)\n",
    "    #Initialisation of time1, t and M_inv\n",
    "    time1 = np.concatenate(([0],time_A, time_B))\n",
    "    time1.sort()\n",
    "    t=max(time_A[-1],time_B[-1])\n",
    "    #Interpolate of survival functions\n",
    "    S_A_est = S_est_Actualisation(S_est=S_A_est, time=time_A, time1=time1, t=t)\n",
    "    S_B_est = S_est_Actualisation(S_est=S_B_est, time=time_B, time1=time1, t=t)\n",
    "    #Determination and smoothing of S_1 and S_2\n",
    "    S_1_est = M_inv[0][0]*S_A_est + M_inv[0][1]*S_B_est\n",
    "    S_2_est = M_inv[1][0]*S_A_est + M_inv[1][1]*S_B_est\n",
    "    S_1_est = S_1_est_mx_Threshold(S_1_est, direction)\n",
    "    S_2_est = S_1_est_mx_Threshold(S_2_est, direction)\n",
    "    ## Maiboroda\n",
    "    #Initialization of matrices X, C, Y and Y_ind\n",
    "    X = np.concatenate((X_A,X_B))  \n",
    "    C = np.concatenate((C_A,C_B)) \n",
    "    Y = X\n",
    "    Y_ind = np.full(shape=Y.shape, fill_value=False)\n",
    "    #Actualisation of Y_ind\n",
    "    Y = np.minimum(C, X)\n",
    "    Y_ind = Y_ind_Allocation(Y_ind=Y_ind, Y=Y, C=C, X=X)\n",
    "    m = Y.argsort()\n",
    "    Y = Y[m]\n",
    "    #Kaplan Meier's estimator\n",
    "    time2, S_est = kaplan_meier_estimator(Y_ind, Y)\n",
    "    #Construction of S_mx using the Kaplan Meier estimator\n",
    "    S_1_mx = kaplan_meier_mx(Y=Y,Y_ind=Y_ind,X_X=X_1[m],time=time2, direction=direction)\n",
    "    S_2_mx = kaplan_meier_mx(Y=Y,Y_ind=Y_ind,X_X=X_2[m],time=time2, direction=direction)\n",
    "    \n",
    "    #Ryzhov's estimator median\n",
    "    i = 0\n",
    "    while S_1_est[i] > 0.5:\n",
    "        i+=1  \n",
    "    result_Ryzhov = time1[i-1] \n",
    "    #Maiboroda's estimator median\n",
    "    j = 0\n",
    "    while S_1_mx[j] > 0.5:\n",
    "        j+=1\n",
    "    result_Maiboroda = time2[j-1] \n",
    "\n",
    "    return (result_Ryzhov, result_Maiboroda)"
   ]
  },
  {
   "cell_type": "code",
   "execution_count": 13,
   "metadata": {},
   "outputs": [],
   "source": [
    "def RunParallelSimulation(nA, nB, lambd1, lambd2, lambdC, P_A1, P_A2, P_B1, P_B2, S, M_inv, X_1, X_2, direction, K, NJobs=-1, Verbose=0, PreDispatch='2*n_jobs'):\n",
    "    \n",
    "    # Initialisation des paramètres de parallélisation\n",
    "    ParallelSetUp = Parallel(n_jobs=NJobs, verbose=Verbose, pre_dispatch=PreDispatch, prefer=\"threads\")\n",
    "    \n",
    "    # Entrainement de l'Estimateur sur les différentes observations de Train\n",
    "    ComputedBlocks = ParallelSetUp([delayed(RunSimulation)(nA=nA, nB=nB, lambd1=lambd1, lambd2=lambd2, lambdC=lambdC, P_A1=P_A1, P_A2=P_A2, P_B1=P_B1, P_B2=P_B2,S=S, M_inv=M_inv, X_1=X_1, X_2=X_2, direction = direction) for k in range(K)])\n",
    "\n",
    "    # Concaténation en Array\n",
    "    List_Ryzhov = np.array([result_Ryzhov for result_Ryzhov, _   in ComputedBlocks], dtype=np.dtype(object)) # peut etre que dtype array est approprié\n",
    "    List_Maiboroda = np.array([result_Maiboroda for _, result_Maiboroda  in ComputedBlocks], dtype=np.dtype(object)) # peut etre que dtype array est approprié\n",
    "  \n",
    "    #return ComputedBlocks\n",
    "    return List_Ryzhov, List_Maiboroda "
   ]
  },
  {
   "cell_type": "code",
   "execution_count": 14,
   "metadata": {},
   "outputs": [],
   "source": [
    "#Simulations\n",
    "#Parameters choice (choose among \"exponnential\", \"pareto\", \"weibull\" and \"gamma\")\n",
    "law = \"exponnential\" \n",
    "\n",
    "#Sample sizes (we have chosen nA = nB but it is possible to change these parameters)\n",
    "n = 10000\n",
    "nA = round(n/2)\n",
    "nB = n - nA\n",
    "\n",
    "epsilon = 0\n",
    "sens = 1\n",
    "\n",
    "#Mixture parameters\n",
    "lambd1 = 50\n",
    "lambd2 = 30\n",
    "\n",
    "lambdC = 1000\n",
    "\n",
    "#Weight selection (note that we must have P_A1 + P_A2 = 1 and P_B1 + P_B2 = 1)\n",
    "P_A1 = 0.7\n",
    "P_A2 = 0.3\n",
    "P_B1 = 0.1\n",
    "P_B2 = 0.9\n",
    "\n",
    "#Threshold direction\n",
    "direction = 1\n",
    "\n",
    "#Quantile (between 0 and 1)\n",
    "p = 0.5\n",
    "\n",
    "#Theoretical values \n",
    "med_1 = lambd1*np.log(2)\n",
    "med_2 = lambd2*np.log(2)"
   ]
  },
  {
   "cell_type": "code",
   "execution_count": 15,
   "metadata": {},
   "outputs": [
    {
     "name": "stdout",
     "output_type": "stream",
     "text": [
      "[[ 1.5        -0.5       ]\n",
      " [-0.16666667  1.16666667]]\n"
     ]
    }
   ],
   "source": [
    "#Ryzhov :\n",
    "M = np.array([[P_A1, P_A2],[P_B1, P_B2]])\n",
    "M_inv = np.linalg.inv(M)\n",
    "print(M_inv)\n",
    "#Maiboroda :\n",
    "X_1 = [2*M_inv[0][0] for i in range(0,nA)] + [2*M_inv[0][1] for i in range(0,nB)]\n",
    "X_2 = [2*M_inv[1][0] for i in range(0,nA)] + [2*M_inv[1][1] for i in range(0,nB)]\n",
    "X_1 = np.array(X_1)\n",
    "X_2 = np.array(X_2)"
   ]
  },
  {
   "cell_type": "code",
   "execution_count": 16,
   "metadata": {},
   "outputs": [
    {
     "data": {
      "text/plain": [
       "(34.09533439382592, 33.77744493558445)"
      ]
     },
     "execution_count": 16,
     "metadata": {},
     "output_type": "execute_result"
    }
   ],
   "source": [
    "RunSimulation(nA, nB, lambd1, lambd2, lambdC, P_A1, P_A2, P_B1, P_B2, S, M_inv, X_1, X_2, sens)"
   ]
  },
  {
   "cell_type": "code",
   "execution_count": 17,
   "metadata": {},
   "outputs": [],
   "source": [
    "#Number of repetitions\n",
    "K = 1000"
   ]
  },
  {
   "cell_type": "code",
   "execution_count": 18,
   "metadata": {},
   "outputs": [],
   "source": [
    "List_Ryzhov, List_Maiboroda = RunParallelSimulation(nA, nB, lambd1, lambd2, lambdC, P_A1, P_A2, P_B1, P_B2, S, M_inv, X_1, X_2, direction, K, NJobs=-1, Verbose=0, PreDispatch='2*n_jobs')"
   ]
  },
  {
   "cell_type": "code",
   "execution_count": 19,
   "metadata": {},
   "outputs": [],
   "source": [
    "List_Ryzhov = List_Ryzhov.tolist()\n",
    "List_Maiboroda = List_Maiboroda.tolist()"
   ]
  },
  {
   "cell_type": "code",
   "execution_count": 20,
   "metadata": {},
   "outputs": [
    {
     "data": {
      "image/png": "[encoded data removed]",
      "text/plain": [
       "<Figure size 720x720 with 1 Axes>"
      ]
     },
     "metadata": {
      "needs_background": "light"
     },
     "output_type": "display_data"
    }
   ],
   "source": [
    "#Boxplot\n",
    "fig = plt.figure(figsize =(10, 10))\n",
    "# Creating plot\n",
    "plt.yticks(fontsize=15)\n",
    "plt.xticks(fontsize=15)\n",
    "sns.set(style=\"whitegrid\")\n",
    "sns.boxplot(y=List_Ryzhov, color='#2C67AF')\n",
    "plt.axhline(y=lambd1*np.log(2),c='#D86173')\n",
    "#Show plot\n",
    "plt.title('Group 1 median plot for K=1000 repetitions - Maiboroda estimator ', fontsize = 20)\n",
    "plt.show()\n"
   ]
  },
  {
   "cell_type": "code",
   "execution_count": 21,
   "metadata": {},
   "outputs": [
    {
     "data": {
      "image/png": "[encoded data removed]",
      "text/plain": [
       "<Figure size 720x720 with 1 Axes>"
      ]
     },
     "metadata": {},
     "output_type": "display_data"
    }
   ],
   "source": [
    "#Boxplot\n",
    "fig = plt.figure(figsize =(10, 10))\n",
    "# Creating plot\n",
    "plt.yticks(fontsize=15)\n",
    "plt.xticks(fontsize=15)\n",
    "sns.set(style=\"whitegrid\")\n",
    "sns.boxplot(y=List_Maiboroda, color='#2C67AF')\n",
    "plt.axhline(y=lambd1*np.log(2),c='#D86173')\n",
    "#Show plot\n",
    "plt.title('Group 1 median plot for K=1000 repetitions - Maiboroda estimator ', fontsize = 20)\n",
    "plt.show()"
   ]
  },
  {
   "cell_type": "markdown",
   "metadata": {},
   "source": [
    "## 5- M-estimator without censorship "
   ]
  },
  {
   "cell_type": "code",
   "execution_count": 22,
   "metadata": {},
   "outputs": [],
   "source": [
    "def RunSimulation(law, nA, nB, lambd1, lambd2, P_A1, P_A2, P_B1, P_B2, model, direction, p):\n",
    "    #The model argument can be either \"Ryzhov\" or \"Maiboroda\"\n",
    "    P = np.array([[P_A1, P_A2], [P_B1, P_B2]])\n",
    "    #Samples\n",
    "    X_A = InitializeMatriceX(law=law, lambd1=lambd1, lambd2=lambd2, P_1=P_A1, size=nA)\n",
    "    X_B = InitializeMatriceX(law=law, lambd1=lambd1, lambd2=lambd2, P_1=P_B1, size=nB)\n",
    "    \n",
    "    #Kaplan-Meier estimators\n",
    "    Y_A = X_A\n",
    "    Y_A_ind = [True for i in range(len(Y_A))]   \n",
    "    Y_B = X_B\n",
    "    Y_B_ind = [True for i in range(len(Y_B))]\n",
    "\n",
    "    #Kaplan-Meier estimator\n",
    "    time_A, S_A_est = kaplan_meier_estimator(Y_A_ind, Y_A)\n",
    "    time_B, S_B_est = kaplan_meier_estimator(Y_B_ind, Y_B)\n",
    "    #Initialization of time1, t and M_inv\n",
    "    time1 = np.concatenate(([0],time_A, time_B))\n",
    "    time1.sort()\n",
    "    t=max(time_A[-1],time_B[-1])\n",
    "    #Interpolation of S_A_est and S_B_est\n",
    "    S_A_est = S_est_Actualisation(S_est=S_A_est, time=time_A, time1=time1, t=t)\n",
    "    S_B_est = S_est_Actualisation(S_est=S_B_est, time=time_B, time1=time1, t=t)\n",
    "    #Determination of S_1_est and S_2_est (following Ryzhov's method)\n",
    "    S_1_est = M_inv[0][0]*S_A_est + M_inv[0][1]*S_B_est\n",
    "    S_2_est = M_inv[1][0]*S_A_est + M_inv[1][1]*S_B_est\n",
    "       \n",
    "    #Kaplan-Meier\n",
    "    X = np.concatenate((X_A,X_B))  \n",
    "    Y = X\n",
    "    Y_ind = [True for i in range(len(Y))]\n",
    "    \n",
    "    #Sorting Y\n",
    "    m = Y.argsort()\n",
    "    Y = Y[m]\n",
    "    time, S_est = kaplan_meier_estimator(Y_ind, Y)\n",
    "    time = np.concatenate(([0], time))\n",
    "    S_est = np.concatenate(([1], S_est))\n",
    "    \n",
    "    #Maiboroda's coefficients\n",
    "    if nA == nB:\n",
    "        #This method can be use when na = nB\n",
    "        X_1 = [2*M_inv[0][0] for i in range(0,nA)] + [2*M_inv[0][1] for i in range(0,nB)]\n",
    "        X_2 = [2*M_inv[1][0] for i in range(0,nA)] + [2*M_inv[1][1] for i in range(0,nB)]\n",
    "        X_1 = np.array(X_1)\n",
    "        X_2 = np.array(X_2)\n",
    "    else : \n",
    "        #This method is more time-consuming but is true in the general case. \n",
    "        prob_X1 = [P_A1 for i in range(0,n1)] + [P_B1 for i in range(0,n2)]\n",
    "        prob_X2 = [P_A2 for i in range(0,n1)] + [P_B2 for i in range(0,n2)]\n",
    "        A = np.asmatrix([prob_X1,prob_X2])\n",
    "        A_trans = np.transpose(A)\n",
    "        N = A.shape[1]\n",
    "        X = cp.Variable(N)\n",
    "        prob = cp.Problem(cp.Minimize(cp.sum(X)), [A @ X == [n , 0] ])\n",
    "        prob.solve(solver = cp.SCS, verbose=True)\n",
    "        X_1 = X.value\n",
    "        N = A.shape[1]\n",
    "        X = cp.Variable(N)\n",
    "        prob = cp.Problem(cp.Minimize(cp.sum(X)), [A @ X == [0 , n] ])  \n",
    "        prob.solve(solver = cp.SCS, verbose=True)\n",
    "        X_2 = X.value\n",
    "        X_1 = np.array(X_1)\n",
    "        X_2 = np.array(X_2)\n",
    "\n",
    "    #Construction of S_mx using our Kaplan Meier estimator \n",
    "    S_1_mx = kaplan_meier_mx_smoothed(Y=Y,Y_ind=Y_ind,X_X=X_1[m],time=time1, direction=direction)\n",
    "    S_2_mx = kaplan_meier_mx_smoothed(Y=Y,Y_ind=Y_ind,X_X=X_2[m],time=time1, direction=direction)\n",
    "    \n",
    "    if model == \"Ryzhov\":\n",
    "        S_1_est = S_1_est \n",
    "        S_2_est = S_2_est \n",
    "    elif model ==\"Maiboroda\":\n",
    "        S_1_est = S_1_mx\n",
    "        S_2_est = S_2_mx\n",
    "    else :\n",
    "        print(\"Please, select a valid model\")\n",
    "        \n",
    "    S_1_est = S_1_est_mx_Threshold(S_1_est, direction=direction)\n",
    "    S_2_est = S_1_est_mx_Threshold(S_2_est, direction=direction)\n",
    "    \n",
    "    #Auxiliary variables\n",
    "    n = nA + nB\n",
    "    n1 = nA*P_A1 + nB*P_B1\n",
    "    n2 = nA*P_A2 + nB*P_B2   \n",
    "    alpha = nA/n\n",
    "    beta = nB/n\n",
    "    \n",
    "    #Theorical medians\n",
    "    med_1 = lambd1*np.log(2)\n",
    "    med_2 = lambd2*np.log(2)\n",
    "    \n",
    "    #Finding the p_th quantile for group 1\n",
    "    i = 0\n",
    "    while S_1_est[i] > p:\n",
    "        i+=1\n",
    "    res1 = time1[i-1]\n",
    "    \n",
    "    sAB1 = (((M_inv[0][0])**2)*(S_A_est[i-1])*(1 - S_A_est[i-1]))/alpha + (((M_inv[0][1])**2)*(S_B_est[i-1])*(1 - S_B_est[i-1]))/beta  \n",
    "    f1 = M_inv[0][0]*stats.expon.pdf(med_1, scale=lambd1) + M_inv[0][1]*stats.expon.pdf(med_1, scale=lambd2) \n",
    "    result_1 = (sqrt(n)*(res1 - med_1))/sqrt(sAB1/f1**2)\n",
    "    \n",
    "    #Finding the p_th quantile for group 2\n",
    "    i = 0\n",
    "    while S_2_est[i] > p:\n",
    "        i+=1\n",
    "    res2 = time1[i-1]\n",
    "    \n",
    "    sAB2 = (((M_inv[1][0])**2)*(S_A_est[i-1])*(1 - S_A_est[i-1]))/alpha + (((M_inv[1][1])**2)*(S_B_est[i-1])*(1 - S_B_est[i-1]))/beta\n",
    "    f2 = M_inv[1][0]*stats.expon.pdf(med_2, scale=lambd1) + M_inv[1][1]*stats.expon.pdf(med_2, scale=lambd2)\n",
    "    result_2 = (sqrt(n)*(res2 - med_2))/sqrt(sAB2/f2**2)\n",
    "\n",
    "    return (result_1, result_2)"
   ]
  },
  {
   "cell_type": "code",
   "execution_count": 23,
   "metadata": {},
   "outputs": [],
   "source": [
    "def RunParallelSimulation(law, nA, nB, lambd1, lambd2, P_A1, P_A2, P_B1, P_B2, model, direction, p, K, NJobs=-1, Verbose=0, PreDispatch='2*n_jobs'):\n",
    "    \n",
    "    #Initialization of parallelization parameters\n",
    "    ParallelSetUp = Parallel(n_jobs=NJobs, verbose=Verbose, pre_dispatch=PreDispatch, prefer=\"threads\")\n",
    "    \n",
    "    #RunSimulation\n",
    "    ComputedBlocks = ParallelSetUp([delayed(RunSimulation)(law=law, nA=nA, nB=nB, lambd1=lambd1, lambd2=lambd2, P_A1=P_A1, P_A2=P_A2, P_B1=P_B1, P_B2=P_B2, model = model, direction = direction, p=p) for k in range(K)])\n",
    "\n",
    "    #Concatenation into array\n",
    "    List_testZ1 = np.array([result_1 for result_1, _  in ComputedBlocks], dtype=np.dtype(object)) \n",
    "    List_testZ2 = np.array([result_2 for _, result_2  in ComputedBlocks], dtype=np.dtype(object)) \n",
    "   \n",
    "    #Return ComputedBlocks\n",
    "    return List_testZ1, List_testZ2"
   ]
  },
  {
   "cell_type": "markdown",
   "metadata": {},
   "source": [
    "### Simulation parameters"
   ]
  },
  {
   "cell_type": "code",
   "execution_count": 24,
   "metadata": {},
   "outputs": [],
   "source": [
    "#Simulations\n",
    "#Parameters choice (choose among \"exponnential\", \"pareto\", \"weibull\" and \"gamma\")\n",
    "law = \"exponnential\" \n",
    "\n",
    "#Sample sizes (we have chosen nA = nB but it is possible to change these parameters)\n",
    "n = 10000\n",
    "nA = round(n/2)\n",
    "nB = n - nA\n",
    "\n",
    "#Mixture parameters\n",
    "lambd1 = 50\n",
    "lambd2 = 30\n",
    "\n",
    "#Weight selection (note that we must have P_A1 + P_A2 = 1 and P_B1 + P_B2 = 1)\n",
    "P_A1 = 0.7\n",
    "P_A2 = 0.3\n",
    "P_B1 = 0.1\n",
    "P_B2 = 0.9\n",
    "\n",
    "#Threshold direction\n",
    "direction = 1\n",
    "\n",
    "#Quantile (between 0 and 1)\n",
    "p = 0.5\n",
    "\n",
    "#Theoretical values \n",
    "med_1 = lambd1*np.log(2)\n",
    "med_2 = lambd2*np.log(2)"
   ]
  },
  {
   "cell_type": "code",
   "execution_count": 25,
   "metadata": {},
   "outputs": [],
   "source": [
    "n1 = nA*P_A1 + nB*P_B1\n",
    "n2 = nA*P_A2 + nB*P_B2"
   ]
  },
  {
   "cell_type": "code",
   "execution_count": 26,
   "metadata": {},
   "outputs": [
    {
     "name": "stdout",
     "output_type": "stream",
     "text": [
      "[[ 1.5        -0.5       ]\n",
      " [-0.16666667  1.16666667]]\n"
     ]
    }
   ],
   "source": [
    "#Inverted weight matrix\n",
    "M = np.array([[P_A1, P_A2],[P_B1, P_B2]])\n",
    "M_inv = np.linalg.inv(M)\n",
    "print(M_inv)"
   ]
  },
  {
   "cell_type": "code",
   "execution_count": 27,
   "metadata": {},
   "outputs": [],
   "source": [
    "#Number of repetitions\n",
    "K = 1000\n",
    "\n",
    "model = \"Ryzhov\"\n",
    "\n",
    "#Resultats array\n",
    "testZ1 = [0 for i in range(K-1)]\n",
    "testZ2 = [0 for i in range(K-1)]"
   ]
  },
  {
   "cell_type": "markdown",
   "metadata": {},
   "source": [
    "### Results of one simulation"
   ]
  },
  {
   "cell_type": "code",
   "execution_count": 28,
   "metadata": {},
   "outputs": [
    {
     "data": {
      "text/plain": [
       "(0.9033259358547735, -0.6094287438174725)"
      ]
     },
     "execution_count": 28,
     "metadata": {},
     "output_type": "execute_result"
    }
   ],
   "source": [
    "RunSimulation(law, nA, nB, lambd1, lambd2, P_A1, P_A2, P_B1, P_B2, model, direction,  p)"
   ]
  },
  {
   "cell_type": "markdown",
   "metadata": {},
   "source": [
    "### Results of K simulations"
   ]
  },
  {
   "cell_type": "code",
   "execution_count": 29,
   "metadata": {},
   "outputs": [],
   "source": [
    "testZ1, testZ2 = RunParallelSimulation(law, nA, nB, lambd1, lambd2, P_A1, P_A2, P_B1, P_B2, model, direction,  p, K, NJobs=-1, Verbose=0, PreDispatch='2*n_jobs')"
   ]
  },
  {
   "cell_type": "code",
   "execution_count": 30,
   "metadata": {},
   "outputs": [],
   "source": [
    "testZ1 = testZ1.tolist()\n",
    "testZ2 = testZ2.tolist()"
   ]
  },
  {
   "cell_type": "markdown",
   "metadata": {},
   "source": [
    "Results for group 1 :"
   ]
  },
  {
   "cell_type": "code",
   "execution_count": 31,
   "metadata": {},
   "outputs": [
    {
     "data": {
      "text/plain": [
       "Text(0.5, 1.0, 'Analytical vs. Estimated PDF')"
      ]
     },
     "execution_count": 31,
     "metadata": {},
     "output_type": "execute_result"
    },
    {
     "data": {
      "image/png": "[encoded data removed]",
      "text/plain": [
       "<Figure size 1440x720 with 1 Axes>"
      ]
     },
     "metadata": {},
     "output_type": "display_data"
    }
   ],
   "source": [
    "#Graphical representation of the distribution\n",
    "dist = stats.norm()\n",
    "x = np.linspace(start=stats.norm.ppf(0.01), stop=stats.norm.ppf(0.99), num=K)\n",
    "gkde = stats.gaussian_kde(dataset=testZ1)\n",
    "\n",
    "fig, ax = plt.subplots(figsize=(20, 10)) \n",
    "ax.hist(testZ1,bins=50, density=True, label=\"Distribution of the statistical test\")\n",
    "ax.plot(x, dist.pdf(x), linestyle='solid', c='#D86173', lw=3, alpha=0.8, label='Gaussian PDF')\n",
    "ax.plot(x, gkde.evaluate(x), linestyle='dashed', c='black', lw=2, label='PDF estimated via KDE')\n",
    "ax.legend(loc='best', frameon=False, fontsize = 15)\n",
    "ax.set_title('Analytical vs. Estimated PDF', fontsize = 25)"
   ]
  },
  {
   "cell_type": "code",
   "execution_count": 32,
   "metadata": {},
   "outputs": [
    {
     "name": "stdout",
     "output_type": "stream",
     "text": [
      "-0.00012915042018413024\n",
      "0.9344029206878649\n"
     ]
    }
   ],
   "source": [
    "#Compute mean of the statistic Z1\n",
    "print(np.mean(testZ1))\n",
    "\n",
    "#Compute variance of the statistic Z1\n",
    "print(np.var(testZ1))"
   ]
  },
  {
   "cell_type": "code",
   "execution_count": 33,
   "metadata": {},
   "outputs": [
    {
     "name": "stdout",
     "output_type": "stream",
     "text": [
      "0.08833574654563633\n",
      "3.0945964487529833\n"
     ]
    }
   ],
   "source": [
    "#Calculate the skewness\n",
    "print(skew(testZ1, axis=0, bias=True))\n",
    "\n",
    "#Calculate the kurtosis\n",
    "print(kurtosis(testZ1, axis=0, fisher =  False, bias=True))"
   ]
  },
  {
   "cell_type": "code",
   "execution_count": 34,
   "metadata": {},
   "outputs": [
    {
     "data": {
      "text/plain": [
       "KstestResult(statistic=0.027477114908192046, pvalue=0.42942761681125563, statistic_location=0.4860182454841536, statistic_sign=1)"
      ]
     },
     "execution_count": 34,
     "metadata": {},
     "output_type": "execute_result"
    }
   ],
   "source": [
    "#Perform Kolmogorov-Smirnov test for normality \n",
    "kstest(testZ1, 'norm')"
   ]
  },
  {
   "cell_type": "markdown",
   "metadata": {},
   "source": [
    "Results for group 2 :"
   ]
  },
  {
   "cell_type": "code",
   "execution_count": 35,
   "metadata": {},
   "outputs": [
    {
     "data": {
      "text/plain": [
       "Text(0.5, 1.0, 'Analytical vs. Estimated PDF')"
      ]
     },
     "execution_count": 35,
     "metadata": {},
     "output_type": "execute_result"
    },
    {
     "data": {
      "image/png": "[encoded data removed]",
      "text/plain": [
       "<Figure size 1440x720 with 1 Axes>"
      ]
     },
     "metadata": {},
     "output_type": "display_data"
    }
   ],
   "source": [
    "#Graphical representation of the distribution\n",
    "dist = stats.norm()\n",
    "x = np.linspace(start=stats.norm.ppf(0.01), stop=stats.norm.ppf(0.99), num=K)\n",
    "gkde = stats.gaussian_kde(dataset=testZ2)\n",
    "\n",
    "fig, ax = plt.subplots(figsize=(20, 10)) \n",
    "ax.hist(testZ2,bins=50, density=True, label=\"Distribution of the statistical test\")\n",
    "ax.plot(x, dist.pdf(x), linestyle='solid', c='#D86173', lw=3, alpha=0.8, label='Gaussian PDF')\n",
    "ax.plot(x, gkde.evaluate(x), linestyle='dashed', c='black', lw=2, label='PDF estimated via KDE')\n",
    "ax.legend(loc='best', frameon=False, fontsize = 15)\n",
    "ax.set_title('Analytical vs. Estimated PDF', fontsize = 25)"
   ]
  },
  {
   "cell_type": "code",
   "execution_count": 36,
   "metadata": {},
   "outputs": [
    {
     "name": "stdout",
     "output_type": "stream",
     "text": [
      "-0.028494387837350064\n",
      "1.0537334867789228\n"
     ]
    }
   ],
   "source": [
    "#Compute mean of the statistic Z2\n",
    "print(np.mean(testZ2))\n",
    "\n",
    "#Compute variance of the statistic Z2\n",
    "print(np.var(testZ2))"
   ]
  },
  {
   "cell_type": "code",
   "execution_count": 37,
   "metadata": {},
   "outputs": [
    {
     "name": "stdout",
     "output_type": "stream",
     "text": [
      "-0.02228868064164595\n",
      "2.9861282936508045\n"
     ]
    }
   ],
   "source": [
    "#Calculate the skewness\n",
    "print(skew(testZ2, axis=0, bias=True))\n",
    "\n",
    "#Calculate the kurtosis\n",
    "print(kurtosis(testZ2, axis=0, fisher =  False, bias=True))"
   ]
  },
  {
   "cell_type": "code",
   "execution_count": 38,
   "metadata": {},
   "outputs": [
    {
     "data": {
      "text/plain": [
       "KstestResult(statistic=0.031566885332464156, pvalue=0.26628052375856914, statistic_location=-0.6450940656202149, statistic_sign=1)"
      ]
     },
     "execution_count": 38,
     "metadata": {},
     "output_type": "execute_result"
    }
   ],
   "source": [
    "#Perform Kolmogorov-Smirnov test\n",
    "kstest(testZ2, 'norm')"
   ]
  },
  {
   "cell_type": "code",
   "execution_count": 39,
   "metadata": {},
   "outputs": [
    {
     "data": {
      "text/plain": [
       "NormaltestResult(statistic=0.08453202186938176, pvalue=0.9586147446485838)"
      ]
     },
     "execution_count": 39,
     "metadata": {},
     "output_type": "execute_result"
    }
   ],
   "source": [
    "#Normality test\n",
    "stats.normaltest(testZ2)"
   ]
  },
  {
   "cell_type": "code",
   "execution_count": 40,
   "metadata": {},
   "outputs": [
    {
     "data": {
      "text/plain": [
       "(0.023838635442219536, 0.23841898062324968)"
      ]
     },
     "execution_count": 40,
     "metadata": {},
     "output_type": "execute_result"
    }
   ],
   "source": [
    "statsmodels.stats.diagnostic.kstest_normal(testZ2, dist='norm', pvalmethod='table')"
   ]
  },
  {
   "cell_type": "code",
   "execution_count": null,
   "metadata": {},
   "outputs": [],
   "source": []
  }
 ],
 "metadata": {
  "kernelspec": {
   "display_name": "Python 3",
   "language": "python",
   "name": "python3"
  },
  "language_info": {
   "codemirror_mode": {
    "name": "ipython",
    "version": 3
   },
   "file_extension": ".py",
   "mimetype": "text/x-python",
   "name": "python",
   "nbconvert_exporter": "python",
   "pygments_lexer": "ipython3",
   "version": "3.8.5"
  }
 },
 "nbformat": 4,
 "nbformat_minor": 4
}
