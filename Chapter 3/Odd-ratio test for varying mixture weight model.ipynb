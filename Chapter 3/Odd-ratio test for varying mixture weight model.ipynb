{
 "cells": [
  {
   "cell_type": "markdown",
   "metadata": {},
   "source": [
    "# Odd-ratio test for varying mixture weight model"
   ]
  },
  {
   "cell_type": "markdown",
   "metadata": {},
   "source": [
    "Margaux Thorez"
   ]
  },
  {
   "cell_type": "markdown",
   "metadata": {},
   "source": [
    "## 1- Contextualisation"
   ]
  },
  {
   "cell_type": "markdown",
   "metadata": {},
   "source": [
    "Under the null hypothesis $H_0$, we have : \n",
    "$$H_0 : \\Phi = \\frac{\\cfrac{p_1}{1 - p_1}}{\\cfrac{p_2}{1 - p_2}} = \\frac{\\cfrac{S_1(t)}{1 - S_1(t)}}{\\cfrac{S_2(t)}{1 - S_2(t)}} = 1.$$\n",
    "The estimated odd-ratio is :\n",
    "$$ \\hat{\\Phi} = \\frac{\\cfrac{\\hat{S}_1(t)}{1 - \\hat{S}_1(t)}}{\\cfrac{\\hat{S}_2(t)}{1 - \\hat{S}_2(t)}}  $$."
   ]
  },
  {
   "cell_type": "markdown",
   "metadata": {},
   "source": [
    "For the Ryzhov model, there exists a sequence $\\{ K_n , n \\geq 1\\}$ such that under the null hypothesis $H_0$ :\n",
    "$$K_n \\left(\\ln(\\hat{\\Phi}) - \\ln(\\Phi)\\right) \\xrightarrow[n\\rightarrow \\infty ]{\\mathcal{L}} \\mathcal{N}(0,1). $$"
   ]
  },
  {
   "cell_type": "markdown",
   "metadata": {},
   "source": [
    "In the case without censorship, we showed that :\n",
    "$$K_n = \\frac{1}{\\sqrt{\\frac{S_A(t)(1-S_A(t))}{n_A}\\left(\\frac{a_1(A)}{S_1(t)(1-S_1(t))} - \\frac{a_2(A)}{S_2(t)(1-S_2(t))}\\right)^2 + \\frac{S_B(t)(1-S_B(t))}{n_B}\\left(\\frac{a_1(B)}{S_1(t)(1-S_1(t))} - \\frac{a_2(B)}{S_2(t)(1-S_2(t))}\\right)^2}}.$$\n",
    "In the case with censorship : \n",
    "$$ K_n = \\frac{1}{\\sqrt{\\frac{\\sigma^2_A(t)}{n_A}\\left(\\frac{a_1(A)}{S_1(t)(1-S_1(t))} - \\frac{a_2(A)}{S_2(t)(1-S_2(t))}\\right)^2 + \\frac{\\sigma^2_B(t)}{n_B}\\left(\\frac{a_1(B)}{S_1(t)(1-S_1(t))} - \\frac{a_2(B)}{S_2(t)(1-S_2(t))}\\right)^2}},$$ \n",
    "with, for $M \\in \\{ A, B\\}$, $\\sigma^2_M(t) = S_M^2(t) \\int\\limits_{0}^{t} \\frac{f_M(u)du}{S_M^2(u)(1-G_M(u))} $. "
   ]
  },
  {
   "cell_type": "markdown",
   "metadata": {},
   "source": [
    "We will illustrate this result with a few simulations."
   ]
  },
  {
   "cell_type": "markdown",
   "metadata": {},
   "source": [
    "## 2- Libraries import"
   ]
  },
  {
   "cell_type": "code",
   "execution_count": 1,
   "metadata": {},
   "outputs": [],
   "source": [
    "#Libraries import\n",
    "#Basic librairies\n",
    "import numpy as np\n",
    "import pandas as pd\n",
    "import matplotlib.pyplot as plt\n",
    "from math import *\n",
    "from scipy import stats\n",
    "import random\n",
    "import statistics\n",
    "import seaborn as sns\n",
    "\n",
    "#scikit-survival Kaplan-Meier estimator\n",
    "from sksurv.nonparametric import kaplan_meier_estimator\n",
    "\n",
    "#Interpolation\n",
    "from scipy.interpolate import interp1d\n",
    "\n",
    "#CVXPY for convex optimization problems.\n",
    "import cvxpy as cp\n",
    "\n",
    "#Numba import\n",
    "from numba import njit, vectorize\n",
    "\n",
    "#Parallelization modules\n",
    "from sklearn.utils._joblib import Parallel, delayed\n",
    "\n",
    "#Kolmogorov-Smirnov Test\n",
    "from scipy.stats import ks_2samp\n",
    "from scipy.stats import kstest\n",
    "\n",
    "#Normality Test\n",
    "from scipy.stats import skew\n",
    "from scipy.stats import kurtosis\n",
    "from scipy.stats import norm\n",
    "\n",
    "from scipy.integrate import quad\n",
    "\n",
    "#Notebook\n",
    "from jyquickhelper import add_notebook_menu\n",
    "import warnings\n",
    "warnings.filterwarnings('ignore')"
   ]
  },
  {
   "cell_type": "code",
   "execution_count": 2,
   "metadata": {},
   "outputs": [
    {
     "data": {
      "text/html": [
       "<div id=\"my_id_menu_nb\">run previous cell, wait for 2 seconds</div>\n",
       "<script>\n",
       "function repeat_indent_string(n){\n",
       "    var a = \"\" ;\n",
       "    for ( ; n > 0 ; --n)\n",
       "        a += \"    \";\n",
       "    return a;\n",
       "}\n",
       "// look up into all sections and builds an automated menu //\n",
       "var update_menu_string = function(begin, lfirst, llast, sformat, send, keep_item, begin_format, end_format) {\n",
       "    var anchors = document.getElementsByClassName(\"section\");\n",
       "    if (anchors.length == 0) {\n",
       "        anchors = document.getElementsByClassName(\"text_cell_render rendered_html\");\n",
       "    }\n",
       "    var i,t;\n",
       "    var text_menu = begin;\n",
       "    var text_memo = \"<pre>\\nlength:\" + anchors.length + \"\\n\";\n",
       "    var ind = \"\";\n",
       "    var memo_level = 1;\n",
       "    var href;\n",
       "    var tags = [];\n",
       "    var main_item = 0;\n",
       "    var format_open = 0;\n",
       "    for (i = 0; i <= llast; i++)\n",
       "        tags.push(\"h\" + i);\n",
       "\n",
       "    for (i = 0; i < anchors.length; i++) {\n",
       "        text_memo += \"**\" + anchors[i].id + \"--\\n\";\n",
       "\n",
       "        var child = null;\n",
       "        for(t = 0; t < tags.length; t++) {\n",
       "            var r = anchors[i].getElementsByTagName(tags[t]);\n",
       "            if (r.length > 0) {\n",
       "child = r[0];\n",
       "break;\n",
       "            }\n",
       "        }\n",
       "        if (child == null) {\n",
       "            text_memo += \"null\\n\";\n",
       "            continue;\n",
       "        }\n",
       "        if (anchors[i].hasAttribute(\"id\")) {\n",
       "            // when converted in RST\n",
       "            href = anchors[i].id;\n",
       "            text_memo += \"#1-\" + href;\n",
       "            // passer à child suivant (le chercher)\n",
       "        }\n",
       "        else if (child.hasAttribute(\"id\")) {\n",
       "            // in a notebook\n",
       "            href = child.id;\n",
       "            text_memo += \"#2-\" + href;\n",
       "        }\n",
       "        else {\n",
       "            text_memo += \"#3-\" + \"*\" + \"\\n\";\n",
       "            continue;\n",
       "        }\n",
       "        var title = child.textContent;\n",
       "        var level = parseInt(child.tagName.substring(1,2));\n",
       "\n",
       "        text_memo += \"--\" + level + \"?\" + lfirst + \"--\" + title + \"\\n\";\n",
       "\n",
       "        if ((level < lfirst) || (level > llast)) {\n",
       "            continue ;\n",
       "        }\n",
       "        if (title.endsWith('¶')) {\n",
       "            title = title.substring(0,title.length-1).replace(\"<\", \"&lt;\")\n",
       "         .replace(\">\", \"&gt;\").replace(\"&\", \"&amp;\");\n",
       "        }\n",
       "        if (title.length == 0) {\n",
       "            continue;\n",
       "        }\n",
       "\n",
       "        while (level < memo_level) {\n",
       "            text_menu += end_format + \"</ul>\\n\";\n",
       "            format_open -= 1;\n",
       "            memo_level -= 1;\n",
       "        }\n",
       "        if (level == lfirst) {\n",
       "            main_item += 1;\n",
       "        }\n",
       "        if (keep_item != -1 && main_item != keep_item + 1) {\n",
       "            // alert(main_item + \" - \" + level + \" - \" + keep_item);\n",
       "            continue;\n",
       "        }\n",
       "        while (level > memo_level) {\n",
       "            text_menu += \"<ul>\\n\";\n",
       "            memo_level += 1;\n",
       "        }\n",
       "        text_menu += repeat_indent_string(level-2);\n",
       "        text_menu += begin_format + sformat.replace(\"__HREF__\", href).replace(\"__TITLE__\", title);\n",
       "        format_open += 1;\n",
       "    }\n",
       "    while (1 < memo_level) {\n",
       "        text_menu += end_format + \"</ul>\\n\";\n",
       "        memo_level -= 1;\n",
       "        format_open -= 1;\n",
       "    }\n",
       "    text_menu += send;\n",
       "    //text_menu += \"\\n\" + text_memo;\n",
       "\n",
       "    while (format_open > 0) {\n",
       "        text_menu += end_format;\n",
       "        format_open -= 1;\n",
       "    }\n",
       "    return text_menu;\n",
       "};\n",
       "var update_menu = function() {\n",
       "    var sbegin = \"\";\n",
       "    var sformat = '<a href=\"#__HREF__\">__TITLE__</a>';\n",
       "    var send = \"\";\n",
       "    var begin_format = '<li>';\n",
       "    var end_format = '</li>';\n",
       "    var keep_item = -1;\n",
       "    var text_menu = update_menu_string(sbegin, 2, 4, sformat, send, keep_item,\n",
       "       begin_format, end_format);\n",
       "    var menu = document.getElementById(\"my_id_menu_nb\");\n",
       "    menu.innerHTML=text_menu;\n",
       "};\n",
       "window.setTimeout(update_menu,2000);\n",
       "            </script>"
      ],
      "text/plain": [
       "<IPython.core.display.HTML object>"
      ]
     },
     "execution_count": 2,
     "metadata": {},
     "output_type": "execute_result"
    }
   ],
   "source": [
    "add_notebook_menu()"
   ]
  },
  {
   "cell_type": "markdown",
   "metadata": {},
   "source": [
    "## 3- Optimized functions"
   ]
  },
  {
   "cell_type": "markdown",
   "metadata": {},
   "source": [
    "For the law parameter choice, we have to choose the parameter \"law\" among \"exponnential\", \"pareto\", \"weibull\" and \"gamma\""
   ]
  },
  {
   "cell_type": "markdown",
   "metadata": {},
   "source": [
    "### Survival functions"
   ]
  },
  {
   "cell_type": "code",
   "execution_count": 3,
   "metadata": {},
   "outputs": [],
   "source": [
    "#Survival functions : returns the survival function of a mixture model for a certain law\n",
    "def S(x,P1,P2,law,lambd1,lambd2):\n",
    "    if law == \"exponnential\":\n",
    "        S = P1*stats.expon.sf(x, scale=lambd1) + P2*stats.expon.sf(x, scale=lambd2)\n",
    "    if law == \"pareto\":\n",
    "        #Certain parameters of the Pareto law have been fixed in order to obtain a function with characteristics similar to the survival functions found for sick leaves\n",
    "        S = P1*stats.pareto.sf(x, b=3, loc = -(2/3)*lambd1, scale=(2/3)*lambd1) + P2*stats.pareto.sf(x, b=3, loc=-(2/3)*lambd2, scale=(2/3)*lambd2)\n",
    "    if law == \"weibull\":\n",
    "        #Certain parameters of the Weibull law have been fixed in order to obtain a function with characteristics similar to the survival functions found for sick leaves\n",
    "        S = P1*stats.weibull_min.sf(x, c=2, scale=lambd1) + P2*stats.weibull_min.sf(x, c=2, scale=lambd2)\n",
    "    if law == \"gamma\":\n",
    "        S = P1*stats.gamma.sf(x, a=lambd1) + P2*stats.gamma.sf(x, a=lambd2)\n",
    "    return(S)"
   ]
  },
  {
   "cell_type": "markdown",
   "metadata": {},
   "source": [
    "### Simulation functions"
   ]
  },
  {
   "cell_type": "code",
   "execution_count": 4,
   "metadata": {},
   "outputs": [],
   "source": [
    "#Function that creates the base sample in a mixture according to the chosen law\n",
    "def InitializeMatriceX(law, lambd1, lambd2, P_1, size):\n",
    "    #Matrices X_A1 and X_A2\n",
    "    if law == \"exponnential\":\n",
    "        X_1 = stats.expon.rvs(scale=lambd1, size=size)\n",
    "        X_2 = stats.expon.rvs(scale=lambd2, size=size)\n",
    "    if law == \"pareto\":\n",
    "        X_1_v1 = stats.pareto.rvs(b=3, size=size)\n",
    "        X_1 = (2/3)*lambd1*(X_1_v1-1)\n",
    "        X_2_v1 = stats.pareto.rvs(b=3, size=size)\n",
    "        X_2 = (2/3)*lambd2*(X_2_v1-1)\n",
    "    if law == \"weibull\":\n",
    "        X_1 = stats.weibull_min.rvs(c=2, scale=lambd1, size=size)\n",
    "        X_2 = stats.weibull_min.rvs(c=2, scale=lambd2, size=size)    \n",
    "    if law == \"gamma\" :\n",
    "        X_1 = stats.gamma.rvs(a=lambd1, size=size)\n",
    "        X_2 = stats.gamma.rvs(a=lambd2, size=size)\n",
    "    #Matrice RA\n",
    "    R = stats.bernoulli.rvs(P_1, size=size)\n",
    "    X = R*X_1 + (1-R)*X_2\n",
    "    return X,R"
   ]
  },
  {
   "cell_type": "code",
   "execution_count": 5,
   "metadata": {},
   "outputs": [],
   "source": [
    "#Function to include censorship\n",
    "@njit #(parallel=True)\n",
    "def Y_ind_Allocation(Y_ind, Y, C, X):\n",
    "    for i in range(len(X)):\n",
    "        if Y[i]<C[i]: \n",
    "            Y_ind[i]=True\n",
    "    return Y_ind"
   ]
  },
  {
   "cell_type": "code",
   "execution_count": 6,
   "metadata": {},
   "outputs": [],
   "source": [
    "#Function to interpolate survival functions\n",
    "def S_est_Actualisation(S_est, time, time1, t):\n",
    "    S_est_res = np.concatenate(([1], S_est,[0]))\n",
    "    f = interp1d(np.concatenate(([0], time,[t])), S_est_res)\n",
    "    S_est_res = f(time1)\n",
    "    return S_est_res"
   ]
  },
  {
   "cell_type": "markdown",
   "metadata": {},
   "source": [
    "### Kaplan-Meier function of Maiboroda"
   ]
  },
  {
   "cell_type": "code",
   "execution_count": 7,
   "metadata": {},
   "outputs": [],
   "source": [
    "#Function to count S_X and N_X variables for Maiboroda's estimator\n",
    "@njit #(parallel=True)\n",
    "def S_x_N_x_Allocation(Y,Y_ind,X_X,time):\n",
    "    S_X = np.zeros_like(time)\n",
    "    N_X = np.zeros_like(time)\n",
    "    for k, t_k in enumerate(time):\n",
    "        for i, Y_i in enumerate(Y):\n",
    "            if Y_i >= t_k:\n",
    "                S_X[k] += X_X[i]\n",
    "            if (Y_i <= t_k) and  (Y_ind[i]==True) : \n",
    "                N_X[k] += X_X[i]\n",
    "    return S_X, N_X"
   ]
  },
  {
   "cell_type": "code",
   "execution_count": 8,
   "metadata": {},
   "outputs": [],
   "source": [
    "#Function to determine Maiboroda's estimator having S_X and N_X\n",
    "@njit #(parallel=True)\n",
    "def S_1_mx_Allocation(Y, S_X, N_X, time):\n",
    "    # Initialisation\n",
    "    S_1_mx = np.ones_like(time)\n",
    "    for k, t_k in enumerate(time):\n",
    "        for i in range(1,k):\n",
    "            if (Y[i] <= t_k) and (S_X[i] != 0) :\n",
    "                S_1_mx[k] = S_1_mx[k] * (1 - (N_X[i] - N_X[i-1])/S_X[i])\n",
    "    return S_1_mx"
   ]
  },
  {
   "cell_type": "code",
   "execution_count": 9,
   "metadata": {},
   "outputs": [],
   "source": [
    "#Function to smooth a survival function\n",
    "@njit #(parallel=True)\n",
    "# direction = 0 or 1\n",
    "def S_1_est_mx_Threshold(S_1_est_mx, direction):\n",
    "    S1_res = np.zeros_like(S_1_est_mx)\n",
    "    #Maximum at 1 and minimum at 0 for the survival function\n",
    "    for i, item in enumerate(S_1_est_mx):\n",
    "        if item > 1 :\n",
    "            S1_res[i] = 1\n",
    "        elif item < 0 :\n",
    "            S1_res[i] = 0\n",
    "        else :\n",
    "            S1_res[i] = item\n",
    "    #If direction = 0, we give to S[t] the value of S[t+1] if S[t]<S[t+1]\n",
    "    if direction == 0 : \n",
    "        for i in range(len(S_1_est_mx)-1):\n",
    "            k = i+1\n",
    "            while k<len(S_1_est_mx):\n",
    "                if S1_res[i]<S1_res[k]:\n",
    "                    S1_res[i] = S1_res[k]\n",
    "                k+=1\n",
    "    #If direction = 1, we give to S[t+1] the value of S[t] if S[t]<S[t+1]\n",
    "    elif direction == 1 :\n",
    "        for i in range(len(S_1_est_mx)-1):\n",
    "            k = i+1\n",
    "            while k < len(S_1_est_mx):\n",
    "                if S1_res[i]<S1_res[k]:\n",
    "                    S1_res[k] = S1_res[i]\n",
    "                k+=1\n",
    "    return S1_res"
   ]
  },
  {
   "cell_type": "code",
   "execution_count": 10,
   "metadata": {},
   "outputs": [],
   "source": [
    "#Maiboroda's Kaplan-Meier estimator\n",
    "@njit #(parallel=True)\n",
    "def kaplan_meier_mx (Y,Y_ind,X_X,time, direction) :\n",
    "    #Construction of N_X and S_X\n",
    "    S_X, N_X = S_x_N_x_Allocation(Y=Y,Y_ind=Y_ind,X_X=X_X,time=time)\n",
    "    #Initialization of S_1_est_mx\n",
    "    S_1_est_mx = S_1_mx_Allocation(Y=Y, S_X=S_X, N_X=N_X, time=time)\n",
    "    return S_1_est_mx "
   ]
  },
  {
   "cell_type": "code",
   "execution_count": 11,
   "metadata": {},
   "outputs": [],
   "source": [
    "#Maiboroda's Kaplan-Meier estimator smoothed\n",
    "@njit #(parallel=True)\n",
    "def kaplan_meier_mx_smoothed (Y,Y_ind,X_X,time, direction) :\n",
    "    #Construction of N_X and S_X\n",
    "    S_X, N_X = S_x_N_x_Allocation(Y=Y,Y_ind=Y_ind,X_X=X_X,time=time)\n",
    "    #Initialization of S_1_est_mx\n",
    "    S_1_est_mx = S_1_mx_Allocation(Y=Y, S_X=S_X, N_X=N_X, time=time)\n",
    "    #S_1_est_mx thresholding\n",
    "    S_1_est_mx_res = S_1_est_mx_Threshold(S_1_est_mx, direction)\n",
    "    #Return S_1_est_mx_res if we want the survival function to be linearized, S_1_est_mx otherwise\n",
    "    return S_1_est_mx_res "
   ]
  },
  {
   "cell_type": "markdown",
   "metadata": {},
   "source": [
    "## 4- General case without censorship"
   ]
  },
  {
   "cell_type": "code",
   "execution_count": 12,
   "metadata": {},
   "outputs": [],
   "source": [
    "def RunSimulation(law, nA, nB, lambd1, lambd2, P_A1, P_A2, P_B1, P_B2, M_inv, direction):\n",
    "    P = np.array([[P_A1, P_A2], [P_B1, P_B2]])\n",
    "    #Samples\n",
    "    X_A,RA = InitializeMatriceX(law=law, lambd1=lambd1, lambd2=lambd2, P_1=P_A1, size=nA)\n",
    "    X_B,RB = InitializeMatriceX(law=law, lambd1=lambd1, lambd2=lambd2, P_1=P_B1, size=nB)\n",
    "    \n",
    "    #Kaplan-Meier estimators\n",
    "    Y_A = X_A\n",
    "    Y_A_ind = [True for i in range(len(Y_A))]   \n",
    "    Y_B = X_B\n",
    "    Y_B_ind = [True for i in range(len(Y_B))]\n",
    "\n",
    "    #Kaplan-Meier estimator\n",
    "    time_A, S_A_est = kaplan_meier_estimator(Y_A_ind, Y_A)\n",
    "    time_B, S_B_est = kaplan_meier_estimator(Y_B_ind, Y_B)\n",
    "    #Initialization of time1, t and M_inv\n",
    "    time1 = np.concatenate(([0],time_A, time_B))\n",
    "    time1.sort()\n",
    "    t=max(time_A[-1],time_B[-1])\n",
    "    #Interpolation of S_A_est and S_B_est\n",
    "    S_A_est = S_est_Actualisation(S_est=S_A_est, time=time_A, time1=time1, t=t)\n",
    "    S_B_est = S_est_Actualisation(S_est=S_B_est, time=time_B, time1=time1, t=t)\n",
    "    #Determination of S_1_est and S_2_est (following Ryzhov's method)\n",
    "    S_1_est = M_inv[0][0]*S_A_est + M_inv[0][1]*S_B_est\n",
    "    S_2_est = M_inv[1][0]*S_A_est + M_inv[1][1]*S_B_est\n",
    "    \n",
    "    #Kaplan-Meier\n",
    "    X = np.concatenate((X_A,X_B))  \n",
    "    Y = X\n",
    "    Y_ind = [True for i in range(len(Y))]\n",
    "    \n",
    "    time, S_est = kaplan_meier_estimator(Y_ind, Y)\n",
    "    time = np.concatenate(([0], time))\n",
    "    S_est = np.concatenate(([1], S_est))\n",
    "       \n",
    "    #True survival functions     \n",
    "    S_1 = S(time,1,0,law,lambd1,lambd2)\n",
    "    S_2 = S(time,0,1,law,lambd1,lambd2)\n",
    "    \n",
    "    #Odds ratio\n",
    "    t = 1996\n",
    "    Phi = (S_1[t]/(1-S_1[t]))/(S_2[t]/(1-S_2[t]))\n",
    "    Phi_est = (S_1_est[t]/(1-S_1_est[t]))/(S_2_est[t]/(1-S_2_est[t]))\n",
    "    \n",
    "    KA = ((sqrt(S_A_est[t]*(1-S_A_est[t]))/sqrt(nA))*(M_inv[0][0]/(S_1_est[t]*(1-S_1_est[t])) - M_inv[1][0]/(S_2_est[t]*(1-S_2_est[t]))))\n",
    "    KB = ((sqrt(S_B_est[t]*(1-S_B_est[t]))/sqrt(nB))*(M_inv[0][1]/(S_1_est[t]*(1-S_1_est[t])) - M_inv[1][1]/(S_2_est[t]*(1-S_2_est[t]))))\n",
    "    \n",
    "    Kn = 1/(sqrt(KA**2+KB**2))\n",
    "    \n",
    "    result = Kn*(np.log(Phi_est))\n",
    "\n",
    "    return(result)\n"
   ]
  },
  {
   "cell_type": "code",
   "execution_count": 13,
   "metadata": {},
   "outputs": [],
   "source": [
    "#Simulations\n",
    "#Parameters choice (choose among \"exponnential\", \"pareto\", \"weibull\" and \"gamma\")\n",
    "law = \"exponnential\" \n",
    "\n",
    "#Sample sizes (we have chosen nA = nB but it is possible to change these parameters)\n",
    "n = 10000\n",
    "nA = round(n/2)\n",
    "nB = n - nA\n",
    "\n",
    "#Mixture parameters\n",
    "lambd1 = 50\n",
    "lambd2 = 50\n",
    "\n",
    "#Weight selection (note that we must have P_A1 + P_A2 = 1 and P_B1 + P_B2 = 1)\n",
    "P_A1 = 0.7\n",
    "P_A2 = 0.3\n",
    "P_B1 = 0.1\n",
    "P_B2 = 0.9\n",
    "\n",
    "#Threshold direction\n",
    "direction = 1"
   ]
  },
  {
   "cell_type": "code",
   "execution_count": 14,
   "metadata": {},
   "outputs": [
    {
     "name": "stdout",
     "output_type": "stream",
     "text": [
      "[[ 1.5        -0.5       ]\n",
      " [-0.16666667  1.16666667]]\n"
     ]
    }
   ],
   "source": [
    "#Inverted weight matrix\n",
    "M = np.array([[P_A1, P_A2],[P_B1, P_B2]])\n",
    "M_inv = np.linalg.inv(M)\n",
    "print(M_inv)"
   ]
  },
  {
   "cell_type": "markdown",
   "metadata": {},
   "source": [
    "### Results of one simulation"
   ]
  },
  {
   "cell_type": "code",
   "execution_count": 15,
   "metadata": {},
   "outputs": [
    {
     "data": {
      "text/plain": [
       "0.419900841280139"
      ]
     },
     "execution_count": 15,
     "metadata": {},
     "output_type": "execute_result"
    }
   ],
   "source": [
    "RunSimulation(law, nA, nB, lambd1, lambd2, P_A1, P_A2, P_B1, P_B2, M_inv, direction)"
   ]
  },
  {
   "cell_type": "code",
   "execution_count": 16,
   "metadata": {},
   "outputs": [],
   "source": [
    "def RunParallelSimulation(law, nA, nB, lambd1, lambd2, P_A1, P_A2, P_B1, P_B2, M_inv, direction, K, NJobs=-1, Verbose=0, PreDispatch='2*n_jobs'):\n",
    "    \n",
    "    #Initialization of parallelization parameters\n",
    "    ParallelSetUp = Parallel(n_jobs=NJobs, verbose=Verbose, pre_dispatch=PreDispatch, prefer=\"threads\")\n",
    "    \n",
    "    #RunSimulation\n",
    "    ComputedBlocks = ParallelSetUp([delayed(RunSimulation)(law=law, nA=nA, nB=nB, lambd1=lambd1, lambd2=lambd2, P_A1=P_A1, P_A2=P_A2, P_B1=P_B1, P_B2=P_B2, M_inv=M_inv, direction=direction) for k in range(K)])\n",
    "\n",
    "    #Concatenation into array\n",
    "    List_results = np.array([result for result in ComputedBlocks], dtype=np.dtype(object)) # peut etre que dtype array est approprié\n",
    "\n",
    "    #return ComputedBlocks\n",
    "    return List_results"
   ]
  },
  {
   "cell_type": "markdown",
   "metadata": {},
   "source": [
    "### Results of K simulations"
   ]
  },
  {
   "cell_type": "code",
   "execution_count": 17,
   "metadata": {},
   "outputs": [],
   "source": [
    "#Number of repetitions\n",
    "K = 1000"
   ]
  },
  {
   "cell_type": "code",
   "execution_count": 18,
   "metadata": {},
   "outputs": [],
   "source": [
    "List_results = RunParallelSimulation(law, nA, nB, lambd1, lambd2, P_A1, P_A2, P_B1, P_B2, M_inv, direction, K, NJobs=-1, Verbose=0, PreDispatch='2*n_jobs')"
   ]
  },
  {
   "cell_type": "code",
   "execution_count": 19,
   "metadata": {},
   "outputs": [],
   "source": [
    "List_results = List_results.tolist()"
   ]
  },
  {
   "cell_type": "code",
   "execution_count": 20,
   "metadata": {},
   "outputs": [
    {
     "data": {
      "text/plain": [
       "Text(0.5, 1.0, 'Analytical vs. Estimated PDF of $K_n*(ln(\\\\hat{\\\\Phi}) - ln(\\\\Phi))$')"
      ]
     },
     "execution_count": 20,
     "metadata": {},
     "output_type": "execute_result"
    },
    {
     "data": {
      "image/png": "[encoded data removed]",
      "text/plain": [
       "<Figure size 1440x720 with 1 Axes>"
      ]
     },
     "metadata": {
      "needs_background": "light"
     },
     "output_type": "display_data"
    }
   ],
   "source": [
    "#Graphical representation of the distribution\n",
    "dist = stats.norm()\n",
    "x = np.linspace(start=stats.norm.ppf(0.01), stop=stats.norm.ppf(0.99), num=K)\n",
    "gkde = stats.gaussian_kde(dataset=List_results)\n",
    "\n",
    "fig, ax = plt.subplots(figsize=(20, 10)) \n",
    "ax.hist(List_results,bins=50, density=True, label=\"Distribution of the statistical test\")\n",
    "ax.plot(x, dist.pdf(x), linestyle='solid', c='#D86173', lw=3, alpha=0.8, label='Gaussian PDF')\n",
    "ax.plot(x, gkde.evaluate(x), linestyle='dashed', c='black', lw=2, label='PDF estimated via KDE')\n",
    "ax.legend(loc='best', frameon=False, fontsize = 15)\n",
    "ax.set_title('Analytical vs. Estimated PDF of $K_n*(ln(\\hat{\\Phi}) - ln(\\Phi))$', fontsize = 25)"
   ]
  },
  {
   "cell_type": "code",
   "execution_count": 21,
   "metadata": {},
   "outputs": [
    {
     "name": "stdout",
     "output_type": "stream",
     "text": [
      "-0.09931468255979656\n",
      "3.066081050944858\n"
     ]
    }
   ],
   "source": [
    "#Calculate the skewness\n",
    "print(skew(List_results, axis=0, bias=True))\n",
    "\n",
    "#Calculate the kurtosis\n",
    "print(kurtosis(List_results, axis=0, fisher =  False, bias=True))"
   ]
  },
  {
   "cell_type": "code",
   "execution_count": 22,
   "metadata": {},
   "outputs": [
    {
     "data": {
      "text/plain": [
       "KstestResult(statistic=0.0239471901665555, pvalue=0.6062079071654272, statistic_location=-0.3585999551715555, statistic_sign=-1)"
      ]
     },
     "execution_count": 22,
     "metadata": {},
     "output_type": "execute_result"
    }
   ],
   "source": [
    "#Perform Kolmogorov-Smirnov test for normality \n",
    "kstest(List_results, 'norm')"
   ]
  },
  {
   "cell_type": "markdown",
   "metadata": {},
   "source": [
    "## 5- General case with censorship"
   ]
  },
  {
   "cell_type": "markdown",
   "metadata": {},
   "source": [
    "For the case with censorship, we juste take into account the exponnentiel distribution to facilitate the computation of the constant $K_n$. "
   ]
  },
  {
   "cell_type": "code",
   "execution_count": 36,
   "metadata": {},
   "outputs": [],
   "source": [
    "def RunSimulation(law, nA, nB, lambd1, lambd2, lambdC, P_A1, P_A2, P_B1, P_B2, M_inv, direction):\n",
    "    law = \"exponnential\" \n",
    "    P = np.array([[P_A1, P_A2], [P_B1, P_B2]])\n",
    "    #Samples\n",
    "    X_A,RA = InitializeMatriceX(law=law, lambd1=lambd1, lambd2=lambd2, P_1=P_A1, size=nA)\n",
    "    X_B,RB = InitializeMatriceX(law=law, lambd1=lambd1, lambd2=lambd2, P_1=P_B1, size=nB)\n",
    "    C_A = stats.expon.rvs(scale=lambdC, size=nA)\n",
    "    C_B = stats.expon.rvs(scale=lambdC, size=nB)\n",
    "    \n",
    "    #Independent copy of X_A and X_B\n",
    "    Y_A = X_A\n",
    "    Y_B = X_B\n",
    "    #Initializing Y_A_ind and Y_B_ind\n",
    "    Y_A_ind = np.full(shape=Y_A.shape, fill_value=False)\n",
    "    Y_B_ind = np.full(shape=Y_B.shape, fill_value=False)\n",
    "    #Updating Y_A_ind and Y_B_ind\n",
    "    Y_A = np.minimum(C_A, X_A)\n",
    "    Y_A_ind = Y_ind_Allocation(Y_ind=Y_A_ind, Y=Y_A, C=C_A, X=X_A)\n",
    "    Y_B = np.minimum(C_B, X_B)\n",
    "    Y_B_ind = Y_ind_Allocation(Y_ind=Y_B_ind, Y=Y_B, C=C_B, X=X_B)\n",
    "\n",
    "    #Kaplan-Meier estimator\n",
    "    time_A, S_A_est = kaplan_meier_estimator(Y_A_ind, Y_A)\n",
    "    time_B, S_B_est = kaplan_meier_estimator(Y_B_ind, Y_B)\n",
    "    #Initialization of time1, t and M_inv\n",
    "    time1 = np.concatenate(([0],time_A, time_B))\n",
    "    time1.sort()\n",
    "    t=max(time_A[-1],time_B[-1])\n",
    "    #Interpolation of S_A_est and S_B_est\n",
    "    S_A_est = S_est_Actualisation(S_est=S_A_est, time=time_A, time1=time1, t=t)\n",
    "    S_B_est = S_est_Actualisation(S_est=S_B_est, time=time_B, time1=time1, t=t)\n",
    "    #Determination of S_1_est and S_2_est (following Ryzhov's method)\n",
    "    S_1_est = M_inv[0][0]*S_A_est + M_inv[0][1]*S_B_est\n",
    "    S_2_est = M_inv[1][0]*S_A_est + M_inv[1][1]*S_B_est\n",
    "    \n",
    "    #Kaplan-Meier\n",
    "    X = np.concatenate((X_A,X_B))  \n",
    "    Y = X\n",
    "    Y_ind = [True for i in range(len(Y))]\n",
    "    \n",
    "    time, S_est = kaplan_meier_estimator(Y_ind, Y)\n",
    "    time = np.concatenate(([0], time))\n",
    "    S_est = np.concatenate(([1], S_est))\n",
    "       \n",
    "    #True survival functions     \n",
    "    S_1 = S(time,1,0,law,lambd1,lambd2)\n",
    "    S_2 = S(time,0,1,law,lambd1,lambd2)\n",
    "    \n",
    "    #Odds ratio\n",
    "    t = 1996\n",
    "    t2 = time[t]\n",
    "    \n",
    "    Phi = (S_1[t]/(1-S_1[t]))/(S_2[t]/(1-S_2[t]))\n",
    "    Phi_est = (S_1_est[t]/(1-S_1_est[t]))/(S_2_est[t]/(1-S_2_est[t]))\n",
    "    \n",
    "    #Survival function S(u)\n",
    "    def S_A(u):\n",
    "        return RA[t]*np.exp(-(1/lambd1) * u)  + (1-RA[t])*np.exp(-(1/lambd2) * u)\n",
    "    def S_B(u):\n",
    "        return RB[t]*np.exp(-(1/lambd1) * u)  + (1-RB[t])*np.exp(-(1/lambd2) * u)\n",
    "    \n",
    "    #Density function f(u)\n",
    "    def f_A(u):\n",
    "        return RA[t]*(1/lambd1) * np.exp(-(1/lambd1) * u)  + (1-RA[t])*(1/lambd2) * np.exp(-(1/lambd2) * u)\n",
    "    def f_B(u):\n",
    "        return RB[t]*(1/lambd1) * np.exp(-(1/lambd1) * u)  + (1-RB[t])*(1/lambd2) * np.exp(-(1/lambd2) * u)\n",
    "\n",
    "    #Censorship function G(u)\n",
    "    def G(u):\n",
    "        return 1-np.exp(-(1/lambdC) * u)\n",
    "\n",
    "    #Integral\n",
    "    def integrandA(u):\n",
    "        return f_A(u) / (S_A(u)**2 * (1 - G(u)))\n",
    "    def integrandB(u):\n",
    "        return f_B(u) / (S_B(u)**2 * (1 - G(u)))\n",
    "    \n",
    "    def calculate_integralA(t2):\n",
    "        result, _ = quad(integrandA, 0, t2)\n",
    "        return result\n",
    "    def calculate_integralB(t2):\n",
    "        result, _ = quad(integrandB, 0, t2)\n",
    "        return result\n",
    "\n",
    "    #Calculating the final expression\n",
    "    def final_expression(t2):\n",
    "        integral_valueA = calculate_integralA(t2)\n",
    "        integral_valueB = calculate_integralB(t2)\n",
    "        return S_A_est[t]**2 * integral_valueA, S_B_est[t]**2 * integral_valueB\n",
    "\n",
    "    sigmaA = S_A_est[t]**2 *calculate_integralA(t2)\n",
    "    sigmaB = S_B_est[t]**2 *calculate_integralB(t2)\n",
    "    \n",
    "    KA = ((sqrt(sigmaA)/sqrt(nA))*(M_inv[0][0]/(S_1_est[t]*(1-S_1_est[t])) - M_inv[1][0]/(S_2_est[t]*(1-S_2_est[t]))))\n",
    "    KB = ((sqrt(sigmaB)/sqrt(nB))*(M_inv[0][1]/(S_1_est[t]*(1-S_1_est[t])) - M_inv[1][1]/(S_2_est[t]*(1-S_2_est[t]))))\n",
    "    \n",
    "    Kn = 1/(sqrt(KA**2+KB**2))\n",
    "    \n",
    "    result = Kn*(np.log(Phi_est))\n",
    "\n",
    "    return(result)\n",
    "    \n",
    "    \n",
    "    "
   ]
  },
  {
   "cell_type": "code",
   "execution_count": 37,
   "metadata": {},
   "outputs": [],
   "source": [
    "def RunParallelSimulation(law, nA, nB, lambd1, lambd2, lambdC, P_A1, P_A2, P_B1, P_B2, M_inv, direction, K, NJobs=-1, Verbose=0, PreDispatch='2*n_jobs'):\n",
    "    \n",
    "    #Initialization of parallelization parameters\n",
    "    ParallelSetUp = Parallel(n_jobs=NJobs, verbose=Verbose, pre_dispatch=PreDispatch, prefer=\"threads\")\n",
    "    \n",
    "    #RunSimulation\n",
    "    ComputedBlocks = ParallelSetUp([delayed(RunSimulation)(law=law, nA=nA, nB=nB, lambd1=lambd1, lambd2=lambd2, lambdC=lambdC, P_A1=P_A1, P_A2=P_A2, P_B1=P_B1, P_B2=P_B2, M_inv=M_inv, direction = direction) for k in range(K)])\n",
    "\n",
    "    #Concatenation into array\n",
    "    List_results = np.array([result for result in ComputedBlocks], dtype=np.dtype(object)) # peut etre que dtype array est approprié\n",
    "\n",
    "    #return ComputedBlocks\n",
    "    return List_results"
   ]
  },
  {
   "cell_type": "markdown",
   "metadata": {},
   "source": [
    "### Simulation parameters"
   ]
  },
  {
   "cell_type": "code",
   "execution_count": 38,
   "metadata": {},
   "outputs": [],
   "source": [
    "#Simulations\n",
    "#Parameters choice (choose among \"exponnential\", \"pareto\", \"weibull\" and \"gamma\")\n",
    "law = \"exponnential\" \n",
    "\n",
    "#Sample sizes (we have chosen nA = nB but it is possible to change these parameters)\n",
    "n = 10000\n",
    "nA = round(n/2)\n",
    "nB = n - nA\n",
    "\n",
    "#Mixture parameters\n",
    "lambd1 = 50\n",
    "lambd2 = 50\n",
    "\n",
    "lambdC = 200\n",
    "\n",
    "#Weight selection (note that we must have P_A1 + P_A2 = 1 and P_B1 + P_B2 = 1)\n",
    "P_A1 = 0.7\n",
    "P_A2 = 0.3\n",
    "P_B1 = 0.1\n",
    "P_B2 = 0.9\n",
    "\n",
    "#Threshold direction\n",
    "direction = 1\n"
   ]
  },
  {
   "cell_type": "code",
   "execution_count": 39,
   "metadata": {},
   "outputs": [
    {
     "name": "stdout",
     "output_type": "stream",
     "text": [
      "[[ 1.5        -0.5       ]\n",
      " [-0.16666667  1.16666667]]\n"
     ]
    }
   ],
   "source": [
    "#Inverted weight matrix\n",
    "M = np.array([[P_A1, P_A2],[P_B1, P_B2]])\n",
    "M_inv = np.linalg.inv(M)\n",
    "print(M_inv)"
   ]
  },
  {
   "cell_type": "markdown",
   "metadata": {},
   "source": [
    "### Results of one simulation"
   ]
  },
  {
   "cell_type": "code",
   "execution_count": 40,
   "metadata": {},
   "outputs": [
    {
     "data": {
      "text/plain": [
       "-0.5058619315196909"
      ]
     },
     "execution_count": 40,
     "metadata": {},
     "output_type": "execute_result"
    }
   ],
   "source": [
    "RunSimulation(law, nA, nB, lambd1, lambd2, lambdC, P_A1, P_A2, P_B1, P_B2, M_inv, direction)"
   ]
  },
  {
   "cell_type": "markdown",
   "metadata": {},
   "source": [
    "### Results of K simulations"
   ]
  },
  {
   "cell_type": "code",
   "execution_count": 41,
   "metadata": {},
   "outputs": [],
   "source": [
    "#Number of repetitions\n",
    "K = 1000"
   ]
  },
  {
   "cell_type": "code",
   "execution_count": 42,
   "metadata": {},
   "outputs": [],
   "source": [
    "List_results = RunParallelSimulation(law, nA, nB, lambd1, lambd2, lambdC, P_A1, P_A2, P_B1, P_B2, M_inv, direction, K, NJobs=-1, Verbose=0, PreDispatch='2*n_jobs')"
   ]
  },
  {
   "cell_type": "code",
   "execution_count": 43,
   "metadata": {},
   "outputs": [],
   "source": [
    "List_results = List_results.tolist()"
   ]
  },
  {
   "cell_type": "code",
   "execution_count": 44,
   "metadata": {},
   "outputs": [
    {
     "data": {
      "text/plain": [
       "Text(0.5, 1.0, 'Analytical vs. Estimated PDF of $K_n*(ln(\\\\hat{\\\\Phi}) - ln(\\\\Phi))$')"
      ]
     },
     "execution_count": 44,
     "metadata": {},
     "output_type": "execute_result"
    },
    {
     "data": {
      "image/png": "[encoded data removed]",
      "text/plain": [
       "<Figure size 1440x720 with 1 Axes>"
      ]
     },
     "metadata": {
      "needs_background": "light"
     },
     "output_type": "display_data"
    }
   ],
   "source": [
    "#Graphical representation of the distribution\n",
    "dist = stats.norm()\n",
    "x = np.linspace(start=stats.norm.ppf(0.01), stop=stats.norm.ppf(0.99), num=K)\n",
    "gkde = stats.gaussian_kde(dataset=List_results)\n",
    "\n",
    "fig, ax = plt.subplots(figsize=(20, 10)) \n",
    "ax.hist(List_results,bins=50, density=True, label=\"Distribution of the statistical test\")\n",
    "ax.plot(x, dist.pdf(x), linestyle='solid', c='#D86173', lw=3, alpha=0.8, label='Gaussian PDF')\n",
    "ax.plot(x, gkde.evaluate(x), linestyle='dashed', c='black', lw=2, label='PDF estimated via KDE')\n",
    "ax.legend(loc='best', frameon=False, fontsize = 15)\n",
    "ax.set_title('Analytical vs. Estimated PDF of $K_n*(ln(\\hat{\\Phi}) - ln(\\Phi))$', fontsize = 25)"
   ]
  },
  {
   "cell_type": "code",
   "execution_count": 45,
   "metadata": {},
   "outputs": [
    {
     "name": "stdout",
     "output_type": "stream",
     "text": [
      "-0.012280609339817313\n",
      "2.9462631855818793\n"
     ]
    }
   ],
   "source": [
    "#Calculate the skewness\n",
    "print(skew(List_results, axis=0, bias=True))\n",
    "\n",
    "#Calculate the kurtosis\n",
    "print(kurtosis(List_results, axis=0, fisher =  False, bias=True))"
   ]
  },
  {
   "cell_type": "code",
   "execution_count": 46,
   "metadata": {},
   "outputs": [
    {
     "data": {
      "text/plain": [
       "KstestResult(statistic=0.03805554730232985, pvalue=0.10762265154174855, statistic_location=1.2209337765045523, statistic_sign=1)"
      ]
     },
     "execution_count": 46,
     "metadata": {},
     "output_type": "execute_result"
    }
   ],
   "source": [
    "#Perform Kolmogorov-Smirnov test for normality \n",
    "kstest(List_results, 'norm')"
   ]
  }
 ],
 "metadata": {
  "kernelspec": {
   "display_name": "Python 3",
   "language": "python",
   "name": "python3"
  },
  "language_info": {
   "codemirror_mode": {
    "name": "ipython",
    "version": 3
   },
   "file_extension": ".py",
   "mimetype": "text/x-python",
   "name": "python",
   "nbconvert_exporter": "python",
   "pygments_lexer": "ipython3",
   "version": "3.8.5"
  }
 },
 "nbformat": 4,
 "nbformat_minor": 4
}
