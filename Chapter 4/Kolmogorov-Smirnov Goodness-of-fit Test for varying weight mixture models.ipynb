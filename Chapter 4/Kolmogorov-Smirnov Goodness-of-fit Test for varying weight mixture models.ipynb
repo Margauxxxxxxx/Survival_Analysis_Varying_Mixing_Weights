{
 "cells": [
  {
   "cell_type": "markdown",
   "metadata": {},
   "source": [
    "# Kolmogorov-Smirnov Goodness-of-fit Test for varying weight mixture models"
   ]
  },
  {
   "cell_type": "markdown",
   "metadata": {},
   "source": [
    "Margaux Thorez"
   ]
  },
  {
   "cell_type": "markdown",
   "metadata": {},
   "source": [
    "## 1- Contextualisation"
   ]
  },
  {
   "cell_type": "markdown",
   "metadata": {},
   "source": [
    "We have studied the theoretical threshold calibration of the Kolmogorov-Smirnov goodness-of-fit test applied to variable weight mixture models. We carried out simulations to assess the relevance of the theoretical thresholds found for Ryzhov's method."
   ]
  },
  {
   "cell_type": "markdown",
   "metadata": {},
   "source": [
    "We showed that, for group \"l\" : \n",
    "\\begin{align*}\n",
    "    \\mathbb{P}\\left(\\sqrt{n} \\sup\\limits_{t\\in\\mathbb{R}} |\\hat{S}_l(t) - S_0(t)| >  s_{\\alpha} \\right) & \\leq \\mathbb{P}\\left(\\sqrt{\\frac{n}{2}}\\sup\\limits_{t\\in\\mathbb{R}}|(\\hat{S}_A(t) - S_A(t))| > \\frac{ s_{\\alpha}}{2\\sqrt{2}|a_l(A)|}\\right)\\\\\n",
    "    & + \\mathbb{P}\\left(\\sqrt{\\frac{n}{2}}\\sup\\limits_{t\\in\\mathbb{R}}|(\\hat{S}_B(t) - S_B(t))| > \\frac{s_{\\alpha}}{2\\sqrt{2}|a_1(B)|}\\right).\n",
    "\\end{align*}"
   ]
  },
  {
   "cell_type": "markdown",
   "metadata": {},
   "source": [
    "We can now determine the threshold $s_{\\alpha}$ that applies in the case of our mixture model. We can choose $s_{\\alpha} = \\max (s_{\\alpha_A}, s_{\\alpha_B}) $, with $s_{\\alpha_A} = 2\\sqrt{2}|a_l(A)|t_{\\alpha/2} $ and $s_{\\alpha_B} = 2\\sqrt{2}|a_l(B)|t_{\\alpha/2} $. We use the $t_{\\alpha/2}$ threshold from the one-sample Kolmogorov-Smirnov table.\n"
   ]
  },
  {
   "cell_type": "markdown",
   "metadata": {},
   "source": [
    "The Kolmogorov-Smirnov tables are available on https://real-statistics.com/statistics-tables/kolmogorov-smirnov-table/"
   ]
  },
  {
   "cell_type": "markdown",
   "metadata": {},
   "source": [
    "## 2- Libraries import"
   ]
  },
  {
   "cell_type": "code",
   "execution_count": 1,
   "metadata": {},
   "outputs": [],
   "source": [
    "#Libraries import\n",
    "#Basic librairies\n",
    "import numpy as np\n",
    "import pandas as pd\n",
    "import matplotlib.pyplot as plt\n",
    "from math import *\n",
    "from scipy import stats\n",
    "import random\n",
    "import statistics\n",
    "import seaborn as sns\n",
    "\n",
    "#scikit-survival Kaplan-Meier estimator\n",
    "from sksurv.nonparametric import kaplan_meier_estimator\n",
    "from datetime import datetime\n",
    "\n",
    "#Interpolation\n",
    "from scipy.interpolate import interp1d\n",
    "\n",
    "#CVXPY for convex optimization problems.\n",
    "import cvxpy as cp\n",
    "\n",
    "#Numba import\n",
    "from numba import njit, vectorize\n",
    "\n",
    "#Parallelization modules\n",
    "from sklearn.utils._joblib import Parallel, delayed\n",
    "\n",
    "#Kolmogorov-Smirnov Test\n",
    "from scipy.stats import ks_2samp\n",
    "from scipy.stats import kstest\n",
    "from scipy.stats import ksone\n",
    "from scipy.stats import kstwo\n",
    "\n",
    "#Normality Test\n",
    "from scipy.stats import skew\n",
    "from scipy.stats import kurtosis\n",
    "from scipy.stats import norm\n",
    "\n",
    "import statsmodels.stats.diagnostic\n",
    "\n",
    "from sklearn.mixture import GaussianMixture\n",
    "\n",
    "#Notebook\n",
    "from jyquickhelper import add_notebook_menu\n",
    "import warnings\n",
    "warnings.filterwarnings('ignore')"
   ]
  },
  {
   "cell_type": "code",
   "execution_count": 2,
   "metadata": {},
   "outputs": [
    {
     "data": {
      "text/html": [
       "<div id=\"my_id_menu_nb\">run previous cell, wait for 2 seconds</div>\n",
       "<script>\n",
       "function repeat_indent_string(n){\n",
       "    var a = \"\" ;\n",
       "    for ( ; n > 0 ; --n)\n",
       "        a += \"    \";\n",
       "    return a;\n",
       "}\n",
       "// look up into all sections and builds an automated menu //\n",
       "var update_menu_string = function(begin, lfirst, llast, sformat, send, keep_item, begin_format, end_format) {\n",
       "    var anchors = document.getElementsByClassName(\"section\");\n",
       "    if (anchors.length == 0) {\n",
       "        anchors = document.getElementsByClassName(\"text_cell_render rendered_html\");\n",
       "    }\n",
       "    var i,t;\n",
       "    var text_menu = begin;\n",
       "    var text_memo = \"<pre>\\nlength:\" + anchors.length + \"\\n\";\n",
       "    var ind = \"\";\n",
       "    var memo_level = 1;\n",
       "    var href;\n",
       "    var tags = [];\n",
       "    var main_item = 0;\n",
       "    var format_open = 0;\n",
       "    for (i = 0; i <= llast; i++)\n",
       "        tags.push(\"h\" + i);\n",
       "\n",
       "    for (i = 0; i < anchors.length; i++) {\n",
       "        text_memo += \"**\" + anchors[i].id + \"--\\n\";\n",
       "\n",
       "        var child = null;\n",
       "        for(t = 0; t < tags.length; t++) {\n",
       "            var r = anchors[i].getElementsByTagName(tags[t]);\n",
       "            if (r.length > 0) {\n",
       "child = r[0];\n",
       "break;\n",
       "            }\n",
       "        }\n",
       "        if (child == null) {\n",
       "            text_memo += \"null\\n\";\n",
       "            continue;\n",
       "        }\n",
       "        if (anchors[i].hasAttribute(\"id\")) {\n",
       "            // when converted in RST\n",
       "            href = anchors[i].id;\n",
       "            text_memo += \"#1-\" + href;\n",
       "            // passer à child suivant (le chercher)\n",
       "        }\n",
       "        else if (child.hasAttribute(\"id\")) {\n",
       "            // in a notebook\n",
       "            href = child.id;\n",
       "            text_memo += \"#2-\" + href;\n",
       "        }\n",
       "        else {\n",
       "            text_memo += \"#3-\" + \"*\" + \"\\n\";\n",
       "            continue;\n",
       "        }\n",
       "        var title = child.textContent;\n",
       "        var level = parseInt(child.tagName.substring(1,2));\n",
       "\n",
       "        text_memo += \"--\" + level + \"?\" + lfirst + \"--\" + title + \"\\n\";\n",
       "\n",
       "        if ((level < lfirst) || (level > llast)) {\n",
       "            continue ;\n",
       "        }\n",
       "        if (title.endsWith('¶')) {\n",
       "            title = title.substring(0,title.length-1).replace(\"<\", \"&lt;\")\n",
       "         .replace(\">\", \"&gt;\").replace(\"&\", \"&amp;\");\n",
       "        }\n",
       "        if (title.length == 0) {\n",
       "            continue;\n",
       "        }\n",
       "\n",
       "        while (level < memo_level) {\n",
       "            text_menu += end_format + \"</ul>\\n\";\n",
       "            format_open -= 1;\n",
       "            memo_level -= 1;\n",
       "        }\n",
       "        if (level == lfirst) {\n",
       "            main_item += 1;\n",
       "        }\n",
       "        if (keep_item != -1 && main_item != keep_item + 1) {\n",
       "            // alert(main_item + \" - \" + level + \" - \" + keep_item);\n",
       "            continue;\n",
       "        }\n",
       "        while (level > memo_level) {\n",
       "            text_menu += \"<ul>\\n\";\n",
       "            memo_level += 1;\n",
       "        }\n",
       "        text_menu += repeat_indent_string(level-2);\n",
       "        text_menu += begin_format + sformat.replace(\"__HREF__\", href).replace(\"__TITLE__\", title);\n",
       "        format_open += 1;\n",
       "    }\n",
       "    while (1 < memo_level) {\n",
       "        text_menu += end_format + \"</ul>\\n\";\n",
       "        memo_level -= 1;\n",
       "        format_open -= 1;\n",
       "    }\n",
       "    text_menu += send;\n",
       "    //text_menu += \"\\n\" + text_memo;\n",
       "\n",
       "    while (format_open > 0) {\n",
       "        text_menu += end_format;\n",
       "        format_open -= 1;\n",
       "    }\n",
       "    return text_menu;\n",
       "};\n",
       "var update_menu = function() {\n",
       "    var sbegin = \"\";\n",
       "    var sformat = '<a href=\"#__HREF__\">__TITLE__</a>';\n",
       "    var send = \"\";\n",
       "    var begin_format = '<li>';\n",
       "    var end_format = '</li>';\n",
       "    var keep_item = -1;\n",
       "    var text_menu = update_menu_string(sbegin, 2, 4, sformat, send, keep_item,\n",
       "       begin_format, end_format);\n",
       "    var menu = document.getElementById(\"my_id_menu_nb\");\n",
       "    menu.innerHTML=text_menu;\n",
       "};\n",
       "window.setTimeout(update_menu,2000);\n",
       "            </script>"
      ],
      "text/plain": [
       "<IPython.core.display.HTML object>"
      ]
     },
     "execution_count": 2,
     "metadata": {},
     "output_type": "execute_result"
    }
   ],
   "source": [
    "add_notebook_menu()"
   ]
  },
  {
   "cell_type": "markdown",
   "metadata": {},
   "source": [
    "## 3- Optimized functions"
   ]
  },
  {
   "cell_type": "markdown",
   "metadata": {},
   "source": [
    "For the law parameter choice, we have to choose the parameter \"law\" among \"exponnential\", \"pareto\", \"weibull\" and \"gamma\""
   ]
  },
  {
   "cell_type": "markdown",
   "metadata": {},
   "source": [
    "### Survival functions"
   ]
  },
  {
   "cell_type": "code",
   "execution_count": 3,
   "metadata": {},
   "outputs": [],
   "source": [
    "#Survival functions : returns the survival function of a mixture model for a certain law\n",
    "def S(x,P1,P2,law,lambd1,lambd2):\n",
    "    if law == \"exponnential\":\n",
    "        S = P1*stats.expon.sf(x, scale=lambd1) + P2*stats.expon.sf(x, scale=lambd2)\n",
    "    if law == \"pareto\":\n",
    "        #Certain parameters of the Pareto law have been fixed in order to obtain a function with characteristics similar to the survival functions found for sick leaves\n",
    "        S = P1*stats.pareto.sf(x, b=3, loc = -(2/3)*lambd1, scale=(2/3)*lambd1) + P2*stats.pareto.sf(x, b=3, loc=-(2/3)*lambd2, scale=(2/3)*lambd2)\n",
    "    if law == \"weibull\":\n",
    "        #Certain parameters of the Weibull law have been fixed in order to obtain a function with characteristics similar to the survival functions found for sick leaves\n",
    "        S = P1*stats.weibull_min.sf(x, c=2, scale=lambd1) + P2*stats.weibull_min.sf(x, c=2, scale=lambd2)\n",
    "    if law == \"gamma\":\n",
    "        S = P1*stats.gamma.sf(x, a=lambd1) + P2*stats.gamma.sf(x, a=lambd2)\n",
    "    return(S)"
   ]
  },
  {
   "cell_type": "markdown",
   "metadata": {},
   "source": [
    "### Simulation functions"
   ]
  },
  {
   "cell_type": "code",
   "execution_count": 4,
   "metadata": {},
   "outputs": [],
   "source": [
    "#Function that creates the base sample in a mixture according to the chosen law\n",
    "def InitializeMatriceX(law, lambd1, lambd2, P_1, size):\n",
    "    #Matrices X_A1 and X_A2\n",
    "    if law == \"exponnential\":\n",
    "        X_1 = stats.expon.rvs(scale=lambd1, size=size)\n",
    "        X_2 = stats.expon.rvs(scale=lambd2, size=size)\n",
    "    if law == \"pareto\":\n",
    "        X_1_v1 = stats.pareto.rvs(b=3, size=size)\n",
    "        X_1 = (2/3)*lambd1*(X_1_v1-1)\n",
    "        X_2_v1 = stats.pareto.rvs(b=3, size=size)\n",
    "        X_2 = (2/3)*lambd2*(X_2_v1-1)\n",
    "    if law == \"weibull\":\n",
    "        X_1 = stats.weibull_min.rvs(c=2, scale=lambd1, size=size)\n",
    "        X_2 = stats.weibull_min.rvs(c=2, scale=lambd2, size=size)    \n",
    "    if law == \"gamma\" :\n",
    "        X_1 = stats.gamma.rvs(a=lambd1, size=size)\n",
    "        X_2 = stats.gamma.rvs(a=lambd2, size=size)\n",
    "    #Matrice RA\n",
    "    R = stats.bernoulli.rvs(P_1, size=size)\n",
    "    X = R*X_1 + (1-R)*X_2\n",
    "    return X"
   ]
  },
  {
   "cell_type": "code",
   "execution_count": 5,
   "metadata": {},
   "outputs": [],
   "source": [
    "#Function to include censorship\n",
    "@njit #(parallel=True)\n",
    "def Y_ind_Allocation(Y_ind, Y, C, X):\n",
    "    for i in range(len(X)):\n",
    "        if Y[i]<C[i]: \n",
    "            Y_ind[i]=True\n",
    "    return Y_ind"
   ]
  },
  {
   "cell_type": "code",
   "execution_count": 6,
   "metadata": {},
   "outputs": [],
   "source": [
    "#Function to interpolate survival functions\n",
    "def S_est_Actualisation(S_est, time, time1, t):\n",
    "    S_est_res = np.concatenate(([1], S_est,[0]))\n",
    "    f = interp1d(np.concatenate(([0], time,[t])), S_est_res)\n",
    "    S_est_res = f(time1)\n",
    "    return S_est_res"
   ]
  },
  {
   "cell_type": "markdown",
   "metadata": {},
   "source": [
    "### Kaplan-Meier function of Maiboroda"
   ]
  },
  {
   "cell_type": "code",
   "execution_count": 7,
   "metadata": {},
   "outputs": [],
   "source": [
    "#Function to count S_X and N_X variables for Maiboroda's estimator\n",
    "@njit #(parallel=True)\n",
    "def S_x_N_x_Allocation(Y,Y_ind,X_X,time):\n",
    "    S_X = np.zeros_like(time)\n",
    "    N_X = np.zeros_like(time)\n",
    "    for k, t_k in enumerate(time):\n",
    "        for i, Y_i in enumerate(Y):\n",
    "            if Y_i >= t_k:\n",
    "                S_X[k] += X_X[i]\n",
    "            if (Y_i <= t_k) and  (Y_ind[i]==True) : \n",
    "                N_X[k] += X_X[i]\n",
    "    return S_X, N_X"
   ]
  },
  {
   "cell_type": "code",
   "execution_count": 8,
   "metadata": {},
   "outputs": [],
   "source": [
    "#Function to determine Maiboroda's estimator having S_X and N_X\n",
    "@njit #(parallel=True)\n",
    "def S_1_mx_Allocation(Y, S_X, N_X, time):\n",
    "    # Initialisation\n",
    "    S_1_mx = np.ones_like(time)\n",
    "    for k, t_k in enumerate(time):\n",
    "        for i in range(1,k):\n",
    "            if (Y[i] <= t_k) and (S_X[i] != 0) :\n",
    "                S_1_mx[k] = S_1_mx[k] * (1 - (N_X[i] - N_X[i-1])/S_X[i])\n",
    "    return S_1_mx"
   ]
  },
  {
   "cell_type": "code",
   "execution_count": 9,
   "metadata": {},
   "outputs": [],
   "source": [
    "#Function to smooth a survival function\n",
    "@njit #(parallel=True)\n",
    "# direction = 0 or 1\n",
    "def S_1_est_mx_Threshold(S_1_est_mx, direction):\n",
    "    S1_res = np.zeros_like(S_1_est_mx)\n",
    "    #Maximum at 1 and minimum at 0 for the survival function\n",
    "    for i, item in enumerate(S_1_est_mx):\n",
    "        if item > 1 :\n",
    "            S1_res[i] = 1\n",
    "        elif item < 0 :\n",
    "            S1_res[i] = 0\n",
    "        else :\n",
    "            S1_res[i] = item\n",
    "    #If direction = 0, we give to S[t] the value of S[t+1] if S[t]<S[t+1]\n",
    "    if direction == 0 : \n",
    "        for i in range(len(S_1_est_mx)-1):\n",
    "            k = i+1\n",
    "            while k<len(S_1_est_mx):\n",
    "                if S1_res[i]<S1_res[k]:\n",
    "                    S1_res[i] = S1_res[k]\n",
    "                k+=1\n",
    "    #If direction = 1, we give to S[t+1] the value of S[t] if S[t]<S[t+1]\n",
    "    elif direction == 1 :\n",
    "        for i in range(len(S_1_est_mx)-1):\n",
    "            k = i+1\n",
    "            while k < len(S_1_est_mx):\n",
    "                if S1_res[i]<S1_res[k]:\n",
    "                    S1_res[k] = S1_res[i]\n",
    "                k+=1\n",
    "    return S1_res"
   ]
  },
  {
   "cell_type": "code",
   "execution_count": 10,
   "metadata": {},
   "outputs": [],
   "source": [
    "#Maiboroda's Kaplan-Meier estimator\n",
    "@njit #(parallel=True)\n",
    "def kaplan_meier_mx (Y,Y_ind,X_X,time, direction) :\n",
    "    #Construction of N_X and S_X\n",
    "    S_X, N_X = S_x_N_x_Allocation(Y=Y,Y_ind=Y_ind,X_X=X_X,time=time)\n",
    "    #Initialization of S_1_est_mx\n",
    "    S_1_est_mx = S_1_mx_Allocation(Y=Y, S_X=S_X, N_X=N_X, time=time)\n",
    "    return S_1_est_mx "
   ]
  },
  {
   "cell_type": "code",
   "execution_count": 11,
   "metadata": {},
   "outputs": [],
   "source": [
    "#Maiboroda's Kaplan-Meier estimator smoothed\n",
    "@njit #(parallel=True)\n",
    "def kaplan_meier_mx_smoothed (Y,Y_ind,X_X,time, direction) :\n",
    "    #Construction of N_X and S_X\n",
    "    S_X, N_X = S_x_N_x_Allocation(Y=Y,Y_ind=Y_ind,X_X=X_X,time=time)\n",
    "    #Initialization of S_1_est_mx\n",
    "    S_1_est_mx = S_1_mx_Allocation(Y=Y, S_X=S_X, N_X=N_X, time=time)\n",
    "    #S_1_est_mx thresholding\n",
    "    S_1_est_mx_res = S_1_est_mx_Threshold(S_1_est_mx, direction)\n",
    "    #Return S_1_est_mx_res if we want the survival function to be linearized, S_1_est_mx otherwise\n",
    "    return S_1_est_mx_res "
   ]
  },
  {
   "cell_type": "markdown",
   "metadata": {},
   "source": [
    "## 4- Threshold determination of the Kolmogorov-Smirnov test for varying weight mixture models"
   ]
  },
  {
   "cell_type": "code",
   "execution_count": 12,
   "metadata": {},
   "outputs": [],
   "source": [
    "def RunSimulation(law, nA, nB, lambd1, lambd2, P_A1, P_A2, P_B1, P_B2, M_inv, direction):\n",
    "    #The model argument can be either \"Ryzhov\" or \"Maiboroda\"\n",
    "    P = np.array([[P_A1, P_A2], [P_B1, P_B2]])\n",
    "    #Samples\n",
    "    X_A = InitializeMatriceX(law=law, lambd1=lambd1, lambd2=lambd2, P_1=P_A1, size=nA)\n",
    "    X_B = InitializeMatriceX(law=law, lambd1=lambd1, lambd2=lambd2, P_1=P_B1, size=nB)\n",
    "    #Kaplan-Meier estimators\n",
    "    Y_A = X_A \n",
    "    Y_B = X_B\n",
    "    Y_A_ind = np.full(shape=Y_A.shape, fill_value=True)\n",
    "    Y_B_ind = np.full(shape=Y_B.shape, fill_value=True)\n",
    "    time_A, S_A_est = kaplan_meier_estimator(Y_A_ind, Y_A)\n",
    "    time_B, S_B_est = kaplan_meier_estimator(Y_B_ind, Y_B)\n",
    "    #Initialization of time1, t and M_inv\n",
    "    time1 = np.concatenate(([0],time_A, time_B))\n",
    "    time1.sort()\n",
    "    t=max(time_A[-1],time_B[-1])\n",
    "    #Interpolation of S_A_est and S_B_est\n",
    "    S_A_est = S_est_Actualisation(S_est=S_A_est, time=time_A, time1=time1, t=t)\n",
    "    S_B_est = S_est_Actualisation(S_est=S_B_est, time=time_B, time1=time1, t=t)\n",
    "    #Determination of S_1_est and S_2_est (following Ryzhov's method)\n",
    "    S_1_est = M_inv[0][0]*S_A_est + M_inv[0][1]*S_B_est\n",
    "    S_2_est = M_inv[1][0]*S_A_est + M_inv[1][1]*S_B_est\n",
    "    #True survival functions\n",
    "    S_A = S(time1,P_A1,P_A2,law,lambd1,lambd2)\n",
    "    S_B = S(time1,P_B1,P_B2,law,lambd1,lambd2)    \n",
    "    #sup computation \n",
    "    S_0 = S(time1,1,0,law,lambd1,lambd2)\n",
    "    \n",
    "    #Calcul des sup\n",
    "    KS1 = np.linalg.norm(S_1_est - S_0 , np.inf)\n",
    "    KSA  = np.linalg.norm(S_A_est - S_A , np.inf)\n",
    "    KSB  = np.linalg.norm(S_B_est - S_B , np.inf)\n",
    "    return (KS1, KSA, KSB)"
   ]
  },
  {
   "cell_type": "code",
   "execution_count": 13,
   "metadata": {},
   "outputs": [],
   "source": [
    "def RunParallelSimulation(law, nA, nB, lambd1, lambd2, P_A1, P_A2, P_B1, P_B2, M_inv, direction, K, NJobs=-1, Verbose=0, PreDispatch='2*n_jobs'):\n",
    "    \n",
    "    #Initialization of parallelization parameters\n",
    "    ParallelSetUp = Parallel(n_jobs=NJobs, verbose=Verbose, pre_dispatch=PreDispatch, prefer=\"threads\")\n",
    "    \n",
    "    #RunSimulation\n",
    "    ComputedBlocks = ParallelSetUp([delayed(RunSimulation)(law=law,nA=nA, nB=nB, lambd1=lambd1, lambd2=lambd2, P_A1=P_A1, P_A2=P_A2, P_B1=P_B1, P_B2=P_B2, M_inv=M_inv, direction = direction) for k in range(K)])\n",
    "\n",
    "    #Concatenation into array\n",
    "    List_KS1 = np.array([KS1 for KS1, _ , _   in ComputedBlocks], dtype=np.dtype(object)) # peut etre que dtype array est approprié\n",
    "    List_KSA = np.array([KSA for _, KSA , _  in ComputedBlocks], dtype=np.dtype(object)) # peut etre que dtype array est approprié\n",
    "    List_KSB = np.array([KSB for _, _ , KSB  in ComputedBlocks], dtype=np.dtype(object)) # peut etre que dtype array est approprié\n",
    "  \n",
    "    #return ComputedBlocks\n",
    "    return List_KS1, List_KSA , List_KSB "
   ]
  },
  {
   "cell_type": "markdown",
   "metadata": {},
   "source": [
    "### Simulation parameters"
   ]
  },
  {
   "cell_type": "code",
   "execution_count": 14,
   "metadata": {},
   "outputs": [],
   "source": [
    "#Simulations\n",
    "#Parameters choice (choose among \"exponnential\", \"pareto\", \"weibull\" and \"gamma\")\n",
    "law = \"exponnential\" \n",
    "\n",
    "#Sample sizes (we have chosen nA = nB but it is possible to change these parameters)\n",
    "n = 10000\n",
    "nA = round(n/2)\n",
    "nB = n - nA\n",
    "\n",
    "#Mixture parameters\n",
    "lambd1 = 50\n",
    "lambd2 = 50\n",
    "\n",
    "#Weight selection (note that we must have P_A1 + P_A2 = 1 and P_B1 + P_B2 = 1)\n",
    "P_A1 = 0.7\n",
    "P_A2 = 0.3\n",
    "P_B1 = 0.1\n",
    "P_B2 = 0.9\n",
    "\n",
    "#Threshold direction\n",
    "direction = 1"
   ]
  },
  {
   "cell_type": "code",
   "execution_count": 15,
   "metadata": {},
   "outputs": [
    {
     "name": "stdout",
     "output_type": "stream",
     "text": [
      "[[ 1.5        -0.5       ]\n",
      " [-0.16666667  1.16666667]]\n"
     ]
    }
   ],
   "source": [
    "#Ryzhov :\n",
    "M = np.array([[P_A1, P_A2],[P_B1, P_B2]])\n",
    "M_inv = np.linalg.inv(M)\n",
    "print(M_inv)"
   ]
  },
  {
   "cell_type": "code",
   "execution_count": 16,
   "metadata": {},
   "outputs": [
    {
     "data": {
      "text/plain": [
       "(0.020592808746121988, 0.013684715696249017, 0.013099405751815008)"
      ]
     },
     "execution_count": 16,
     "metadata": {},
     "output_type": "execute_result"
    }
   ],
   "source": [
    "RunSimulation(law, nA, nB, lambd1, lambd2, P_A1, P_A2, P_B1, P_B2, M_inv, direction)"
   ]
  },
  {
   "cell_type": "code",
   "execution_count": 17,
   "metadata": {},
   "outputs": [],
   "source": [
    "#Number of repetitions\n",
    "K = 1000"
   ]
  },
  {
   "cell_type": "code",
   "execution_count": 18,
   "metadata": {},
   "outputs": [],
   "source": [
    "List_KS1, List_KSA, List_KSB = RunParallelSimulation(law, nA, nB, lambd1, lambd2, P_A1, P_A2, P_B1, P_B2, M_inv, direction, K, NJobs=-1, Verbose=0, PreDispatch='2*n_jobs')"
   ]
  },
  {
   "cell_type": "code",
   "execution_count": 19,
   "metadata": {},
   "outputs": [],
   "source": [
    "List_KS1 = List_KS1.tolist()\n",
    "List_KSA = List_KSA.tolist()\n",
    "List_KSB = List_KSB.tolist()"
   ]
  },
  {
   "cell_type": "markdown",
   "metadata": {},
   "source": [
    "https://real-statistics.com/statistics-tables/kolmogorov-smirnov-table/"
   ]
  },
  {
   "cell_type": "code",
   "execution_count": 20,
   "metadata": {},
   "outputs": [],
   "source": [
    "t_10 = 1.22385\n",
    "t_5 = 1.35810"
   ]
  },
  {
   "cell_type": "code",
   "execution_count": 21,
   "metadata": {},
   "outputs": [
    {
     "data": {
      "text/plain": [
       "5.761930317176702"
      ]
     },
     "execution_count": 21,
     "metadata": {},
     "output_type": "execute_result"
    }
   ],
   "source": [
    "s_alpha_A = 2*sqrt(2)*t_5*(np.abs(M_inv[0][0]))\n",
    "s_alpha_A "
   ]
  },
  {
   "cell_type": "code",
   "execution_count": 22,
   "metadata": {},
   "outputs": [
    {
     "data": {
      "text/plain": [
       "1.9206434390589002"
      ]
     },
     "execution_count": 22,
     "metadata": {},
     "output_type": "execute_result"
    }
   ],
   "source": [
    "s_alpha_B = 2*sqrt(2)*t_5*(np.abs(M_inv[0][1]))\n",
    "s_alpha_B "
   ]
  },
  {
   "cell_type": "code",
   "execution_count": 23,
   "metadata": {},
   "outputs": [
    {
     "data": {
      "text/plain": [
       "0.053"
      ]
     },
     "execution_count": 23,
     "metadata": {},
     "output_type": "execute_result"
    }
   ],
   "source": [
    "s = 0\n",
    "for i in range(K):\n",
    "    if List_KSA[i] > t_5/np.sqrt(nA):\n",
    "        s+=1\n",
    "sa = s/K\n",
    "sa"
   ]
  },
  {
   "cell_type": "code",
   "execution_count": 24,
   "metadata": {},
   "outputs": [
    {
     "data": {
      "text/plain": [
       "0.045"
      ]
     },
     "execution_count": 24,
     "metadata": {},
     "output_type": "execute_result"
    }
   ],
   "source": [
    "s = 0\n",
    "for i in range(K):\n",
    "    if List_KSB[i] > t_5/np.sqrt(nB):\n",
    "        s+=1\n",
    "sb = s/K\n",
    "sb"
   ]
  },
  {
   "cell_type": "code",
   "execution_count": 25,
   "metadata": {},
   "outputs": [
    {
     "data": {
      "text/plain": [
       "5.761930317176702"
      ]
     },
     "execution_count": 25,
     "metadata": {},
     "output_type": "execute_result"
    }
   ],
   "source": [
    "s_alpha = max(s_alpha_A,s_alpha_B)\n",
    "s_alpha"
   ]
  },
  {
   "cell_type": "code",
   "execution_count": 26,
   "metadata": {},
   "outputs": [
    {
     "data": {
      "text/plain": [
       "0.0"
      ]
     },
     "execution_count": 26,
     "metadata": {},
     "output_type": "execute_result"
    }
   ],
   "source": [
    "s = 0\n",
    "for i in range(K):\n",
    "    if List_KS1[i] > s_alpha/np.sqrt(n):\n",
    "        s+=1\n",
    "s1 = s/K\n",
    "s1"
   ]
  },
  {
   "cell_type": "code",
   "execution_count": null,
   "metadata": {},
   "outputs": [],
   "source": []
  }
 ],
 "metadata": {
  "kernelspec": {
   "display_name": "Python 3",
   "language": "python",
   "name": "python3"
  },
  "language_info": {
   "codemirror_mode": {
    "name": "ipython",
    "version": 3
   },
   "file_extension": ".py",
   "mimetype": "text/x-python",
   "name": "python",
   "nbconvert_exporter": "python",
   "pygments_lexer": "ipython3",
   "version": "3.8.5"
  }
 },
 "nbformat": 4,
 "nbformat_minor": 4
}
