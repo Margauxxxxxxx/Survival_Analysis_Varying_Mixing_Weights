{
 "cells": [
  {
   "cell_type": "markdown",
   "metadata": {},
   "source": [
    "# Khi-2 Test applied to varying mixing weights models "
   ]
  },
  {
   "cell_type": "markdown",
   "metadata": {},
   "source": [
    "Margaux Thorez"
   ]
  },
  {
   "cell_type": "markdown",
   "metadata": {},
   "source": [
    "## 1- Contextualization"
   ]
  },
  {
   "cell_type": "markdown",
   "metadata": {},
   "source": []
  },
  {
   "cell_type": "markdown",
   "metadata": {},
   "source": []
  },
  {
   "cell_type": "markdown",
   "metadata": {},
   "source": []
  },
  {
   "cell_type": "markdown",
   "metadata": {},
   "source": [
    "## 2- Libraries import"
   ]
  },
  {
   "cell_type": "code",
   "execution_count": 1,
   "metadata": {},
   "outputs": [],
   "source": [
    "#Libraries import\n",
    "#Basic librairies\n",
    "import numpy as np\n",
    "import pandas as pd\n",
    "import matplotlib.pyplot as plt\n",
    "from math import *\n",
    "from scipy import stats\n",
    "import random\n",
    "import statistics\n",
    "\n",
    "#scikit-survival Kaplan-Meier estimator\n",
    "from sksurv.nonparametric import kaplan_meier_estimator\n",
    "\n",
    "#Interpolation\n",
    "from scipy.interpolate import interp1d\n",
    "\n",
    "#CVXPY for convex optimization problems.\n",
    "import cvxpy as cp\n",
    "\n",
    "#Numba import\n",
    "from numba import njit, vectorize\n",
    "\n",
    "#Parallelization modules\n",
    "from sklearn.utils._joblib import Parallel, delayed\n",
    "\n",
    "#Kolmogorov-Smirnov Test\n",
    "from scipy.stats import ks_2samp\n",
    "from scipy.stats import kstest\n",
    "\n",
    "#Normality Test\n",
    "from scipy.stats import skew\n",
    "from scipy.stats import kurtosis\n",
    "\n",
    "from scipy.stats import norm\n",
    "\n",
    "#Khi 2 Test\n",
    "from scipy.stats import chisquare\n",
    "\n",
    "#Notebook\n",
    "from jyquickhelper import add_notebook_menu\n",
    "import warnings\n",
    "warnings.filterwarnings('ignore')"
   ]
  },
  {
   "cell_type": "code",
   "execution_count": 2,
   "metadata": {},
   "outputs": [
    {
     "data": {
      "text/html": [
       "<div id=\"my_id_menu_nb\">run previous cell, wait for 2 seconds</div>\n",
       "<script>\n",
       "function repeat_indent_string(n){\n",
       "    var a = \"\" ;\n",
       "    for ( ; n > 0 ; --n)\n",
       "        a += \"    \";\n",
       "    return a;\n",
       "}\n",
       "// look up into all sections and builds an automated menu //\n",
       "var update_menu_string = function(begin, lfirst, llast, sformat, send, keep_item, begin_format, end_format) {\n",
       "    var anchors = document.getElementsByClassName(\"section\");\n",
       "    if (anchors.length == 0) {\n",
       "        anchors = document.getElementsByClassName(\"text_cell_render rendered_html\");\n",
       "    }\n",
       "    var i,t;\n",
       "    var text_menu = begin;\n",
       "    var text_memo = \"<pre>\\nlength:\" + anchors.length + \"\\n\";\n",
       "    var ind = \"\";\n",
       "    var memo_level = 1;\n",
       "    var href;\n",
       "    var tags = [];\n",
       "    var main_item = 0;\n",
       "    var format_open = 0;\n",
       "    for (i = 0; i <= llast; i++)\n",
       "        tags.push(\"h\" + i);\n",
       "\n",
       "    for (i = 0; i < anchors.length; i++) {\n",
       "        text_memo += \"**\" + anchors[i].id + \"--\\n\";\n",
       "\n",
       "        var child = null;\n",
       "        for(t = 0; t < tags.length; t++) {\n",
       "            var r = anchors[i].getElementsByTagName(tags[t]);\n",
       "            if (r.length > 0) {\n",
       "child = r[0];\n",
       "break;\n",
       "            }\n",
       "        }\n",
       "        if (child == null) {\n",
       "            text_memo += \"null\\n\";\n",
       "            continue;\n",
       "        }\n",
       "        if (anchors[i].hasAttribute(\"id\")) {\n",
       "            // when converted in RST\n",
       "            href = anchors[i].id;\n",
       "            text_memo += \"#1-\" + href;\n",
       "            // passer à child suivant (le chercher)\n",
       "        }\n",
       "        else if (child.hasAttribute(\"id\")) {\n",
       "            // in a notebook\n",
       "            href = child.id;\n",
       "            text_memo += \"#2-\" + href;\n",
       "        }\n",
       "        else {\n",
       "            text_memo += \"#3-\" + \"*\" + \"\\n\";\n",
       "            continue;\n",
       "        }\n",
       "        var title = child.textContent;\n",
       "        var level = parseInt(child.tagName.substring(1,2));\n",
       "\n",
       "        text_memo += \"--\" + level + \"?\" + lfirst + \"--\" + title + \"\\n\";\n",
       "\n",
       "        if ((level < lfirst) || (level > llast)) {\n",
       "            continue ;\n",
       "        }\n",
       "        if (title.endsWith('¶')) {\n",
       "            title = title.substring(0,title.length-1).replace(\"<\", \"&lt;\")\n",
       "         .replace(\">\", \"&gt;\").replace(\"&\", \"&amp;\");\n",
       "        }\n",
       "        if (title.length == 0) {\n",
       "            continue;\n",
       "        }\n",
       "\n",
       "        while (level < memo_level) {\n",
       "            text_menu += end_format + \"</ul>\\n\";\n",
       "            format_open -= 1;\n",
       "            memo_level -= 1;\n",
       "        }\n",
       "        if (level == lfirst) {\n",
       "            main_item += 1;\n",
       "        }\n",
       "        if (keep_item != -1 && main_item != keep_item + 1) {\n",
       "            // alert(main_item + \" - \" + level + \" - \" + keep_item);\n",
       "            continue;\n",
       "        }\n",
       "        while (level > memo_level) {\n",
       "            text_menu += \"<ul>\\n\";\n",
       "            memo_level += 1;\n",
       "        }\n",
       "        text_menu += repeat_indent_string(level-2);\n",
       "        text_menu += begin_format + sformat.replace(\"__HREF__\", href).replace(\"__TITLE__\", title);\n",
       "        format_open += 1;\n",
       "    }\n",
       "    while (1 < memo_level) {\n",
       "        text_menu += end_format + \"</ul>\\n\";\n",
       "        memo_level -= 1;\n",
       "        format_open -= 1;\n",
       "    }\n",
       "    text_menu += send;\n",
       "    //text_menu += \"\\n\" + text_memo;\n",
       "\n",
       "    while (format_open > 0) {\n",
       "        text_menu += end_format;\n",
       "        format_open -= 1;\n",
       "    }\n",
       "    return text_menu;\n",
       "};\n",
       "var update_menu = function() {\n",
       "    var sbegin = \"\";\n",
       "    var sformat = '<a href=\"#__HREF__\">__TITLE__</a>';\n",
       "    var send = \"\";\n",
       "    var begin_format = '<li>';\n",
       "    var end_format = '</li>';\n",
       "    var keep_item = -1;\n",
       "    var text_menu = update_menu_string(sbegin, 2, 4, sformat, send, keep_item,\n",
       "       begin_format, end_format);\n",
       "    var menu = document.getElementById(\"my_id_menu_nb\");\n",
       "    menu.innerHTML=text_menu;\n",
       "};\n",
       "window.setTimeout(update_menu,2000);\n",
       "            </script>"
      ],
      "text/plain": [
       "<IPython.core.display.HTML object>"
      ]
     },
     "execution_count": 2,
     "metadata": {},
     "output_type": "execute_result"
    }
   ],
   "source": [
    "add_notebook_menu()"
   ]
  },
  {
   "cell_type": "markdown",
   "metadata": {},
   "source": [
    "## 3- Base model - optimized functions"
   ]
  },
  {
   "cell_type": "markdown",
   "metadata": {},
   "source": [
    "### Survival functions"
   ]
  },
  {
   "cell_type": "code",
   "execution_count": 3,
   "metadata": {},
   "outputs": [],
   "source": [
    "#Survival functions : returns the survival function of a mixture model for a certain law\n",
    "def S(x,P1,P2,law,lambd1,lambd2):\n",
    "    if law == \"exponnential\":\n",
    "        S = P1*stats.expon.sf(x, scale=lambd1) + P2*stats.expon.sf(x, scale=lambd2)\n",
    "    if law == \"pareto\":\n",
    "        #Certain parameters of the Pareto law have been fixed in order to obtain a function with characteristics similar to the survival functions found for sick leaves\n",
    "        S = P1*stats.pareto.sf(x, b=3, loc = -(2/3)*lambd1, scale=(2/3)*lambd1) + P2*stats.pareto.sf(x, b=3, loc=-(2/3)*lambd2, scale=(2/3)*lambd2)\n",
    "    if law == \"weibull\":\n",
    "        #Certain parameters of the Weibull law have been fixed in order to obtain a function with characteristics similar to the survival functions found for sick leaves\n",
    "        S = P1*stats.weibull_min.sf(x, c=2, scale=lambd1) + P2*stats.weibull_min.sf(x, c=2, scale=lambd2)\n",
    "    if law == \"gamma\":\n",
    "        S = P1*stats.gamma.sf(x, a=lambd1) + P2*stats.gamma.sf(x, a=lambd2)\n",
    "    return(S)"
   ]
  },
  {
   "cell_type": "markdown",
   "metadata": {},
   "source": [
    "### Simulation functions"
   ]
  },
  {
   "cell_type": "code",
   "execution_count": 4,
   "metadata": {},
   "outputs": [],
   "source": [
    "#Function that creates the base sample in a mixture according to the chosen law\n",
    "def InitializeMatriceX(law, lambd1, lambd2, P_1, size):\n",
    "    #Matrices X_A1 and X_A2\n",
    "    if law == \"exponnential\":\n",
    "        X_1 = stats.expon.rvs(scale=lambd1, size=size)\n",
    "        X_2 = stats.expon.rvs(scale=lambd2, size=size)\n",
    "    if law == \"pareto\":\n",
    "        X_1_v1 = stats.pareto.rvs(b=3, size=size)\n",
    "        X_1 = (2/3)*lambd1*(X_1_v1-1)\n",
    "        X_2_v1 = stats.pareto.rvs(b=3, size=size)\n",
    "        X_2 = (2/3)*lambd2*(X_2_v1-1)\n",
    "    if law == \"weibull\":\n",
    "        X_1 = stats.weibull_min.rvs(c=2, scale=lambd1, size=size)\n",
    "        X_2 = stats.weibull_min.rvs(c=2, scale=lambd2, size=size)    \n",
    "    if law == \"gamma\" :\n",
    "        X_1 = stats.gamma.rvs(a=lambd1, size=size)\n",
    "        X_2 = stats.gamma.rvs(a=lambd2, size=size)\n",
    "    #Matrice RA\n",
    "    R = stats.bernoulli.rvs(P_1, size=size)\n",
    "    X = R*X_1 + (1-R)*X_2\n",
    "    return X"
   ]
  },
  {
   "cell_type": "code",
   "execution_count": 5,
   "metadata": {},
   "outputs": [],
   "source": [
    "#Function to include censorship\n",
    "@njit #(parallel=True)\n",
    "def Y_ind_Allocation(Y_ind, Y, C, X):\n",
    "    for i in range(len(X)):\n",
    "        if Y[i]<C[i]: \n",
    "            Y_ind[i]=True\n",
    "    return Y_ind"
   ]
  },
  {
   "cell_type": "code",
   "execution_count": 6,
   "metadata": {},
   "outputs": [],
   "source": [
    "#Function to interpolate survival functions\n",
    "def S_est_Actualisation(S_est, time, time1, t):\n",
    "    S_est_res = np.concatenate(([1], S_est,[0]))\n",
    "    f = interp1d(np.concatenate(([0], time,[t])), S_est_res)\n",
    "    S_est_res = f(time1)\n",
    "    return S_est_res"
   ]
  },
  {
   "cell_type": "markdown",
   "metadata": {},
   "source": [
    "### Kaplan-Meier function of Maiboroda"
   ]
  },
  {
   "cell_type": "code",
   "execution_count": 7,
   "metadata": {},
   "outputs": [],
   "source": [
    "#Function to count S_X and N_X variables for Maiboroda's estimator\n",
    "@njit #(parallel=True)\n",
    "def S_x_N_x_Allocation(Y,Y_ind,X_X,time):\n",
    "    S_X = np.zeros_like(time)\n",
    "    N_X = np.zeros_like(time)\n",
    "    for k, t_k in enumerate(time):\n",
    "        for i, Y_i in enumerate(Y):\n",
    "            if Y_i >= t_k:\n",
    "                S_X[k] += X_X[i]\n",
    "            if (Y_i <= t_k) and  (Y_ind[i]==True) : \n",
    "                N_X[k] += X_X[i]\n",
    "    return S_X, N_X"
   ]
  },
  {
   "cell_type": "code",
   "execution_count": 8,
   "metadata": {},
   "outputs": [],
   "source": [
    "#Function to determine Maiboroda's estimator having S_X and N_X\n",
    "@njit #(parallel=True)\n",
    "def S_1_mx_Allocation(Y, S_X, N_X, time):\n",
    "    # Initialisation\n",
    "    S_1_mx = np.ones_like(time)\n",
    "    for k, t_k in enumerate(time):\n",
    "        for i in range(1,k):\n",
    "            if (Y[i] <= t_k) and (S_X[i] != 0) :\n",
    "                S_1_mx[k] = S_1_mx[k] * (1 - (N_X[i] - N_X[i-1])/S_X[i])\n",
    "    return S_1_mx"
   ]
  },
  {
   "cell_type": "code",
   "execution_count": 9,
   "metadata": {},
   "outputs": [],
   "source": [
    "#Function to smooth a survival function\n",
    "@njit #(parallel=True)\n",
    "# direction = 0 ou 1\n",
    "def S_1_est_mx_Threshold(S_1_est_mx, direction):\n",
    "    S1_res = np.zeros_like(S_1_est_mx)\n",
    "    #Maximum at 1 and minimum at 0 for the survival function\n",
    "    for i, item in enumerate(S_1_est_mx):\n",
    "        if item > 1 :\n",
    "            S1_res[i] = 1\n",
    "        elif item < 0 :\n",
    "            S1_res[i] = 0\n",
    "        else :\n",
    "            S1_res[i] = item\n",
    "    #If direction = 0, we give to S[t] the value of S[t+1] if S[t]<S[t+1]\n",
    "    if direction == 0 : \n",
    "        for i in range(len(S_1_est_mx)-1):\n",
    "            k = i+1\n",
    "            while k<len(S_1_est_mx):\n",
    "                if S1_res[i]<S1_res[k]:\n",
    "                    S1_res[i] = S1_res[k]\n",
    "                k+=1\n",
    "    #If direction = 1, we give to S[t+1] the value of S[t] if S[t]<S[t+1]\n",
    "    elif direction == 1 :\n",
    "        for i in range(len(S_1_est_mx)-1):\n",
    "            k = i+1\n",
    "            while k < len(S_1_est_mx):\n",
    "                if S1_res[i]<S1_res[k]:\n",
    "                    S1_res[k] = S1_res[i]\n",
    "                k+=1\n",
    "    return S1_res"
   ]
  },
  {
   "cell_type": "code",
   "execution_count": 10,
   "metadata": {},
   "outputs": [],
   "source": [
    "#Maiboroda's Kaplan-Meier estimator\n",
    "@njit #(parallel=True)\n",
    "def kaplan_meier_mx (Y,Y_ind,X_X,time, direction) :\n",
    "    #Construction of N_X and S_X\n",
    "    S_X, N_X = S_x_N_x_Allocation(Y=Y,Y_ind=Y_ind,X_X=X_X,time=time)\n",
    "    #Initialization of S_1_est_mx\n",
    "    S_1_est_mx = S_1_mx_Allocation(Y=Y, S_X=S_X, N_X=N_X, time=time)\n",
    "    return S_1_est_mx "
   ]
  },
  {
   "cell_type": "code",
   "execution_count": 11,
   "metadata": {},
   "outputs": [],
   "source": [
    "#Maiboroda's Kaplan-Meier estimator smoothed\n",
    "@njit #(parallel=True)\n",
    "def kaplan_meier_mx_smoothed (Y,Y_ind,X_X,time, direction) :\n",
    "    #Construction of N_X and S_X\n",
    "    S_X, N_X = S_x_N_x_Allocation(Y=Y,Y_ind=Y_ind,X_X=X_X,time=time)\n",
    "    #Initialization of S_1_est_mx\n",
    "    S_1_est_mx = S_1_mx_Allocation(Y=Y, S_X=S_X, N_X=N_X, time=time)\n",
    "    #S_1_est_mx thresholding\n",
    "    S_1_est_mx_res = S_1_est_mx_Threshold(S_1_est_mx, direction)\n",
    "    #Return S_1_est_mx_res if we want the survival function to be linearized, S_1_est_mx otherwise\n",
    "    return S_1_est_mx_res "
   ]
  },
  {
   "cell_type": "markdown",
   "metadata": {},
   "source": [
    "## 4- First analysis"
   ]
  },
  {
   "cell_type": "markdown",
   "metadata": {},
   "source": [
    "For now, the analysis is only made for Ryzhov's model. "
   ]
  },
  {
   "cell_type": "code",
   "execution_count": 12,
   "metadata": {},
   "outputs": [],
   "source": [
    "#Simulations\n",
    "#Parameters choice (choose among \"exponnential\", \"pareto\", \"weibull\" and \"gamma\")\n",
    "law = \"exponnential\" \n",
    "\n",
    "#Sample sizes (we have chosen nA = nB but it is possible to change these parameters)\n",
    "n = 10000\n",
    "nA = round(n/2)\n",
    "nB = n - nA\n",
    "\n",
    "#Mixture parameters\n",
    "lambd1 = 50\n",
    "lambd2 = 30\n",
    "\n",
    "#Weight selection (note that we must have P_A1 + P_A2 = 1 and P_B1 + P_B2 = 1)\n",
    "P_A1 = 0.7\n",
    "P_A2 = 0.3\n",
    "P_B1 = 0.1\n",
    "P_B2 = 0.9\n",
    "\n",
    "#Threshold direction\n",
    "direction = 1"
   ]
  },
  {
   "cell_type": "code",
   "execution_count": 13,
   "metadata": {},
   "outputs": [
    {
     "name": "stdout",
     "output_type": "stream",
     "text": [
      "[[ 1.5        -0.5       ]\n",
      " [-0.16666667  1.16666667]]\n"
     ]
    }
   ],
   "source": [
    "#Ryzhov :\n",
    "M = np.array([[P_A1, P_A2],[P_B1, P_B2]])\n",
    "M_inv = np.linalg.inv(M)\n",
    "print(M_inv)"
   ]
  },
  {
   "cell_type": "code",
   "execution_count": 14,
   "metadata": {},
   "outputs": [],
   "source": [
    "#Probability calculation a posteriori\n",
    "if law == \"exponnential\":\n",
    "    #For group 1\n",
    "    P1_0 = stats.expon.cdf(7, loc=0, scale=lambd1) # \"<7 days\"\n",
    "    P1_1 = stats.expon.cdf(14, loc=0, scale=lambd1) - stats.expon.cdf(7, loc=0, scale=lambd1)  # \"8-14 days\"\n",
    "    P1_2 = stats.expon.cdf(30, loc=0, scale=lambd1) - stats.expon.cdf(14, loc=0, scale=lambd1)  # \"15-30 days\"\n",
    "    P1_3 = stats.expon.cdf(60, loc=0, scale=lambd1) - stats.expon.cdf(30, loc=0, scale=lambd1)  # \"31-60 days\"\n",
    "    P1_4 = stats.expon.cdf(90, loc=0, scale=lambd1) - stats.expon.cdf(60, loc=0, scale=lambd1)  # \"61-90 days\"\n",
    "    P1_5 = stats.expon.cdf(120, loc=0, scale=lambd1) - stats.expon.cdf(90, loc=0, scale=lambd1)  # \"91-120 days\"\n",
    "    P1_6 = 1 -  stats.expon.cdf(120, loc=0, scale=lambd1)   # \">120 days\"\n",
    "    #For group 2\n",
    "    P2_0 = stats.expon.cdf(7, loc=0, scale=lambd2) # \"<7 days\"\n",
    "    P2_1 = stats.expon.cdf(14, loc=0, scale=lambd2) - stats.expon.cdf(7, loc=0, scale=lambd2)  # \"8-14 days\"\n",
    "    P2_2 = stats.expon.cdf(30, loc=0, scale=lambd2) - stats.expon.cdf(14, loc=0, scale=lambd2)  # \"15-30 days\"\n",
    "    P2_3 = stats.expon.cdf(60, loc=0, scale=lambd2) - stats.expon.cdf(30, loc=0, scale=lambd2)  # \"31-60 days\"\n",
    "    P2_4 = stats.expon.cdf(90, loc=0, scale=lambd2) - stats.expon.cdf(60, loc=0, scale=lambd2)  # \"61-90 days\"\n",
    "    P2_5 = stats.expon.cdf(120, loc=0, scale=lambd2) - stats.expon.cdf(90, loc=0, scale=lambd2)  # \"91-120 days\"\n",
    "    P2_6 = 1 - stats.expon.cdf(120, loc=0, scale=lambd2)   # \">120 days\"\n",
    "if law == \"pareto\":\n",
    "    #For group 1\n",
    "    P1_0 = stats.expon.cdf(7, b=3, loc=-(2/3)*lambd1, scale=(2/3)*lambd1) # \"<7 days\"\n",
    "    P1_1 = stats.expon.cdf(14, b=3, loc=-(2/3)*lambd1, scale=(2/3)*lambd1)- stats.expon.cdf(7, b=3, loc=-(2/3)*lambd1, scale=(2/3)*lambd1)   # \"8-14 days\"\n",
    "    P1_2 = stats.expon.cdf(30, b=3, loc=-(2/3)*lambd1, scale=(2/3)*lambd1) - stats.expon.cdf(14, b=3, loc=-(2/3)*lambd1, scale=(2/3)*lambd1)  # \"15-30 days\"\n",
    "    P1_3 = stats.expon.cdf(60, b=3, loc=-(2/3)*lambd1, scale=(2/3)*lambd1)  - stats.expon.cdf(30, b=3, loc=-(2/3)*lambd1, scale=(2/3)*lambd1)   # \"31-60 days\"\n",
    "    P1_4 = stats.expon.cdf(90, b=3, loc=-(2/3)*lambd1, scale=(2/3)*lambd1)  - stats.expon.cdf(60, b=3, loc=-(2/3)*lambd1, scale=(2/3)*lambd1)   # \"61-90 days\"\n",
    "    P1_5 = stats.expon.cdf(120, b=3, loc=-(2/3)*lambd1, scale=(2/3)*lambd1)  - stats.expon.cdf(90, b=3, loc=-(2/3)*lambd1, scale=(2/3)*lambd1)   # \"91-120 days\"\n",
    "    P1_6 = 1 -  stats.expon.cdf(120, b=3, loc=-(2/3)*lambd1, scale=(2/3)*lambd1)   # \">120 days\"\n",
    "    #For group 2\n",
    "    P2_0 = stats.expon.cdf(7, b=3, loc=-(2/3)*lambd2, scale=(2/3)*lambd2)  # \"<7 days\"\n",
    "    P2_1 = stats.expon.cdf(14, b=3, loc=-(2/3)*lambd2, scale=(2/3)*lambd2) - stats.expon.cdf(7, b=3, loc=-(2/3)*lambd2, scale=(2/3)*lambd2)  # \"8-14 days\"\n",
    "    P2_2 = stats.expon.cdf(30, b=3, loc=-(2/3)*lambd2, scale=(2/3)*lambd2) - stats.expon.cdf(14, b=3, loc=-(2/3)*lambd2, scale=(2/3)*lambd2) # \"15-30 days\"\n",
    "    P2_3 = stats.expon.cdf(60, b=3, loc=-(2/3)*lambd2, scale=(2/3)*lambd2)- stats.expon.cdf(30, b=3, loc=-(2/3)*lambd2, scale=(2/3)*lambd2)  # \"31-60 days\"\n",
    "    P2_4 = stats.expon.cdf(90, b=3, loc=-(2/3)*lambd2, scale=(2/3)*lambd2) - stats.expon.cdf(60, b=3, loc=-(2/3)*lambd2, scale=(2/3)*lambd2)  # \"61-90 days\"\n",
    "    P2_5 = stats.expon.cdf(120, b=3, loc=-(2/3)*lambd2, scale=(2/3)*lambd2) - stats.expon.cdf(90, b=3, loc=-(2/3)*lambd2, scale=(2/3)*lambd2)  # \"91-120 days\"\n",
    "    P2_6 = 1 - stats.expon.cdf(120, b=3, loc=-(2/3)*lambd2, scale=(2/3)*lambd2)   # \">120 days\"\n",
    "if law == \"weibull\":\n",
    "    #For group 1\n",
    "    P1_0 = stats.weibull_min.cdf(7, c=2, scale=lambd1) # \"<7 days\"\n",
    "    P1_1 = stats.weibull_min.cdf(14, c=2, scale=lambd1) - stats.weibull_min.cdf(7, c=2, scale=lambd1)  # \"8-14 days\"\n",
    "    P1_2 = stats.weibull_min.cdf(30, c=2, scale=lambd1) - stats.weibull_min.cdf(14, c=2, scale=lambd1)  # \"15-30 days\"\n",
    "    P1_3 = stats.weibull_min.cdf(60, c=2, scale=lambd1) - stats.weibull_min.cdf(30, c=2, scale=lambd1)  # \"31-60 days\"\n",
    "    P1_4 = stats.weibull_min.cdf(90, c=2, scale=lambd1) - stats.weibull_min.cdf(60, c=2, scale=lambd1)  # \"61-90 days\"\n",
    "    P1_5 = stats.weibull_min.cdf(120, c=2, scale=lambd1) - stats.weibull_min.cdf(90, c=2, scale=lambd1)  # \"91-120 days\"\n",
    "    P1_6 = 1 -  stats.weibull_min.cdf(120, c=2, scale=lambd1)   # \">120 days\"\n",
    "    #For group 2\n",
    "    P2_0 = stats.weibull_min.cdf(7, c=2, scale=lambd2) # \"<7 days\"\n",
    "    P2_1 = stats.weibull_min.cdf(14, c=2, scale=lambd2) - stats.weibull_min.cdf(7, c=2, scale=lambd2)  # \"8-14 days\"\n",
    "    P2_2 = stats.weibull_min.cdf(30, c=2, scale=lambd2) - stats.weibull_min.cdf(14, c=2, scale=lambd2)  # \"15-30 days\"\n",
    "    P2_3 = stats.weibull_min.cdf(60, c=2, scale=lambd2) - stats.weibull_min.cdf(30, c=2, scale=lambd2)  # \"31-60 days\"\n",
    "    P2_4 = stats.weibull_min.cdf(90, c=2, scale=lambd2) - stats.weibull_min.cdf(60, c=2, scale=lambd2)  # \"61-90 days\"\n",
    "    P2_5 = stats.weibull_min.cdf(120, c=2, scale=lambd2) - stats.weibull_min.cdf(90, c=2, scale=lambd2)  # \"91-120 days\"\n",
    "    P2_6 = 1 - stats.weibull_min.cdf(120, c=2, scale=lambd2)   # \">120 days\"\n",
    "if law == \"gamma\":\n",
    "    #For group 1\n",
    "    P1_0 = stats.gamma.cdf(7, loc=0, scale=lambd1) # \"<7 days\"\n",
    "    P1_1 = stats.gamma.cdf(14, loc=0, scale=lambd1) - stats.gamma.cdf(7, loc=0, scale=lambd1)  # \"8-14 days\"\n",
    "    P1_2 = stats.gamma.cdf(30, loc=0, scale=lambd1) - stats.gamma.cdf(14, loc=0, scale=lambd1)  # \"15-30 days\"\n",
    "    P1_3 = stats.gamma.cdf(60, loc=0, scale=lambd1) - stats.gamma.cdf(30, loc=0, scale=lambd1)  # \"31-60 days\"\n",
    "    P1_4 = stats.gamma.cdf(90, loc=0, scale=lambd1) - stats.gamma.cdf(60, loc=0, scale=lambd1)  # \"61-90 days\"\n",
    "    P1_5 = stats.gamma.cdf(120, loc=0, scale=lambd1) - stats.gamma.cdf(90, loc=0, scale=lambd1)  # \"91-120 days\"\n",
    "    P1_6 = 1 -  stats.gamma.cdf(120, loc=0, scale=lambd1)   # \">120 days\"\n",
    "    #For group 2\n",
    "    P2_0 = stats.gamma.cdf(7, loc=0, scale=lambd2) # \"<7 days\"\n",
    "    P2_1 = stats.gamma.cdf(14, loc=0, scale=lambd2) - stats.gamma.cdf(7, loc=0, scale=lambd2)  # \"8-14 days\"\n",
    "    P2_2 = stats.gamma.cdf(30, loc=0, scale=lambd2) - stats.gamma.cdf(14, loc=0, scale=lambd2)  # \"15-30 days\"\n",
    "    P2_3 = stats.gamma.cdf(60, loc=0, scale=lambd2) - stats.gamma.cdf(30, loc=0, scale=lambd2)  # \"31-60 days\"\n",
    "    P2_4 = stats.gamma.cdf(90, loc=0, scale=lambd2) - stats.gamma.cdf(60, loc=0, scale=lambd2)  # \"61-90 days\"\n",
    "    P2_5 = stats.gamma.cdf(120, loc=0, scale=lambd2) - stats.gamma.cdf(90, loc=0, scale=lambd2)  # \"91-120 days\"\n",
    "    P2_6 = 1 - stats.gamma.cdf(120, loc=0, scale=lambd2)   # \">120 days\""
   ]
  },
  {
   "cell_type": "code",
   "execution_count": 15,
   "metadata": {},
   "outputs": [
    {
     "data": {
      "text/plain": [
       "array([0.15388237, 0.12894229, 0.22264337, 0.24309544, 0.12079119,\n",
       "       0.06164808, 0.06899726])"
      ]
     },
     "execution_count": 15,
     "metadata": {},
     "output_type": "execute_result"
    }
   ],
   "source": [
    "f_exp_A = np.array([P_A1*P1_0+P_A2*P2_0, P_A1*P1_1+P_A2*P2_1, P_A1*P1_2+P_A2*P2_2, P_A1*P1_3+P_A2*P2_3, P_A1*P1_4+P_A2*P2_4, P_A1*P1_5+P_A2*P2_5, P_A1*P1_6+P_A2*P2_6])\n",
    "f_exp_A"
   ]
  },
  {
   "cell_type": "code",
   "execution_count": 16,
   "metadata": {},
   "outputs": [
    {
     "data": {
      "text/plain": [
       "array([0.20036357, 0.15967788, 0.25398589, 0.23405148, 0.09058293,\n",
       "       0.03578238, 0.02555587])"
      ]
     },
     "execution_count": 16,
     "metadata": {},
     "output_type": "execute_result"
    }
   ],
   "source": [
    "f_exp_B = np.array([P_B1*P1_0+P_B2*P2_0, P_B1*P1_1+P_B2*P2_1, P_B1*P1_2+P_B2*P2_2, P_B1*P1_3+P_B2*P2_3, P_B1*P1_4+P_B2*P2_4, P_B1*P1_5+P_B2*P2_5, P_B1*P1_6+P_B2*P2_6])\n",
    "f_exp_B"
   ]
  },
  {
   "cell_type": "code",
   "execution_count": 17,
   "metadata": {},
   "outputs": [],
   "source": [
    "def RunSimulation(law, nA, nB, lambd1, lambd2, P_A1, P_A2, P_B1, P_B2, direction):\n",
    "    #The model argument can be either \"Ryzhov\" or \"Maiboroda\"\n",
    "    P = np.array([[P_A1, P_A2], [P_B1, P_B2]])\n",
    "    # Samples\n",
    "    X_A = InitializeMatriceX(law=law, lambd1=lambd1, lambd2=lambd2, P_1=P_A1, size=nA)\n",
    "    X_B = InitializeMatriceX(law=law, lambd1=lambd1, lambd2=lambd2, P_1=P_B1, size=nB)\n",
    "    \n",
    "    #Kaplan-Meier estimators\n",
    "    Y_A = X_A\n",
    "    Y_A_ind = [True for i in range(len(Y_A))]\n",
    "    \n",
    "    Y_B = X_B\n",
    "    Y_B_ind = [True for i in range(len(Y_B))]\n",
    "\n",
    "    #Kaplan-Meier estimator\n",
    "    time_A, S_A_est = kaplan_meier_estimator(Y_A_ind, Y_A)\n",
    "    time_B, S_B_est = kaplan_meier_estimator(Y_B_ind, Y_B)\n",
    "    #Initialization of time1, t and M_inv\n",
    "    time1 = np.concatenate(([0],time_A, time_B))\n",
    "    time1.sort()\n",
    "    t=max(time_A[-1],time_B[-1])\n",
    "    #Interpolation of S_A_est and S_B_est\n",
    "    S_A_est = S_est_Actualisation(S_est=S_A_est, time=time_A, time1=time1, t=t)\n",
    "    S_B_est = S_est_Actualisation(S_est=S_B_est, time=time_B, time1=time1, t=t)\n",
    "    #Determination of S_1_est and S_2_est (following Ryzhov's method)\n",
    "    S_1_est = M_inv[0][0]*S_A_est + M_inv[0][1]*S_B_est\n",
    "    S_2_est = M_inv[1][0]*S_A_est + M_inv[1][1]*S_B_est\n",
    "       \n",
    "    return (time_A, time_B)"
   ]
  },
  {
   "cell_type": "code",
   "execution_count": 18,
   "metadata": {},
   "outputs": [],
   "source": [
    "time_A, time_B = RunSimulation(law, nA, nB, lambd1, lambd2, P_A1, P_A2, P_B1, P_B2, direction)"
   ]
  },
  {
   "cell_type": "code",
   "execution_count": 19,
   "metadata": {},
   "outputs": [],
   "source": [
    "df_obs_A = pd.DataFrame(time_A, columns=[\"Duration\"])\n",
    "df_obs_B = pd.DataFrame(time_B, columns=[\"Duration\"])"
   ]
  },
  {
   "cell_type": "code",
   "execution_count": 20,
   "metadata": {},
   "outputs": [],
   "source": [
    "#Breakdown of sick leaves by duration\n",
    "df_duree = df_obs_A\n",
    "df_duree[\"Duration group\"] = 0\n",
    "for i in range(len(df_duree)):\n",
    "    if df_duree[\"Duration\"][i]>120:\n",
    "        df_duree[\"Duration group\"][i] = \">120 days\"\n",
    "    if df_duree[\"Duration\"][i]<=120:\n",
    "        df_duree[\"Duration group\"][i] = \"91-120 days\"\n",
    "    if df_duree[\"Duration\"][i]<=90:\n",
    "        df_duree[\"Duration group\"][i] = \"61-90 days\"\n",
    "    if df_duree[\"Duration\"][i]<=60:\n",
    "        df_duree[\"Duration group\"][i] = \"31-60 days\"\n",
    "    if df_duree[\"Duration\"][i]<=30:\n",
    "        df_duree[\"Duration group\"][i] = \"15-30 days\"\n",
    "    if df_duree[\"Duration\"][i]<=14:\n",
    "        df_duree[\"Duration group\"][i] = \"8-14 days\"\n",
    "    if df_duree[\"Duration\"][i]<=7:\n",
    "        df_duree[\"Duration group\"][i] = \"≤7 days\"\n",
    "df_obs2_A = df_duree\n",
    "\n",
    "#Breakdown of sick leaves by duration\n",
    "df_duree = df_obs_B\n",
    "df_duree[\"Duration group\"] = 0\n",
    "for i in range(len(df_duree)):\n",
    "    if df_duree[\"Duration\"][i]>120:\n",
    "        df_duree[\"Duration group\"][i] = \">120 days\"\n",
    "    if df_duree[\"Duration\"][i]<=120:\n",
    "        df_duree[\"Duration group\"][i] = \"91-120 days\"\n",
    "    if df_duree[\"Duration\"][i]<=90:\n",
    "        df_duree[\"Duration group\"][i] = \"61-90 days\"\n",
    "    if df_duree[\"Duration\"][i]<=60:\n",
    "        df_duree[\"Duration group\"][i] = \"31-60 days\"\n",
    "    if df_duree[\"Duration\"][i]<=30:\n",
    "        df_duree[\"Duration group\"][i] = \"15-30 days\"\n",
    "    if df_duree[\"Duration\"][i]<=14:\n",
    "        df_duree[\"Duration group\"][i] = \"8-14 days\"\n",
    "    if df_duree[\"Duration\"][i]<=7:\n",
    "        df_duree[\"Duration group\"][i] = \"≤7 days\"\n",
    "df_obs2_B = df_duree"
   ]
  },
  {
   "cell_type": "code",
   "execution_count": 21,
   "metadata": {},
   "outputs": [],
   "source": [
    "BA = df_obs2_A.groupby(['Duration group'])['Duration'].count()\n",
    "BB = df_obs2_B.groupby(['Duration group'])['Duration'].count()"
   ]
  },
  {
   "cell_type": "code",
   "execution_count": 22,
   "metadata": {},
   "outputs": [
    {
     "data": {
      "text/plain": [
       "Duration group\n",
       "15-30 days     1164\n",
       "31-60 days     1189\n",
       "61-90 days      616\n",
       "8-14 days       622\n",
       "91-120 days     306\n",
       ">120 days       345\n",
       "≤7 days         758\n",
       "Name: Duration, dtype: int64"
      ]
     },
     "execution_count": 22,
     "metadata": {},
     "output_type": "execute_result"
    }
   ],
   "source": [
    "BA"
   ]
  },
  {
   "cell_type": "code",
   "execution_count": 23,
   "metadata": {},
   "outputs": [],
   "source": [
    "f_obs_A = np.array([BA[\"≤7 days\"], BA[\"8-14 days\"], BA[\"15-30 days\"], BA[\"31-60 days\"], BA[\"61-90 days\"], BA[\"91-120 days\"], BA[\">120 days\"]])\n",
    "f_obs_B = np.array([BB[\"≤7 days\"], BB[\"8-14 days\"], BB[\"15-30 days\"], BB[\"31-60 days\"], BB[\"61-90 days\"], BB[\"91-120 days\"], BB[\">120 days\"]])"
   ]
  },
  {
   "cell_type": "code",
   "execution_count": 24,
   "metadata": {},
   "outputs": [],
   "source": [
    "df_duree_bis = df_obs2_A.groupby([\"Duration group\"], as_index=True)[[\"Duration\"]].count()\n",
    "df_duree_bis = df_duree_bis.loc[[\"≤7 days\", \"8-14 days\", '15-30 days','31-60 days','61-90 days','91-120 days','>120 days']]\n",
    "total = sum(df_duree_bis[\"Duration\"])\n",
    "df_duree_bis[\"Prop\"] = df_duree_bis[\"Duration\"]/total\n",
    "df_duree_bis[\"Total\"] = df_duree_bis[\"Prop\"]\n",
    "for k in range(len(df_duree_bis.index)-1):\n",
    "    j = df_duree_bis.index[k]\n",
    "    i = df_duree_bis.index[k+1]\n",
    "    df_duree_bis[\"Total\"][i] = df_duree_bis[\"Total\"][i] + df_duree_bis[\"Total\"][j]"
   ]
  },
  {
   "cell_type": "code",
   "execution_count": 25,
   "metadata": {},
   "outputs": [
    {
     "data": {
      "text/plain": [
       "Text(0.5, 1.0, 'Distribution of sick leaves durations')"
      ]
     },
     "execution_count": 25,
     "metadata": {},
     "output_type": "execute_result"
    },
    {
     "data": {
      "image/png": "[encoded data removed]",
      "text/plain": [
       "<Figure size 720x720 with 2 Axes>"
      ]
     },
     "metadata": {
      "needs_background": "light"
     },
     "output_type": "display_data"
    }
   ],
   "source": [
    "fig, ax = plt.subplots(figsize=(15, 15)) \n",
    "g=df_duree_bis.iloc[:,0].plot(kind='bar', stacked=True,  figsize=(10,10),color='#2C67AF')\n",
    "plt.yticks(fontsize=15)\n",
    "plt.xticks(fontsize=15)\n",
    "ax2 = plt.gca().twinx()\n",
    "df_duree_bis.iloc[:,2].plot(kind='line',   use_index=True, linestyle='solid', lw=2, marker='o',color='#D86173')\n",
    "plt.yticks(fontsize=15)\n",
    "plt.xticks(fontsize=15)\n",
    "ax.set_title(\"Distribution of sick leaves durations\", fontsize = 20)"
   ]
  },
  {
   "cell_type": "code",
   "execution_count": 26,
   "metadata": {},
   "outputs": [
    {
     "data": {
      "text/plain": [
       "Power_divergenceResult(statistic=4.119198716934823, pvalue=0.6605493280559367)"
      ]
     },
     "execution_count": 26,
     "metadata": {},
     "output_type": "execute_result"
    }
   ],
   "source": [
    "chisquare(f_obs=f_obs_A, f_exp=nA*f_exp_A)"
   ]
  },
  {
   "cell_type": "code",
   "execution_count": 27,
   "metadata": {},
   "outputs": [
    {
     "data": {
      "text/plain": [
       "Power_divergenceResult(statistic=2.443481833526205, pvalue=0.8747385507811434)"
      ]
     },
     "execution_count": 27,
     "metadata": {},
     "output_type": "execute_result"
    }
   ],
   "source": [
    "chisquare(f_obs=f_obs_B, f_exp=nB*f_exp_B)"
   ]
  },
  {
   "cell_type": "code",
   "execution_count": 28,
   "metadata": {},
   "outputs": [
    {
     "data": {
      "text/plain": [
       "6.562680550461027"
      ]
     },
     "execution_count": 28,
     "metadata": {},
     "output_type": "execute_result"
    }
   ],
   "source": [
    "T = 0 \n",
    "for k in range(len(f_obs_A)):\n",
    "    T += (f_obs_A[k] - nA*f_exp_A[k])**2/(nA*f_exp_A[k]) + (f_obs_B[k] - nB*f_exp_B[k])**2/(nB*f_exp_B[k])\n",
    "T"
   ]
  },
  {
   "cell_type": "markdown",
   "metadata": {},
   "source": [
    "## 5- Khi-2 Test without censorship "
   ]
  },
  {
   "cell_type": "code",
   "execution_count": 29,
   "metadata": {},
   "outputs": [],
   "source": [
    "def RunSimulation(law, nA, nB, lambd1, lambd2, P_A1, P_A2, P_B1, P_B2, direction):\n",
    "    #The model argument can be either \"Ryzhov\" or \"Maiboroda\"\n",
    "    P = np.array([[P_A1, P_A2], [P_B1, P_B2]])\n",
    "    # Samples\n",
    "    X_A = InitializeMatriceX(law=law, lambd1=lambd1, lambd2=lambd2, P_1=P_A1, size=nA)\n",
    "    X_B = InitializeMatriceX(law=law, lambd1=lambd1, lambd2=lambd2, P_1=P_B1, size=nB)\n",
    "    \n",
    "    #Kaplan-Meier estimators\n",
    "    Y_A = X_A\n",
    "    Y_A_ind = [True for i in range(len(Y_A))]\n",
    "    \n",
    "    Y_B = X_B\n",
    "    Y_B_ind = [True for i in range(len(Y_B))]\n",
    "\n",
    "    #Kaplan-Meier estimator\n",
    "    time_A, S_A_est = kaplan_meier_estimator(Y_A_ind, Y_A)\n",
    "    time_B, S_B_est = kaplan_meier_estimator(Y_B_ind, Y_B)\n",
    "    #Initialization of time1, t and M_inv\n",
    "    time1 = np.concatenate(([0],time_A, time_B))\n",
    "    time1.sort()\n",
    "    t=max(time_A[-1],time_B[-1])\n",
    "    #Interpolation of S_A_est and S_B_est\n",
    "    S_A_est = S_est_Actualisation(S_est=S_A_est, time=time_A, time1=time1, t=t)\n",
    "    S_B_est = S_est_Actualisation(S_est=S_B_est, time=time_B, time1=time1, t=t)\n",
    "    #Determination of S_1_est and S_2_est (following Ryzhov's method)\n",
    "    S_1_est = M_inv[0][0]*S_A_est + M_inv[0][1]*S_B_est\n",
    "    S_2_est = M_inv[1][0]*S_A_est + M_inv[1][1]*S_B_est\n",
    "    \n",
    "    #Observed durations\n",
    "    df_obs_A = pd.DataFrame(time_A, columns=[\"Duration\"])\n",
    "    df_obs_B = pd.DataFrame(time_B, columns=[\"Duration\"])\n",
    "    \n",
    "    #Breakdown of sick leaves by duration\n",
    "    df_duree = df_obs_A\n",
    "    df_duree[\"Duration group\"] = 0\n",
    "    for i in range(len(df_duree)):\n",
    "        if df_duree[\"Duration\"][i]>120:\n",
    "            df_duree[\"Duration group\"][i] = \">120 days\"\n",
    "        if df_duree[\"Duration\"][i]<=120:\n",
    "            df_duree[\"Duration group\"][i] = \"91-120 days\"\n",
    "        if df_duree[\"Duration\"][i]<=90:\n",
    "            df_duree[\"Duration group\"][i] = \"61-90 days\"\n",
    "        if df_duree[\"Duration\"][i]<=60:\n",
    "            df_duree[\"Duration group\"][i] = \"31-60 days\"\n",
    "        if df_duree[\"Duration\"][i]<=30:\n",
    "            df_duree[\"Duration group\"][i] = \"15-30 days\"\n",
    "        if df_duree[\"Duration\"][i]<=14:\n",
    "            df_duree[\"Duration group\"][i] = \"8-14 days\"\n",
    "        if df_duree[\"Duration\"][i]<=7:\n",
    "            df_duree[\"Duration group\"][i] = \"≤7 days\"\n",
    "    df_obs2_A = df_duree\n",
    "\n",
    "    #Breakdown of sick leaves by duration\n",
    "    df_duree = df_obs_B\n",
    "    df_duree[\"Duration group\"] = 0\n",
    "    for i in range(len(df_duree)):\n",
    "        if df_duree[\"Duration\"][i]>120:\n",
    "            df_duree[\"Duration group\"][i] = \">120 days\"\n",
    "        if df_duree[\"Duration\"][i]<=120:\n",
    "            df_duree[\"Duration group\"][i] = \"91-120 days\"\n",
    "        if df_duree[\"Duration\"][i]<=90:\n",
    "            df_duree[\"Duration group\"][i] = \"61-90 days\"\n",
    "        if df_duree[\"Duration\"][i]<=60:\n",
    "            df_duree[\"Duration group\"][i] = \"31-60 days\"\n",
    "        if df_duree[\"Duration\"][i]<=30:\n",
    "            df_duree[\"Duration group\"][i] = \"15-30 days\"\n",
    "        if df_duree[\"Duration\"][i]<=14:\n",
    "            df_duree[\"Duration group\"][i] = \"8-14 days\"\n",
    "        if df_duree[\"Duration\"][i]<=7:\n",
    "            df_duree[\"Duration group\"][i] = \"≤7 days\"\n",
    "    df_obs2_B = df_duree    \n",
    "    \n",
    "    BA = df_obs2_A.groupby(['Duration group'])['Duration'].count()\n",
    "    BB = df_obs2_B.groupby(['Duration group'])['Duration'].count()\n",
    "    \n",
    "    f_obs_A = np.array([BA[\"≤7 days\"], BA[\"8-14 days\"], BA[\"15-30 days\"], BA[\"31-60 days\"], BA[\"61-90 days\"], BA[\"91-120 days\"], BA[\">120 days\"]])\n",
    "    f_obs_B = np.array([BB[\"≤7 days\"], BB[\"8-14 days\"], BB[\"15-30 days\"], BB[\"31-60 days\"], BB[\"61-90 days\"], BB[\"91-120 days\"], BB[\">120 days\"]])\n",
    "    \n",
    "    #Khi 2 Test\n",
    "    T_A = 0 \n",
    "    T_B = 0\n",
    "    for k in range(len(f_obs_A)):\n",
    "        T_A += (f_obs_A[k] - nA*f_exp_A[k])**2/(nA*f_exp_A[k])\n",
    "        T_B += (f_obs_B[k] - nB*f_exp_B[k])**2/(nB*f_exp_B[k])\n",
    "    T = T_A + T_B\n",
    "       \n",
    "    return (T)"
   ]
  },
  {
   "cell_type": "code",
   "execution_count": 30,
   "metadata": {},
   "outputs": [],
   "source": [
    "def RunParallelSimulation(law, nA, nB, lambd1, lambd2, P_A1, P_A2, P_B1, P_B2, direction, K, NJobs=-1, Verbose=0, PreDispatch='2*n_jobs'):\n",
    "    \n",
    "    #Initialization of parallelization parameters\n",
    "    ParallelSetUp = Parallel(n_jobs=NJobs, verbose=Verbose, pre_dispatch=PreDispatch, prefer=\"threads\")\n",
    "    \n",
    "    #RunSimulation\n",
    "    ComputedBlocks = ParallelSetUp([delayed(RunSimulation)(law=law, nA=nA, nB=nB, lambd1=lambd1, lambd2=lambd2, P_A1=P_A1, P_A2=P_A2, P_B1=P_B1, P_B2=P_B2, direction = direction) for k in range(K)])\n",
    "\n",
    "    #Concatenation into array\n",
    "    List_T = np.array([T for T    in ComputedBlocks], dtype=np.dtype(object)) \n",
    "   \n",
    "    #return ComputedBlocks\n",
    "    return List_T"
   ]
  },
  {
   "cell_type": "markdown",
   "metadata": {},
   "source": [
    "#### Parameters choice"
   ]
  },
  {
   "cell_type": "code",
   "execution_count": 31,
   "metadata": {},
   "outputs": [],
   "source": [
    "#Simulations\n",
    "#Parameters choice (choose among \"exponnential\", \"pareto\", \"weibull\" and \"gamma\")\n",
    "law = \"exponnential\" \n",
    "\n",
    "#Sample sizes (we have chosen nA = nB but it is possible to change these parameters)\n",
    "n = 10000\n",
    "nA = round(n/2)\n",
    "nB = n - nA\n",
    "\n",
    "#Mixture parameters\n",
    "lambd1 = 50\n",
    "lambd2 = 30\n",
    "\n",
    "#Weight selection (note that we must have P_A1 + P_A2 = 1 and P_B1 + P_B2 = 1)\n",
    "P_A1 = 0.7\n",
    "P_A2 = 0.3\n",
    "P_B1 = 0.1\n",
    "P_B2 = 0.9\n",
    "\n",
    "#Threshold direction\n",
    "direction = 1\n"
   ]
  },
  {
   "cell_type": "code",
   "execution_count": 32,
   "metadata": {},
   "outputs": [
    {
     "name": "stdout",
     "output_type": "stream",
     "text": [
      "[[ 1.5        -0.5       ]\n",
      " [-0.16666667  1.16666667]]\n"
     ]
    }
   ],
   "source": [
    "#Inverted weight matrix\n",
    "M = np.array([[P_A1, P_A2],[P_B1, P_B2]])\n",
    "M_inv = np.linalg.inv(M)\n",
    "print(M_inv)"
   ]
  },
  {
   "cell_type": "markdown",
   "metadata": {},
   "source": [
    "#### Results of one simulation"
   ]
  },
  {
   "cell_type": "code",
   "execution_count": 33,
   "metadata": {},
   "outputs": [
    {
     "data": {
      "text/plain": [
       "9.622314287917447"
      ]
     },
     "execution_count": 33,
     "metadata": {},
     "output_type": "execute_result"
    }
   ],
   "source": [
    "RunSimulation(law, nA, nB, lambd1, lambd2, P_A1, P_A2, P_B1, P_B2, direction)"
   ]
  },
  {
   "cell_type": "markdown",
   "metadata": {},
   "source": [
    "#### Results of K simulations"
   ]
  },
  {
   "cell_type": "code",
   "execution_count": 34,
   "metadata": {},
   "outputs": [],
   "source": [
    "#Number of repetitions\n",
    "K = 1000"
   ]
  },
  {
   "cell_type": "code",
   "execution_count": 35,
   "metadata": {},
   "outputs": [],
   "source": [
    "List_T = RunParallelSimulation(law, nA, nB, lambd1, lambd2, P_A1, P_A2, P_B1, P_B2, direction, K, NJobs=-1, Verbose=0, PreDispatch='2*n_jobs')"
   ]
  },
  {
   "cell_type": "code",
   "execution_count": 36,
   "metadata": {},
   "outputs": [],
   "source": [
    "T = List_T.tolist()"
   ]
  },
  {
   "cell_type": "code",
   "execution_count": 38,
   "metadata": {},
   "outputs": [],
   "source": [
    "df = 12"
   ]
  },
  {
   "cell_type": "code",
   "execution_count": 39,
   "metadata": {},
   "outputs": [
    {
     "data": {
      "text/plain": [
       "Text(0.5, 1.0, 'Analytical vs. Estimated PDF of $T$')"
      ]
     },
     "execution_count": 39,
     "metadata": {},
     "output_type": "execute_result"
    },
    {
     "data": {
      "image/png": "[encoded data removed]",
      "text/plain": [
       "<Figure size 1440x720 with 1 Axes>"
      ]
     },
     "metadata": {
      "needs_background": "light"
     },
     "output_type": "display_data"
    }
   ],
   "source": [
    "#Graphical representation of the distribution\n",
    "dist = stats.chi2(df=df)\n",
    "x = np.linspace(start=stats.chi2.ppf(0.01, df), stop=stats.chi2.ppf(0.99, df), num=K)\n",
    "gkde = stats.gaussian_kde(dataset=T)\n",
    "\n",
    "fig, ax = plt.subplots(figsize=(20, 10)) \n",
    "ax.hist(T,bins=50, density=True, label=\"Distribution of the statistical test\")\n",
    "ax.plot(x, dist.pdf(x), linestyle='solid', c='#D86173', lw=3, alpha=0.8, label='Gaussian PDF')\n",
    "ax.plot(x, gkde.evaluate(x), linestyle='dashed', c='black', lw=2, label='PDF estimated via KDE')\n",
    "ax.legend(loc='best', frameon=False, fontsize = 15)\n",
    "ax.set_title('Analytical vs. Estimated PDF of $T$', fontsize = 25)"
   ]
  }
 ],
 "metadata": {
  "kernelspec": {
   "display_name": "Python 3",
   "language": "python",
   "name": "python3"
  },
  "language_info": {
   "codemirror_mode": {
    "name": "ipython",
    "version": 3
   },
   "file_extension": ".py",
   "mimetype": "text/x-python",
   "name": "python",
   "nbconvert_exporter": "python",
   "pygments_lexer": "ipython3",
   "version": "3.8.5"
  }
 },
 "nbformat": 4,
 "nbformat_minor": 4
}
