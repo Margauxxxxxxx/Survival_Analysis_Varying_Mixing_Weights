{
 "cells": [
  {
   "cell_type": "markdown",
   "metadata": {},
   "source": [
    "# Mean adequacy test applied to varying mixing weights models"
   ]
  },
  {
   "cell_type": "markdown",
   "metadata": {},
   "source": [
    "Margaux Thorez"
   ]
  },
  {
   "cell_type": "markdown",
   "metadata": {},
   "source": [
    "## 1- Contextualization"
   ]
  },
  {
   "cell_type": "markdown",
   "metadata": {},
   "source": [
    "We want to know whether the average of the durations of group $l$ is equal to a known reference value $m_0$. We will therefore test the conformity of the average $m_l$ of group $l$ with respect to $m_0$ :\n",
    "$$ H_0 : m_l = m_0   \\hspace{0.4cm}  \\mbox{vs}  \\hspace{0.4cm}  H_1 : m_l \\neq m_0. $$"
   ]
  },
  {
   "cell_type": "markdown",
   "metadata": {},
   "source": [
    "We can write the test statistic:\n",
    "$$ T_m' = \\frac{\\hat{m}_l - m_0}{\\sqrt{\\hat{V}'}},$$ with $\\hat{m}_l$ the mean estimated using the M-estimators.\n",
    "with $\\hat{m}_l$ the mean estimated using the M-estimators and $ \\hat{V}' = a_l(A)^2Var(\\hat{m}_A) + a_l(B)^2Var(\\hat{m}_B)$."
   ]
  },
  {
   "cell_type": "markdown",
   "metadata": {},
   "source": [
    "Under the null hypothesis $H_0$, the distribution of $T_m'$ asymptotically follows the standard Gaussian distribution, i.e. \n",
    "$$ T_m' \\xrightarrow[n\\rightarrow +\\infty ]{\\mathcal{L}} \\mathcal{N}(0,1).$$"
   ]
  },
  {
   "cell_type": "markdown",
   "metadata": {},
   "source": [
    "We will illustrate this result with a few simulations. In the case with censorship, this is not the good normalisation but it gives us an idea of the result. "
   ]
  },
  {
   "cell_type": "markdown",
   "metadata": {},
   "source": [
    "## 2- Libraries import"
   ]
  },
  {
   "cell_type": "code",
   "execution_count": 1,
   "metadata": {},
   "outputs": [],
   "source": [
    "#Libraries import\n",
    "#Basic librairies\n",
    "import numpy as np\n",
    "import pandas as pd\n",
    "import matplotlib.pyplot as plt\n",
    "from math import *\n",
    "from scipy import stats\n",
    "import random\n",
    "import statistics\n",
    "\n",
    "#scikit-survival Kaplan-Meier estimator\n",
    "from sksurv.nonparametric import kaplan_meier_estimator\n",
    "\n",
    "#Interpolation\n",
    "from scipy.interpolate import interp1d\n",
    "\n",
    "#CVXPY for convex optimization problems.\n",
    "import cvxpy as cp\n",
    "\n",
    "#Numba import\n",
    "from numba import njit, vectorize\n",
    "\n",
    "#Parallelization modules\n",
    "from sklearn.utils._joblib import Parallel, delayed\n",
    "\n",
    "#Kolmogorov-Smirnov Test\n",
    "from scipy.stats import ks_2samp\n",
    "from scipy.stats import kstest\n",
    "\n",
    "#Normality Test\n",
    "from scipy.stats import skew\n",
    "from scipy.stats import kurtosis\n",
    "\n",
    "from scipy.stats import norm\n",
    "from tqdm import tqdm\n",
    "\n",
    "#Notebook\n",
    "from jyquickhelper import add_notebook_menu\n",
    "import warnings\n",
    "warnings.filterwarnings('ignore')"
   ]
  },
  {
   "cell_type": "code",
   "execution_count": 2,
   "metadata": {},
   "outputs": [
    {
     "data": {
      "text/html": [
       "<div id=\"my_id_menu_nb\">run previous cell, wait for 2 seconds</div>\n",
       "<script>\n",
       "function repeat_indent_string(n){\n",
       "    var a = \"\" ;\n",
       "    for ( ; n > 0 ; --n)\n",
       "        a += \"    \";\n",
       "    return a;\n",
       "}\n",
       "// look up into all sections and builds an automated menu //\n",
       "var update_menu_string = function(begin, lfirst, llast, sformat, send, keep_item, begin_format, end_format) {\n",
       "    var anchors = document.getElementsByClassName(\"section\");\n",
       "    if (anchors.length == 0) {\n",
       "        anchors = document.getElementsByClassName(\"text_cell_render rendered_html\");\n",
       "    }\n",
       "    var i,t;\n",
       "    var text_menu = begin;\n",
       "    var text_memo = \"<pre>\\nlength:\" + anchors.length + \"\\n\";\n",
       "    var ind = \"\";\n",
       "    var memo_level = 1;\n",
       "    var href;\n",
       "    var tags = [];\n",
       "    var main_item = 0;\n",
       "    var format_open = 0;\n",
       "    for (i = 0; i <= llast; i++)\n",
       "        tags.push(\"h\" + i);\n",
       "\n",
       "    for (i = 0; i < anchors.length; i++) {\n",
       "        text_memo += \"**\" + anchors[i].id + \"--\\n\";\n",
       "\n",
       "        var child = null;\n",
       "        for(t = 0; t < tags.length; t++) {\n",
       "            var r = anchors[i].getElementsByTagName(tags[t]);\n",
       "            if (r.length > 0) {\n",
       "child = r[0];\n",
       "break;\n",
       "            }\n",
       "        }\n",
       "        if (child == null) {\n",
       "            text_memo += \"null\\n\";\n",
       "            continue;\n",
       "        }\n",
       "        if (anchors[i].hasAttribute(\"id\")) {\n",
       "            // when converted in RST\n",
       "            href = anchors[i].id;\n",
       "            text_memo += \"#1-\" + href;\n",
       "            // passer à child suivant (le chercher)\n",
       "        }\n",
       "        else if (child.hasAttribute(\"id\")) {\n",
       "            // in a notebook\n",
       "            href = child.id;\n",
       "            text_memo += \"#2-\" + href;\n",
       "        }\n",
       "        else {\n",
       "            text_memo += \"#3-\" + \"*\" + \"\\n\";\n",
       "            continue;\n",
       "        }\n",
       "        var title = child.textContent;\n",
       "        var level = parseInt(child.tagName.substring(1,2));\n",
       "\n",
       "        text_memo += \"--\" + level + \"?\" + lfirst + \"--\" + title + \"\\n\";\n",
       "\n",
       "        if ((level < lfirst) || (level > llast)) {\n",
       "            continue ;\n",
       "        }\n",
       "        if (title.endsWith('¶')) {\n",
       "            title = title.substring(0,title.length-1).replace(\"<\", \"&lt;\")\n",
       "         .replace(\">\", \"&gt;\").replace(\"&\", \"&amp;\");\n",
       "        }\n",
       "        if (title.length == 0) {\n",
       "            continue;\n",
       "        }\n",
       "\n",
       "        while (level < memo_level) {\n",
       "            text_menu += end_format + \"</ul>\\n\";\n",
       "            format_open -= 1;\n",
       "            memo_level -= 1;\n",
       "        }\n",
       "        if (level == lfirst) {\n",
       "            main_item += 1;\n",
       "        }\n",
       "        if (keep_item != -1 && main_item != keep_item + 1) {\n",
       "            // alert(main_item + \" - \" + level + \" - \" + keep_item);\n",
       "            continue;\n",
       "        }\n",
       "        while (level > memo_level) {\n",
       "            text_menu += \"<ul>\\n\";\n",
       "            memo_level += 1;\n",
       "        }\n",
       "        text_menu += repeat_indent_string(level-2);\n",
       "        text_menu += begin_format + sformat.replace(\"__HREF__\", href).replace(\"__TITLE__\", title);\n",
       "        format_open += 1;\n",
       "    }\n",
       "    while (1 < memo_level) {\n",
       "        text_menu += end_format + \"</ul>\\n\";\n",
       "        memo_level -= 1;\n",
       "        format_open -= 1;\n",
       "    }\n",
       "    text_menu += send;\n",
       "    //text_menu += \"\\n\" + text_memo;\n",
       "\n",
       "    while (format_open > 0) {\n",
       "        text_menu += end_format;\n",
       "        format_open -= 1;\n",
       "    }\n",
       "    return text_menu;\n",
       "};\n",
       "var update_menu = function() {\n",
       "    var sbegin = \"\";\n",
       "    var sformat = '<a href=\"#__HREF__\">__TITLE__</a>';\n",
       "    var send = \"\";\n",
       "    var begin_format = '<li>';\n",
       "    var end_format = '</li>';\n",
       "    var keep_item = -1;\n",
       "    var text_menu = update_menu_string(sbegin, 2, 4, sformat, send, keep_item,\n",
       "       begin_format, end_format);\n",
       "    var menu = document.getElementById(\"my_id_menu_nb\");\n",
       "    menu.innerHTML=text_menu;\n",
       "};\n",
       "window.setTimeout(update_menu,2000);\n",
       "            </script>"
      ],
      "text/plain": [
       "<IPython.core.display.HTML object>"
      ]
     },
     "execution_count": 2,
     "metadata": {},
     "output_type": "execute_result"
    }
   ],
   "source": [
    "add_notebook_menu()"
   ]
  },
  {
   "cell_type": "markdown",
   "metadata": {},
   "source": [
    "## 3- Base model - optimized functions"
   ]
  },
  {
   "cell_type": "code",
   "execution_count": 3,
   "metadata": {},
   "outputs": [],
   "source": [
    "#Function that creates the base sample in a mixture according to the chosen law\n",
    "def InitializeMatriceX(law, lambd1, lambd2, P_1, size):\n",
    "    #Matrices X_A1 and X_A2\n",
    "    if law == \"exponnential\":\n",
    "        X_1 = stats.expon.rvs(scale=lambd1, size=size)\n",
    "        X_2 = stats.expon.rvs(scale=lambd2, size=size)\n",
    "    if law == \"pareto\":\n",
    "        X_1_v1 = stats.pareto.rvs(b=3, size=size)\n",
    "        X_1 = (2/3)*lambd1*(X_1_v1-1)\n",
    "        X_2_v1 = stats.pareto.rvs(b=3, size=size)\n",
    "        X_2 = (2/3)*lambd2*(X_2_v1-1)\n",
    "    if law == \"weibull\":\n",
    "        X_1 = stats.weibull_min.rvs(c=2, scale=lambd1, size=size)\n",
    "        X_2 = stats.weibull_min.rvs(c=2, scale=lambd2, size=size)    \n",
    "    if law == \"gamma\" :\n",
    "        X_1 = stats.gamma.rvs(a=lambd1, size=size)\n",
    "        X_2 = stats.gamma.rvs(a=lambd2, size=size)\n",
    "    #Matrice RA\n",
    "    R = stats.bernoulli.rvs(P_1, size=size)\n",
    "    X = R*X_1 + (1-R)*X_2\n",
    "    return X"
   ]
  },
  {
   "cell_type": "code",
   "execution_count": 4,
   "metadata": {},
   "outputs": [],
   "source": [
    "#Function to include censorship\n",
    "@njit #(parallel=True)\n",
    "def Y_ind_Allocation(Y_ind, Y, C, X):\n",
    "    for i in range(len(X)):\n",
    "        if Y[i]<C[i]: \n",
    "            Y_ind[i]=True\n",
    "    return Y_ind"
   ]
  },
  {
   "cell_type": "code",
   "execution_count": 5,
   "metadata": {},
   "outputs": [],
   "source": [
    "def MonObjectif( m, echantillon, NbA, NbB, Aa, Ab ):\n",
    "    somme = 0\n",
    "    for i in range( len( echantillon ) ):\n",
    "        if ( i < NbA ):\n",
    "            somme += Aa * numpy.absolute( echantillon[ i ] - m ) / NbA\n",
    "        else:\n",
    "            somme += Ab * numpy.absolute( echantillon[ i ] - m )/ NbB\n",
    "    return somme   "
   ]
  },
  {
   "cell_type": "code",
   "execution_count": 6,
   "metadata": {},
   "outputs": [],
   "source": [
    "def Mmoyenne( m, echantillon, n ):\n",
    "    somme = 0\n",
    "    for i in range( len( echantillon ) ):\n",
    "        somme += ( echantillon[ i ] - m )**2 / n\n",
    "    return somme"
   ]
  },
  {
   "cell_type": "markdown",
   "metadata": {},
   "source": [
    "## 4- Mean adequacy Test without censorship "
   ]
  },
  {
   "cell_type": "code",
   "execution_count": 7,
   "metadata": {},
   "outputs": [],
   "source": [
    "def RunSimulation(law, nA, nB, lambd1, lambd2, P_A1, P_A2, P_B1, P_B2, m0):\n",
    "    P = np.array([[P_A1, P_A2], [P_B1, P_B2]])\n",
    "    # Samples\n",
    "    X_A = InitializeMatriceX(law=law, lambd1=lambd1, lambd2=lambd2, P_1=P_A1, size=nA)\n",
    "    X_B = InitializeMatriceX(law=law, lambd1=lambd1, lambd2=lambd2, P_1=P_B1, size=nB)\n",
    "    \n",
    "    #Kaplan-Meier estimators\n",
    "    Y_A = X_A\n",
    "    Y_A_ind = [True for i in range(len(Y_A))]\n",
    "    time_A, S_A_est = kaplan_meier_estimator(Y_A_ind, Y_A)\n",
    "    \n",
    "    sigmaA = statistics.variance(Y_A)\n",
    "    \n",
    "    Y_B = X_B\n",
    "    Y_B_ind = [True for i in range(len(Y_B))]\n",
    "    time_B, S_B_est = kaplan_meier_estimator(Y_B_ind, Y_B)\n",
    "    \n",
    "    sigmaB = statistics.variance(Y_B)\n",
    "    \n",
    "    #M_inv matrix in Rhyzov case\n",
    "    M_inv = np.linalg.inv(P)\n",
    "    \n",
    "    #Mean of group A\n",
    "    xinf = 0\n",
    "    xsup = 100\n",
    "    nbpts = 1000 + 1\n",
    "    x = np.linspace( xinf, xsup, nbpts )\n",
    "    ObjFctLow = 10000\n",
    "    mTempo = 0\n",
    "    for mtent in x:\n",
    "        ObjTempo = Mmoyenne( mtent, Y_A, nA)\n",
    "        if ObjTempo < ObjFctLow:\n",
    "            ObjFctLow = ObjTempo\n",
    "            mTempo = mtent\n",
    "    mA = mTempo\n",
    "    \n",
    "    #Mean of group B\n",
    "    xinf = 0\n",
    "    xsup = 100\n",
    "    nbpts = 1000 + 1\n",
    "    x = np.linspace( xinf, xsup, nbpts )\n",
    "    ObjFctLow = 10000\n",
    "    mTempo = 0\n",
    "    for mtent in x:\n",
    "        ObjTempo = Mmoyenne( mtent, Y_B, nB)\n",
    "        if ObjTempo < ObjFctLow:\n",
    "            ObjFctLow = ObjTempo\n",
    "            mTempo = mtent\n",
    "    mB = mTempo\n",
    "    \n",
    "    m1 = M_inv[0][0]*mA + M_inv[0][1]*mB    \n",
    "    \n",
    "    diff = (m1 - m0)/sqrt((M_inv[0][0])**2*(sigmaA/nA) + (M_inv[0][1])**2*(sigmaB/nB))\n",
    "    \n",
    "    return (diff)"
   ]
  },
  {
   "cell_type": "code",
   "execution_count": 8,
   "metadata": {},
   "outputs": [],
   "source": [
    "def RunParallelSimulation(law, nA, nB, lambd1, lambd2, P_A1, P_A2, P_B1, P_B2, m0,  K, NJobs=-1, Verbose=0, PreDispatch='2*n_jobs'):\n",
    "    \n",
    "    #Initialization of parallelization parameters\n",
    "    ParallelSetUp = Parallel(n_jobs=NJobs, verbose=Verbose, pre_dispatch=PreDispatch, prefer=\"threads\")\n",
    "    \n",
    "    #RunSimulation\n",
    "    ComputedBlocks = ParallelSetUp([delayed(RunSimulation)(law=law, nA=nA, nB=nB, lambd1=lambd1, lambd2=lambd2, P_A1=P_A1, P_A2=P_A2, P_B1=P_B1, P_B2=P_B2, m0=m0) for k in range(K)])\n",
    "\n",
    "    #Concatenation into array\n",
    "    List_results = np.array([diff for diff  in ComputedBlocks], dtype=np.dtype(object))\n",
    "\n",
    "    #return ComputedBlocks\n",
    "    return  List_results"
   ]
  },
  {
   "cell_type": "markdown",
   "metadata": {},
   "source": [
    "#### Parameters choice"
   ]
  },
  {
   "cell_type": "code",
   "execution_count": 9,
   "metadata": {},
   "outputs": [],
   "source": [
    "#Simulations\n",
    "#Parameters choice (choose among \"exponnential\", \"pareto\", \"weibull\" and \"gamma\")\n",
    "law = \"exponnential\" \n",
    "\n",
    "#Sample sizes (we have chosen nA = nB but it is possible to change these parameters)\n",
    "n = 10000\n",
    "nA = round(n/2)\n",
    "nB = n - nA\n",
    "\n",
    "#Mixture parameters\n",
    "lambd1 = 50\n",
    "lambd2 = 30\n",
    "\n",
    "#Weight selection (note that we must have P_A1 + P_A2 = 1 and P_B1 + P_B2 = 1)\n",
    "P_A1 = 0.7\n",
    "P_A2 = 0.3\n",
    "P_B1 = 0.1\n",
    "P_B2 = 0.9\n",
    "\n",
    "#Threshold direction\n",
    "direction = 1\n"
   ]
  },
  {
   "cell_type": "code",
   "execution_count": 10,
   "metadata": {},
   "outputs": [
    {
     "name": "stdout",
     "output_type": "stream",
     "text": [
      "[[ 1.5        -0.5       ]\n",
      " [-0.16666667  1.16666667]]\n"
     ]
    }
   ],
   "source": [
    "#Inverted weight matrix\n",
    "M = np.array([[P_A1, P_A2],[P_B1, P_B2]])\n",
    "M_inv = np.linalg.inv(M)\n",
    "print(M_inv)"
   ]
  },
  {
   "cell_type": "markdown",
   "metadata": {},
   "source": [
    "#### Determination of the a priori known law"
   ]
  },
  {
   "cell_type": "code",
   "execution_count": 11,
   "metadata": {},
   "outputs": [
    {
     "data": {
      "text/plain": [
       "49.96960436352111"
      ]
     },
     "execution_count": 11,
     "metadata": {},
     "output_type": "execute_result"
    }
   ],
   "source": [
    "n1 = int(P_A1*nA + P_B1*nB)\n",
    "List_m0 = [0 for k in range(1000)]\n",
    "for k in range(1000):\n",
    "    X_1 = InitializeMatriceX(law=law, lambd1=lambd1, lambd2=lambd2, P_1=1, size=n1)\n",
    "    List_m0[k] = np.mean(X_1)\n",
    "m0 = np.mean(List_m0)\n",
    "m0"
   ]
  },
  {
   "cell_type": "markdown",
   "metadata": {},
   "source": [
    "#### Results of one simulation"
   ]
  },
  {
   "cell_type": "code",
   "execution_count": 12,
   "metadata": {},
   "outputs": [
    {
     "data": {
      "text/plain": [
       "-0.32384003498146186"
      ]
     },
     "execution_count": 12,
     "metadata": {},
     "output_type": "execute_result"
    }
   ],
   "source": [
    "RunSimulation(law, nA, nB, lambd1, lambd2, P_A1, P_A2, P_B1, P_B2, m0)"
   ]
  },
  {
   "cell_type": "markdown",
   "metadata": {},
   "source": [
    "#### Results of K simulations"
   ]
  },
  {
   "cell_type": "code",
   "execution_count": 13,
   "metadata": {},
   "outputs": [],
   "source": [
    "#Number of repetitions\n",
    "K = 1000"
   ]
  },
  {
   "cell_type": "code",
   "execution_count": 14,
   "metadata": {},
   "outputs": [],
   "source": [
    "List_results = RunParallelSimulation(law, nA, nB, lambd1, lambd2, P_A1, P_A2, P_B1, P_B2, m0, K, NJobs=-1, Verbose=0, PreDispatch='2*n_jobs')"
   ]
  },
  {
   "cell_type": "code",
   "execution_count": 15,
   "metadata": {},
   "outputs": [],
   "source": [
    "List_results = List_results.tolist()"
   ]
  },
  {
   "cell_type": "code",
   "execution_count": 16,
   "metadata": {},
   "outputs": [
    {
     "data": {
      "text/plain": [
       "Text(0.5, 1.0, \"Analytical vs. Estimated PDF of $T_m'$\")"
      ]
     },
     "execution_count": 16,
     "metadata": {},
     "output_type": "execute_result"
    },
    {
     "data": {
      "image/png": "[encoded data removed]",
      "text/plain": [
       "<Figure size 1440x720 with 1 Axes>"
      ]
     },
     "metadata": {
      "needs_background": "light"
     },
     "output_type": "display_data"
    }
   ],
   "source": [
    "#Graphical representation of the distribution\n",
    "dist = stats.norm()\n",
    "x = np.linspace(start=stats.norm.ppf(0.01), stop=stats.norm.ppf(0.99), num=K)\n",
    "gkde = stats.gaussian_kde(dataset=List_results)\n",
    "\n",
    "fig, ax = plt.subplots(figsize=(20, 10)) \n",
    "ax.hist(List_results,bins=50, density=True, label=\"Distribution of the statistical test\")\n",
    "ax.plot(x, dist.pdf(x), linestyle='solid', c='#D86173', lw=3, alpha=0.8, label='Gaussian PDF')\n",
    "ax.plot(x, gkde.evaluate(x), linestyle='dashed', c='black', lw=2, label='PDF estimated via KDE')\n",
    "ax.legend(loc='best', frameon=False, fontsize = 15)\n",
    "ax.set_title(\"Analytical vs. Estimated PDF of $T_m'$\", fontsize = 25)"
   ]
  },
  {
   "cell_type": "code",
   "execution_count": 17,
   "metadata": {},
   "outputs": [
    {
     "name": "stdout",
     "output_type": "stream",
     "text": [
      "0.0105483072209399\n",
      "0.9636191373665718\n"
     ]
    }
   ],
   "source": [
    "#Compute mean of the statistic\n",
    "print(np.mean(List_results))\n",
    "\n",
    "#Compute variance of the statistic\n",
    "print(np.var(List_results))"
   ]
  },
  {
   "cell_type": "code",
   "execution_count": 18,
   "metadata": {},
   "outputs": [
    {
     "name": "stdout",
     "output_type": "stream",
     "text": [
      "-0.014930176277245064\n",
      "3.0605297895926777\n"
     ]
    }
   ],
   "source": [
    "# Calculate the skewness\n",
    "print(skew(List_results, axis=0, bias=True))\n",
    "\n",
    "# Calculate the kurtosis\n",
    "print(kurtosis(List_results, axis=0, fisher =  False, bias=True))"
   ]
  },
  {
   "cell_type": "code",
   "execution_count": 19,
   "metadata": {},
   "outputs": [
    {
     "data": {
      "text/plain": [
       "KstestResult(statistic=0.029780750581175797, pvalue=0.33119477861915736, statistic_location=0.0295342555933708, statistic_sign=-1)"
      ]
     },
     "execution_count": 19,
     "metadata": {},
     "output_type": "execute_result"
    }
   ],
   "source": [
    "#Perform Kolmogorov-Smirnov test for normality \n",
    "kstest(List_results, 'norm')"
   ]
  },
  {
   "cell_type": "markdown",
   "metadata": {},
   "source": [
    "## 5- Mean adequacy Test with censorship "
   ]
  },
  {
   "cell_type": "markdown",
   "metadata": {},
   "source": [
    "For now, we juste take into account the exponnentiel distribution to facilitate the computation of the expected median."
   ]
  },
  {
   "cell_type": "code",
   "execution_count": 28,
   "metadata": {},
   "outputs": [],
   "source": [
    "def RunSimulationCensorship(law, nA, nB, lambd1, lambd2, lambdC, P_A1, P_A2, P_B1, P_B2, m0):\n",
    "    #The model argument can be either \"Ryzhov\" or \"Maiboroda\"\n",
    "    P = np.array([[P_A1, P_A2], [P_B1, P_B2]])\n",
    "    # Samples\n",
    "    X_A = InitializeMatriceX(law=law, lambd1=lambd1, lambd2=lambd2, P_1=P_A1, size=nA)\n",
    "    X_B = InitializeMatriceX(law=law, lambd1=lambd1, lambd2=lambd2, P_1=P_B1, size=nB)\n",
    "    \n",
    "    #Initialization of matrices C_A and C_B\n",
    "    C_A = InitializeMatriceX(law=law, lambd1=lambdC, lambd2=lambdC, P_1=1, size=nA)\n",
    "    C_B = InitializeMatriceX(law=law, lambd1=lambdC, lambd2=lambdC, P_1=1, size=nB)\n",
    "    \n",
    "    #Kaplan-Meier estimators\n",
    "    #Independent copy of X_A and X_B\n",
    "    Y_A = X_A\n",
    "    Y_B = X_B\n",
    "    #Initializing Y_A_ind and Y_B_ind\n",
    "    Y_A_ind = np.full(shape=Y_A.shape, fill_value=False)\n",
    "    Y_B_ind = np.full(shape=Y_B.shape, fill_value=False)\n",
    "    #Updating Y_A_ind and Y_B_ind\n",
    "    Y_A = np.minimum(C_A, X_A)\n",
    "    Y_A_ind = Y_ind_Allocation(Y_ind=Y_A_ind, Y=Y_A, C=C_A, X=X_A)\n",
    "    Y_B = np.minimum(C_B, X_B)\n",
    "    Y_B_ind = Y_ind_Allocation(Y_ind=Y_B_ind, Y=Y_B, C=C_B, X=X_B)\n",
    "    \n",
    "    sigmaA = statistics.variance(Y_A)\n",
    "    sigmaB = statistics.variance(Y_B)\n",
    "\n",
    "    #M_inv matrix in Rhyzov case\n",
    "    M_inv = np.linalg.inv(P)\n",
    "    \n",
    "    #Mean of group A\n",
    "    xinf = 0\n",
    "    xsup = 100\n",
    "    nbpts = 1000 + 1\n",
    "    x = np.linspace( xinf, xsup, nbpts )\n",
    "    ObjFctLow = 10000\n",
    "    mTempo = 0\n",
    "    for mtent in x:\n",
    "        ObjTempo = Mmoyenne( mtent, Y_A, nA)\n",
    "        if ObjTempo < ObjFctLow:\n",
    "            ObjFctLow = ObjTempo\n",
    "            mTempo = mtent\n",
    "    mA = mTempo\n",
    "    \n",
    "    #Mean of group B\n",
    "    xinf = 0\n",
    "    xsup = 100\n",
    "    nbpts = 1000 + 1\n",
    "    x = np.linspace( xinf, xsup, nbpts )\n",
    "    ObjFctLow = 10000\n",
    "    mTempo = 0\n",
    "    for mtent in x:\n",
    "        ObjTempo = Mmoyenne( mtent, Y_B, nB)\n",
    "        if ObjTempo < ObjFctLow:\n",
    "            ObjFctLow = ObjTempo\n",
    "            mTempo = mtent\n",
    "    mB = mTempo\n",
    "    \n",
    "    m1 = M_inv[0][0]*mA + M_inv[0][1]*mB    \n",
    "    \n",
    "    diff = (m1 - m0)/sqrt((M_inv[0][0])**2*(sigmaA/nA) + (M_inv[0][1])**2*(sigmaB/nB))\n",
    "    \n",
    "    return (diff)"
   ]
  },
  {
   "cell_type": "code",
   "execution_count": 29,
   "metadata": {},
   "outputs": [],
   "source": [
    "def RunParallelSimulationCensorship(law, nA, nB, lambd1, lambd2, lambdC, P_A1, P_A2, P_B1, P_B2, m0, K, NJobs=-1, Verbose=0, PreDispatch='2*n_jobs'):\n",
    "    \n",
    "    #Initialization of parallelization parameters\n",
    "    ParallelSetUp = Parallel(n_jobs=NJobs, verbose=Verbose, pre_dispatch=PreDispatch, prefer=\"threads\")\n",
    "    \n",
    "    #RunSimulationCensorship\n",
    "    ComputedBlocks = ParallelSetUp([delayed(RunSimulationCensorship)(law=law, nA=nA, nB=nB, lambd1=lambd1, lambd2=lambd2, lambdC=lambdC, P_A1=P_A1, P_A2=P_A2, P_B1=P_B1, P_B2=P_B2, m0=m0) for k in range(K)])\n",
    "\n",
    "    #Concatenation into array\n",
    "    List_results = np.array([result for result in ComputedBlocks], dtype=np.dtype(object)) # peut etre que dtype array est approprié\n",
    "\n",
    "    #return ComputedBlocks\n",
    "    return List_results"
   ]
  },
  {
   "cell_type": "markdown",
   "metadata": {},
   "source": [
    "#### Parameters choice"
   ]
  },
  {
   "cell_type": "code",
   "execution_count": 30,
   "metadata": {},
   "outputs": [],
   "source": [
    "#Simulations\n",
    "#Parameters choice (choose among \"exponnential\", \"pareto\", \"weibull\" and \"gamma\")\n",
    "law = \"exponnential\" \n",
    "\n",
    "#Sample sizes (we have chosen nA = nB but it is possible to change these parameters)\n",
    "n = 10000\n",
    "nA = round(n/2)\n",
    "nB = n - nA\n",
    "\n",
    "#Mixture parameters\n",
    "lambd1 = 50\n",
    "lambd2 = 30\n",
    "\n",
    "#Censorship parameters\n",
    "lambdC = 500\n",
    "\n",
    "#Weight selection (note that we must have P_A1 + P_A2 = 1 and P_B1 + P_B2 = 1)\n",
    "P_A1 = 0.7\n",
    "P_A2 = 0.3\n",
    "P_B1 = 0.1\n",
    "P_B2 = 0.9\n",
    "\n",
    "#Threshold direction\n",
    "direction = 1\n"
   ]
  },
  {
   "cell_type": "code",
   "execution_count": 31,
   "metadata": {},
   "outputs": [
    {
     "name": "stdout",
     "output_type": "stream",
     "text": [
      "[[ 1.5        -0.5       ]\n",
      " [-0.16666667  1.16666667]]\n"
     ]
    }
   ],
   "source": [
    "#Inverted weight matrix\n",
    "M = np.array([[P_A1, P_A2],[P_B1, P_B2]])\n",
    "M_inv = np.linalg.inv(M)\n",
    "print(M_inv)"
   ]
  },
  {
   "cell_type": "code",
   "execution_count": 32,
   "metadata": {},
   "outputs": [
    {
     "data": {
      "text/plain": [
       "45.46245261320032"
      ]
     },
     "execution_count": 32,
     "metadata": {},
     "output_type": "execute_result"
    }
   ],
   "source": [
    "n1 = int(P_A1*nA + P_B1*nB)\n",
    "List_m0 = [0 for k in range(1000)]\n",
    "for k in range(1000):\n",
    "    X_1 = InitializeMatriceX(law=law, lambd1=lambd1, lambd2=lambd2, P_1=1, size=n1)\n",
    "    C_1 = InitializeMatriceX(law=law, lambd1=lambdC, lambd2=lambdC, P_1=1, size=n1)\n",
    "    Y_1 = np.minimum(C_1, X_1)\n",
    "    List_m0[k] = np.mean(Y_1)\n",
    "m0 = np.mean(List_m0)\n",
    "m0"
   ]
  },
  {
   "cell_type": "markdown",
   "metadata": {},
   "source": [
    "#### Results of one simulation"
   ]
  },
  {
   "cell_type": "code",
   "execution_count": 33,
   "metadata": {},
   "outputs": [
    {
     "data": {
      "text/plain": [
       "0.4229767681723791"
      ]
     },
     "execution_count": 33,
     "metadata": {},
     "output_type": "execute_result"
    }
   ],
   "source": [
    "RunSimulationCensorship(law, nA, nB, lambd1, lambd2, lambdC, P_A1, P_A2, P_B1, P_B2, m0)"
   ]
  },
  {
   "cell_type": "markdown",
   "metadata": {},
   "source": [
    "#### Results of K simulations"
   ]
  },
  {
   "cell_type": "code",
   "execution_count": 34,
   "metadata": {},
   "outputs": [],
   "source": [
    "#Number of repetitions\n",
    "K = 1000"
   ]
  },
  {
   "cell_type": "code",
   "execution_count": 35,
   "metadata": {},
   "outputs": [],
   "source": [
    "List_results= RunParallelSimulationCensorship(law, nA, nB, lambd1, lambd2, lambdC, P_A1, P_A2, P_B1, P_B2, m0, K, NJobs=-1, Verbose=0, PreDispatch='2*n_jobs')"
   ]
  },
  {
   "cell_type": "code",
   "execution_count": 36,
   "metadata": {},
   "outputs": [],
   "source": [
    "List_results = List_results.tolist()"
   ]
  },
  {
   "cell_type": "code",
   "execution_count": 37,
   "metadata": {},
   "outputs": [
    {
     "data": {
      "text/plain": [
       "Text(0.5, 1.0, \"Analytical vs. Estimated PDF of $T_m'$\")"
      ]
     },
     "execution_count": 37,
     "metadata": {},
     "output_type": "execute_result"
    },
    {
     "data": {
      "image/png": "[encoded data removed]",
      "text/plain": [
       "<Figure size 1440x720 with 1 Axes>"
      ]
     },
     "metadata": {
      "needs_background": "light"
     },
     "output_type": "display_data"
    }
   ],
   "source": [
    "#Graphical representation of the distribution\n",
    "dist = stats.norm()\n",
    "x = np.linspace(start=stats.norm.ppf(0.01), stop=stats.norm.ppf(0.99), num=K)\n",
    "gkde = stats.gaussian_kde(dataset=List_results)\n",
    "\n",
    "fig, ax = plt.subplots(figsize=(20, 10)) \n",
    "ax.hist(List_results,bins=50, density=True, label=\"Distribution of the statistical test\")\n",
    "ax.plot(x, dist.pdf(x), linestyle='solid', c='#D86173', lw=3, alpha=0.8, label='Gaussian PDF')\n",
    "ax.plot(x, gkde.evaluate(x), linestyle='dashed', c='black', lw=2, label='PDF estimated via KDE')\n",
    "ax.legend(loc='best', frameon=False, fontsize = 15)\n",
    "ax.set_title(\"Analytical vs. Estimated PDF of $T_m'$\", fontsize = 25)"
   ]
  },
  {
   "cell_type": "code",
   "execution_count": 38,
   "metadata": {},
   "outputs": [
    {
     "name": "stdout",
     "output_type": "stream",
     "text": [
      "-0.02513628766130363\n",
      "1.0294276786246284\n"
     ]
    }
   ],
   "source": [
    "#Compute mean of the statistic\n",
    "print(np.mean(List_results))\n",
    "\n",
    "#Compute variance of the statistic\n",
    "print(np.var(List_results))"
   ]
  },
  {
   "cell_type": "code",
   "execution_count": 39,
   "metadata": {},
   "outputs": [
    {
     "name": "stdout",
     "output_type": "stream",
     "text": [
      "-0.1427647350977432\n",
      "2.8787036723073336\n"
     ]
    }
   ],
   "source": [
    "#Calculate the skewness\n",
    "print(skew(List_results, axis=0, bias=True))\n",
    "\n",
    "#Calculate the kurtosis\n",
    "print(kurtosis(List_results, axis=0, fisher =  False, bias=True))"
   ]
  },
  {
   "cell_type": "code",
   "execution_count": 40,
   "metadata": {},
   "outputs": [
    {
     "data": {
      "text/plain": [
       "KstestResult(statistic=0.021668870194289272, pvalue=0.7271265793706667, statistic_location=-1.4028476993950858, statistic_sign=1)"
      ]
     },
     "execution_count": 40,
     "metadata": {},
     "output_type": "execute_result"
    }
   ],
   "source": [
    "#Perform Kolmogorov-Smirnov test for normality \n",
    "kstest(List_results, 'norm')"
   ]
  }
 ],
 "metadata": {
  "kernelspec": {
   "display_name": "Python 3",
   "language": "python",
   "name": "python3"
  },
  "language_info": {
   "codemirror_mode": {
    "name": "ipython",
    "version": 3
   },
   "file_extension": ".py",
   "mimetype": "text/x-python",
   "name": "python",
   "nbconvert_exporter": "python",
   "pygments_lexer": "ipython3",
   "version": "3.8.5"
  }
 },
 "nbformat": 4,
 "nbformat_minor": 4
}
